{
 "cells": [
  {
   "cell_type": "markdown",
   "metadata": {},
   "source": [
    "<center><font size=\"+4\">Programming & Data Analytics & AI 1 2022/2023</font></center>\n",
    "<center><font size=\"+2\">Sant'Anna School of Advanced Studies, Pisa, Italy</font></center>\n",
    "<center><img src=\"https://github.com/EMbeDS-education/StatsAndComputing20212022/raw/main/PDA/jupyter/jupyterNotebooks/images/SSSA.png\" width=\"700\" alt=\"EMbeDS\"></center>\n",
    "\n",
    "<center><font size=\"+2\">Course responsible</font></center>\n",
    "<center><font size=\"+2\">Andrea Vandin a.vandin@santannapisa.it</font></center>\n",
    "\n",
    "<center><font size=\"+2\">Co-lecturer (informally)</font></center>\n",
    "<center><font size=\"+2\">Daniele Licari d.licari@santannapisa.it</font></center>\n",
    "\n",
    "<center><font size=\"+2\">Teaching Assistant</font></center>\n",
    "<center><font size=\"+2\">Sima Sarv Ahrabi Sima.SarvAhrabi@santannapisa.it</font></center>\n",
    "\n",
    "---"
   ]
  },
  {
   "cell_type": "markdown",
   "metadata": {},
   "source": [
    "<center><font size=\"+4\">Lecture 4: Control and Repetition Statements</font><br/></center>\n",
    "<center><font size=\"+2\"> and CSV manipulation/visualization applied on COVID-19 data</font></center>"
   ]
  },
  {
   "cell_type": "markdown",
   "metadata": {},
   "source": [
    "---"
   ]
  },
  {
   "cell_type": "code",
   "execution_count": null,
   "metadata": {},
   "outputs": [],
   "source": [
    "from IPython.display import Image, display\n",
    "url_github_repo=\"https://github.com/EMbeDS-education/StatsAndComputing20222023/raw/main/PDAI/\"\n",
    "img=Image(url_github_repo+'slides/figures/calendarPDAI1.png',width=800)\n",
    "display(img)"
   ]
  },
  {
   "cell_type": "code",
   "execution_count": null,
   "metadata": {},
   "outputs": [],
   "source": [
    "img=Image(url_github_repo+'jupyter/jupyterNotebooks/images/kahootPooh.jpeg',width=700)\n",
    "display(img)"
   ]
  },
  {
   "cell_type": "code",
   "execution_count": null,
   "metadata": {},
   "outputs": [],
   "source": [
    "img=Image(url_github_repo+'jupyter/jupyterNotebooks/images/kahootGoose.jpeg',width=600)\n",
    "display(img)"
   ]
  },
  {
   "cell_type": "markdown",
   "metadata": {},
   "source": [
    "<font size=\"+2\"> How good are we so far - Kahoot quiz on previous class </font>\n",
    "* Using your phone or a different display go to [https://kahoot.it/](https://kahoot.it/)\n",
    "* Type the given PIN"
   ]
  },
  {
   "cell_type": "code",
   "execution_count": null,
   "metadata": {},
   "outputs": [],
   "source": [
    "from IPython.display import IFrame\n",
    "IFrame(\"https://kahoot.it/\", 500, 400)"
   ]
  },
  {
   "cell_type": "markdown",
   "metadata": {},
   "source": [
    "# Intro: we need to control at runtime the execution flow of our programs"
   ]
  },
  {
   "cell_type": "markdown",
   "metadata": {},
   "source": [
    "## We don't precisely do cooking recipes"
   ]
  },
  {
   "cell_type": "code",
   "execution_count": null,
   "metadata": {},
   "outputs": [],
   "source": [
    "print('Open moka')\n",
    "print('Rinse moka')\n",
    "print('Add water')\n",
    "print('Add coffee')\n",
    "print('Turn on fire')\n",
    "print('Dirnk coffee!')"
   ]
  },
  {
   "cell_type": "markdown",
   "metadata": {},
   "source": [
    "At the beginning of the course we made a parallel between cooking recipes and software programs.\n",
    "\n",
    "* A recipe is a list of instructions (or __statements__) to be executed in sequence. No decisions have to be taken.\n",
    "* When programming, it is very rare to deal with problems that require only such simple processing. \n",
    "\n",
    "Most of the times we need to write programs able to take decisions:\n",
    "* Depending on the input\n",
    "* Depending on the current values of certain variables in the program"
   ]
  },
  {
   "cell_type": "markdown",
   "metadata": {},
   "source": [
    "## Today"
   ]
  },
  {
   "cell_type": "markdown",
   "metadata": {},
   "source": [
    "In this lecture we will discuss the specific statements (aka control and repetition structures) necessary to:\n",
    "  * __IF__: Execute blocks of statements only if a certain condition holds\n",
    "  * __LOOP__: Execute blocks of statements several times as long a certain condition holds "
   ]
  },
  {
   "cell_type": "code",
   "execution_count": null,
   "metadata": {},
   "outputs": [],
   "source": [
    "print('Open moka')\n",
    "print('Rinse moka')\n",
    "print('Add water')\n",
    "print('Add coffee')\n",
    "print('Turn on fire')\n",
    "enough_sugar=input('Taste coffee. Enough sugar?')\n",
    "counter=0\n",
    "while enough_sugar!=\"OK\":\n",
    "    enough_sugar=input(' Taste coffee. Enough sugar?')\n",
    "    counter+=1\n",
    "    if counter>3:\n",
    "        print(' This became sugar with coffee rather than coffee with sugar... I terminate')\n",
    "        enough_sugar=\"OK\"\n",
    "print('Dirnk coffee!')"
   ]
  },
  {
   "cell_type": "markdown",
   "metadata": {},
   "source": [
    "Statements like `if` and loops (`while`, `for`) that contain _blocks of statements_\n",
    "* are known as [__compound statements__](https://docs.python.org/3/reference/compound_stmts.html)\n",
    "* affect/control the execution of those other statements in some way\n",
    "* where blocks are built using the _indentation rule_, as explained below. \n",
    "  * What matters are the spaces preceding a statement\n",
    "  * No explicit block delimiters like `{...}` are needed"
   ]
  },
  {
   "cell_type": "markdown",
   "metadata": {},
   "source": [
    "# If statement"
   ]
  },
  {
   "cell_type": "markdown",
   "metadata": {},
   "source": [
    "This section presents the various forms in which we can use the [`if` statement](https://docs.python.org/3/reference/compound_stmts.html#the-if-statement)"
   ]
  },
  {
   "cell_type": "markdown",
   "metadata": {},
   "source": [
    "## Choose whether executing a block or not"
   ]
  },
  {
   "cell_type": "markdown",
   "metadata": {},
   "source": [
    "In its simplest form, an `if` statement consists of\n",
    "* A __guard__: a Boolean expression (as presented in class 2 evaluated to either `True` or `False`)\n",
    "* A __body__: block of statements executed only if the guards evaluates to `True`"
   ]
  },
  {
   "cell_type": "code",
   "execution_count": null,
   "metadata": {},
   "outputs": [],
   "source": [
    "x=1\n",
    "y=2\n",
    "if x==y:\n",
    "    print('The first guard was satisfied')\n",
    "print('After the first if\\n')\n",
    "\n",
    "x=1\n",
    "y=1\n",
    "if x==y :\n",
    "    print('The second guard was satisfied')\n",
    "print('After the second if')"
   ]
  },
  {
   "cell_type": "markdown",
   "metadata": {},
   "source": [
    "> Pay attention to tabs/indentation! The body of the `if` is defined by the _indentation rule_"
   ]
  },
  {
   "cell_type": "code",
   "execution_count": null,
   "metadata": {},
   "outputs": [],
   "source": [
    "x=1\n",
    "y=2\n",
    "if x==y :\n",
    "    print('The guard was satisfied')\n",
    "    print('Still in the if!')\n",
    "print('Not in the if!')    "
   ]
  },
  {
   "cell_type": "markdown",
   "metadata": {},
   "source": [
    "## Choose which block to execute among two blocks"
   ]
  },
  {
   "cell_type": "markdown",
   "metadata": {},
   "source": [
    "What if we need to choose between executing two blocks of statements according to a condition?"
   ]
  },
  {
   "cell_type": "code",
   "execution_count": null,
   "metadata": {},
   "outputs": [],
   "source": [
    "deposit = 10\n",
    "withdraw = 6\n",
    "\n",
    "if deposit >= withdraw :\n",
    "    deposit-=withdraw\n",
    "    print('Withdrawing',withdraw,'succeeded. ') \n",
    "    print('We are left with',deposit)\n",
    "else:\n",
    "    missing = withdraw - deposit \n",
    "    actualWithdraw = deposit\n",
    "    deposit = 0\n",
    "    print('Withdrawing',withdraw,'failed. ')\n",
    "    print('We withdrew',actualWithdraw,'remaining with',deposit)"
   ]
  },
  {
   "cell_type": "code",
   "execution_count": null,
   "metadata": {},
   "outputs": [],
   "source": [
    "if deposit >= withdraw :\n",
    "    deposit-=withdraw\n",
    "    print('Withdrawing',withdraw,'succeeded. ') \n",
    "    print('We are left with',deposit)\n",
    "else:\n",
    "    missing = withdraw - deposit \n",
    "    actualWithdraw = deposit\n",
    "    deposit = 0\n",
    "    print('Withdrawing',withdraw,'failed. ')\n",
    "    print('We withdrew',actualWithdraw,'remaining with',deposit)"
   ]
  },
  {
   "cell_type": "markdown",
   "metadata": {},
   "source": [
    "> The copy-paste of code above is __bad practice__. We will see in the next class how to avoid it!"
   ]
  },
  {
   "cell_type": "markdown",
   "metadata": {},
   "source": [
    "## Choose wich block to execute among several blocks"
   ]
  },
  {
   "cell_type": "code",
   "execution_count": null,
   "metadata": {},
   "outputs": [],
   "source": [
    "print('The cappuccino law.')\n",
    "hour=int(input('What time is it (0-24)?'))\n",
    "if hour < 5 :\n",
    "    print('No. But some people have hot milk to help their sleep.')\n",
    "elif hour <= 11 :\n",
    "    print('You can safely have a cappuccino.')\n",
    "elif hour == 12 :\n",
    "    print(\"That's shady. Drink it quickly.\")\n",
    "elif hour <= 15 :\n",
    "    print('No way!')\n",
    "elif hour <= 20 :\n",
    "    print('No. But you can have hot milk if you are sick.')\n",
    "else:\n",
    "    print(\"No. But some people have hot milk before going to sleep.\")"
   ]
  },
  {
   "cell_type": "markdown",
   "metadata": {},
   "source": [
    "There can be:\n",
    "* 0, 1, or more `elif`\n",
    "  * take this branch if previous guards failed and this one passes\n",
    "* 0 or 1 `else`\n",
    "  * a sort of _default_ case taken if all other guards fail\n",
    "\n",
    "Of course, we can have nested `if`\n",
    "* The `else` and `elif` are matched to the correct `if` according to the indentation rule"
   ]
  },
  {
   "cell_type": "code",
   "execution_count": null,
   "metadata": {},
   "outputs": [],
   "source": [
    "n=int(input())\n",
    "if n >= 2 :\n",
    "    if n <= 5 :\n",
    "        print(n,'belongs to the interval [2,5]')\n",
    "    else :\n",
    "        print(n,'belongs to the interval (5,infinity)')\n",
    "else :\n",
    "    print(n,'belongs to the interval [0,2)')"
   ]
  },
  {
   "cell_type": "markdown",
   "metadata": {},
   "source": [
    "# Looping constructs"
   ]
  },
  {
   "cell_type": "markdown",
   "metadata": {},
   "source": [
    "A basic __`if`__ statement can be used to\n",
    "* decide whether executing a block __0 times or 1 time__\n",
    "\n",
    "A looping construct (__`while`__,__`for`__) is like a basic `if`, but can be used to\n",
    "* decide whether executing a block \n",
    "  - __0 times__, \n",
    "  - __1 time__, \n",
    "  - __2 times__, \n",
    "  - __3 times__, \n",
    "  - __4 times__ \n",
    "  - ..."
   ]
  },
  {
   "cell_type": "markdown",
   "metadata": {},
   "source": [
    "## While loops"
   ]
  },
  {
   "cell_type": "markdown",
   "metadata": {},
   "source": [
    "We begin with [while loops](https://docs.python.org/3/reference/compound_stmts.html#the-while-statement)\n",
    "* showing how we can use them to compute the _factorial_ of a number: $n! = n\\cdot(n-1)\\cdot(n-2)\\cdot\\ldots\\cdot1$"
   ]
  },
  {
   "cell_type": "code",
   "execution_count": null,
   "metadata": {},
   "outputs": [],
   "source": [
    "nstr = input('Give me a (small) number. I will compute its factorial')\n",
    "n=int(nstr)\n",
    "\n",
    "fact=n\n",
    "while n >1:\n",
    "    n-=1 #n=n-1\n",
    "    #fact*=n \n",
    "    fact = fact*n\n",
    "print('The factorial of',nstr,'is',fact)"
   ]
  },
  {
   "cell_type": "markdown",
   "metadata": {},
   "source": [
    "How to \n",
    "- _echo_ lines from console \n",
    "- as long as the user does not type `'end'`?"
   ]
  },
  {
   "cell_type": "code",
   "execution_count": null,
   "metadata": {},
   "outputs": [],
   "source": [
    "line = ''\n",
    "while line != 'end':\n",
    "    line = input('Next line:')\n",
    "    print(line.upper())\n",
    "print('Bye!')"
   ]
  },
  {
   "cell_type": "markdown",
   "metadata": {},
   "source": [
    "We can modify the execution flow within an iteration using\n",
    "* `break` interrupts the current iteration and exits the loop\n",
    "* `continue` interrupts the current iteration and go to the next iteration\n",
    "\n",
    "Let's print only non-numeric strings until we get `'end'`"
   ]
  },
  {
   "cell_type": "code",
   "execution_count": null,
   "metadata": {},
   "outputs": [],
   "source": [
    "from IPython.display import Image, display\n",
    "img=Image(url_github_repo+'jupyter/jupyterNotebooks/images/breakContinue.png',width=500)\n",
    "display(img)"
   ]
  },
  {
   "cell_type": "code",
   "execution_count": null,
   "metadata": {},
   "outputs": [],
   "source": [
    "#Echo without printing `'end'`\n",
    "line = ''\n",
    "while True :\n",
    "    line = input('Next line:')\n",
    "    if line == 'end':\n",
    "        break\n",
    "    print(line.upper())\n",
    "print('Bye!')"
   ]
  },
  {
   "cell_type": "code",
   "execution_count": null,
   "metadata": {},
   "outputs": [],
   "source": [
    "#Echo without printing `'end'` and without printing numbers\n",
    "line = ''\n",
    "while True :\n",
    "    line = input('Next line:')\n",
    "    if line == 'end' :\n",
    "        break\n",
    "    elif line.isnumeric():\n",
    "        continue\n",
    "    print(line.upper())\n",
    "print('Bye!')"
   ]
  },
  {
   "cell_type": "markdown",
   "metadata": {},
   "source": [
    "For pedagogical reasons, we gave solutions with `continue` and `break`. \n",
    "- In reality, I would have done it differently, using a more intuitive/simpler approach.\n",
    "\n",
    "For example, we can get 'echo without printing `end`' by \n",
    "* just anticipating the first `input()` before the loop \n",
    "* moving the input from inside the loop to the end of the loop: \n",
    "  * each iteration reads the value for the next iteration\n",
    "\n",
    "> You should always think carefully about how to write your programs, always choosing the __simplest approach__.\n"
   ]
  },
  {
   "cell_type": "code",
   "execution_count": null,
   "metadata": {},
   "outputs": [],
   "source": [
    "#Echo without printing `'end'`\n",
    "line = input('Next line:')\n",
    "while line!='end' :\n",
    "    print(line.upper())\n",
    "    line = input('Next line:')\n",
    "print('Bye!')"
   ]
  },
  {
   "cell_type": "markdown",
   "metadata": {},
   "source": [
    "While loops can have as well an `else` branch, \n",
    "* The block of the `else` branch is executed the first time the guard evaluates to `False`\n",
    "    * but **it is not executed** if the cycle terminated due to a `break`\n",
    "* We __discourage__ the use of this because \n",
    "  * It does not add much to the expressiveness\n",
    "  * It is not particularly intuitive\n",
    "  * Might lead to bugs (not executed if the loop terminates due to a `break`)"
   ]
  },
  {
   "cell_type": "code",
   "execution_count": null,
   "metadata": {},
   "outputs": [],
   "source": [
    "#Echo without printing `'end'`\n",
    "stop = False\n",
    "while not stop :\n",
    "    print('Loop body')\n",
    "    stop = True\n",
    "    break\n",
    "else :\n",
    "    print('Else branch')\n",
    "print('Bye!')"
   ]
  },
  {
   "cell_type": "markdown",
   "metadata": {},
   "source": [
    "## For loops"
   ]
  },
  {
   "cell_type": "markdown",
   "metadata": {},
   "source": [
    "We now look at [`for` loops](https://docs.python.org/3/reference/compound_stmts.html#the-for-statement)\n",
    "* They have pretty much the same expressive power of while loops, \n",
    "  * but `for` makes it easier the coding of certain computations\n",
    "* The `for` is useful when\n",
    "  * you have to iterate over a collection\n",
    "  * you know in advance the number `n` of iterations you need\n",
    "    * You obtain this using the collection `range(n)`"
   ]
  },
  {
   "cell_type": "markdown",
   "metadata": {},
   "source": [
    "### Basic usage"
   ]
  },
  {
   "cell_type": "code",
   "execution_count": null,
   "metadata": {},
   "outputs": [],
   "source": [
    "lst2=[0]*10\n",
    "for i in range(10):\n",
    "    lst2[i]=i*2\n",
    "    print(i*2)\n",
    "print(lst2)"
   ]
  },
  {
   "cell_type": "code",
   "execution_count": null,
   "metadata": {},
   "outputs": [],
   "source": [
    "for c in 'ciao':\n",
    "    print(c)"
   ]
  },
  {
   "cell_type": "markdown",
   "metadata": {},
   "source": [
    "Intuitively, **a for loop is not so different from a list comprehension**\n",
    "* But they are very different constructs. \n",
    "    * List comprehensions can be used as an expression to be assigned.\n",
    "        - for loops can't\n",
    "    * For loops can do much more than (just) creating lists\n",
    "        - List comprehensions can only create lists "
   ]
  },
  {
   "cell_type": "code",
   "execution_count": null,
   "metadata": {},
   "outputs": [],
   "source": [
    "rng = range(9)\n",
    "lst = [i*2 for i in rng]\n",
    "print(lst)\n",
    "\n",
    "lst2=[]\n",
    "for i in rng:\n",
    "    lst2.append(i*2)\n",
    "print(lst2)"
   ]
  },
  {
   "cell_type": "markdown",
   "metadata": {},
   "source": [
    "Rule of thumb: \n",
    "* Whenever you do simple iterations on the elements of a collection to create a new one \n",
    "  * __use list/set/dictionary comprehensions__. They are more efficient!\n",
    "* Whenever you have to do more operations, e.g. execute more statements in each iteration\n",
    "  * use for loops"
   ]
  },
  {
   "cell_type": "code",
   "execution_count": null,
   "metadata": {},
   "outputs": [],
   "source": [
    "for i in range(10):\n",
    "    print('Hello')\n",
    "    print('How are you?')\n",
    "    print('...')\n",
    "    print('The square of',i,'is',i**2)\n",
    "    print()"
   ]
  },
  {
   "cell_type": "markdown",
   "metadata": {},
   "source": [
    "### Nested loops"
   ]
  },
  {
   "cell_type": "markdown",
   "metadata": {},
   "source": [
    "Let's create a 3x3 matrix containing random values from 0 to 1"
   ]
  },
  {
   "cell_type": "markdown",
   "metadata": {},
   "source": [
    "The following code samples 10 random numbers in [0,1]"
   ]
  },
  {
   "cell_type": "code",
   "execution_count": null,
   "metadata": {},
   "outputs": [],
   "source": [
    "import random\n",
    "for i in range(10):\n",
    "    print(random.random())"
   ]
  },
  {
   "cell_type": "code",
   "execution_count": null,
   "metadata": {},
   "outputs": [],
   "source": [
    "n_rows = 3\n",
    "n_cols = 3\n",
    "\n",
    "matrix = [   [ random.random() for c in range(n_cols) ] for r in range(n_rows)   ]\n",
    "print(matrix)\n",
    "print()\n",
    "\n",
    "#Let's pretty-print the created matrix\n",
    "for r in range(n_rows) :\n",
    "    for c in range(n_cols) :\n",
    "        val = '{:.2f}'.format(matrix[r][c])\n",
    "        print(val,' ',end=\"\")\n",
    "    print()\n",
    "#help(print)"
   ]
  },
  {
   "cell_type": "code",
   "execution_count": null,
   "metadata": {},
   "outputs": [],
   "source": [
    "'{:7.2f}'.format(123.1234)"
   ]
  },
  {
   "cell_type": "code",
   "execution_count": null,
   "metadata": {},
   "outputs": [],
   "source": [
    "#Let's compute some quantities on the matrix\n",
    "maxm=-1 #the maximum value\n",
    "minm=2  #the minimum value\n",
    "summ=0  #the sum of the values in the matrix\n",
    "for r in range(n_rows) :\n",
    "    for c in range(n_cols) :\n",
    "        if matrix[r][c] > maxm :\n",
    "            maxm = matrix[r][c]\n",
    "        if matrix[r][c] < minm :\n",
    "            minm = matrix[r][c]\n",
    "        summ+=matrix[r][c]\n",
    "\n",
    "print('Sum {:.2f}, Min {:.4f}, Max {}'.format(summ,minm,maxm))"
   ]
  },
  {
   "cell_type": "markdown",
   "metadata": {},
   "source": [
    "Did you notice\n",
    "- `'Sum {:.2f}, Min {:.4f}, Max {}'.format(summ,minm,maxm)`\n",
    "\n",
    "These are examples of __string formatting__\n",
    "- It can be convenient. [Take a look at further options](https://realpython.com/python-string-formatting/)"
   ]
  },
  {
   "cell_type": "markdown",
   "metadata": {},
   "source": [
    "### Iterating over more collections at once ...\n",
    "- Do you remember `zip`!?"
   ]
  },
  {
   "cell_type": "code",
   "execution_count": null,
   "metadata": {},
   "outputs": [],
   "source": [
    "numbers=\"12345\"\n",
    "vowels =\"aeiou\"\n",
    "for (n,v) in zip(numbers,vowels):\n",
    "    print(n,v)"
   ]
  },
  {
   "cell_type": "markdown",
   "metadata": {},
   "source": [
    "### Two subtleties on the `for` loop"
   ]
  },
  {
   "cell_type": "markdown",
   "metadata": {},
   "source": [
    "Two subtleties on the `for` loop from [here](https://docs.python.org/3/reference/compound_stmts.html#the-for-statement)\n",
    "* In our opinion it is not good practice to use these two features below, \n",
    "  - but you have to know about them to defend against them ;)\n",
    "* In particular, you should __avoid 2__. \n",
    "  - It makes the code much more difficult to read and debug"
   ]
  },
  {
   "cell_type": "code",
   "execution_count": null,
   "metadata": {},
   "outputs": [],
   "source": [
    "print('Subtlety 1: NEVER update the value of the iterating variable')\n",
    "for i in range(1,4):\n",
    "    print(i)\n",
    "    i = i*i # <---------------------- AVOID THIS!\n",
    "    print('Square value is',i)\n",
    "    print()"
   ]
  },
  {
   "cell_type": "markdown",
   "metadata": {},
   "source": [
    "As you can see\n",
    "* We can modify the variable `i` in an iteration. But this does not affect the next iterations: \n",
    "  - a new value will be assigned to `i` by the loop.\n",
    "* You should better use a different ad-hoc variable\n",
    "    "
   ]
  },
  {
   "cell_type": "code",
   "execution_count": null,
   "metadata": {},
   "outputs": [],
   "source": [
    "print('Subtlety 2: NEVER modifiy the list on which you are iterating')\n",
    "#DON\"T DO THIS!\n",
    "lst = [1,2,3,4]\n",
    "for i in lst :\n",
    "    print(i)\n",
    "    if i==2:\n",
    "        lst.remove(i) # <---------------------- AVOID THIS!\n",
    "print(\"NEVER DO SOMETHING LIKE THIS!!! \\nOr you will regret it when spending hours trying to debug/understand your code.\\n\")\n",
    "#[1,2,3,4]\n",
    "#[1,3,4]\n",
    "print('Removing 2 has the side effect of not printing 3...')"
   ]
  },
  {
   "cell_type": "markdown",
   "metadata": {},
   "source": [
    "Did you notice what happened?\n",
    "* The element `3` has been skipped. Why?\n",
    "* Because it is after the element we removed. \n",
    "  - __Ok, but why?__\n",
    "* Because: \n",
    "  * The `for` loop has an internal counter to remember the current position in the list it is iterating.\n",
    "  * When we removed `2`, `3` got the position in the list previously occupied by `2`\n",
    "  * Therefore the `for` loop erroneously believed to have already processed `3` and went to the next element (`4`)."
   ]
  },
  {
   "cell_type": "markdown",
   "metadata": {},
   "source": [
    "Similarly to the `while` statement, the `for` supports\n",
    "* `continue`\n",
    "* `break`\n",
    "* `else`"
   ]
  },
  {
   "cell_type": "markdown",
   "metadata": {},
   "source": [
    "# Application to the official Italian COVID-19 data"
   ]
  },
  {
   "cell_type": "markdown",
   "metadata": {},
   "source": [
    "You might know that Protezione Civile publishes every day data on the status of the COVID-19 epidemy in Italy"
   ]
  },
  {
   "cell_type": "code",
   "execution_count": null,
   "metadata": {},
   "outputs": [],
   "source": [
    "from IPython.display import IFrame\n",
    "IFrame(\"http://opendatadpc.maps.arcgis.com/apps/opsdashboard/index.html#/b0c68bce2cce478eaac82fe38d4138b1\", 900, 700)"
   ]
  },
  {
   "cell_type": "markdown",
   "metadata": {},
   "source": [
    "By following the 'CSV' link in the bottom-right of the page, we can download several data in CSV format.\n",
    "* For example, [this link](https://github.com/pcm-dpc/COVID-19/blob/master/dati-andamento-nazionale/dpc-covid19-ita-andamento-nazionale.csv) points to the latest information at national level\n",
    "\n",
    "We are going to see next how `if` and `loops` can be used to perform easy manipulations on these data. \n",
    "* For easiness of distribution of this document, we downloaded a copy of this file updated on \n",
    "  * Friday the 8th of May 2020\n",
    "    * The file is available [here](https://github.com/EMbeDS-education/StatsAndComputing20222023/raw/main/PDAI/jupyter/jupyterNotebooks/csv/covid19/dpc-covid19-ita-andamento-nazionale_08_05_2020.csv). \n",
    "  * Friday the 26th of February 2021\n",
    "    * The file is available [here](https://github.com/EMbeDS-education/StatsAndComputing20222023/raw/main/PDAI/jupyter/jupyterNotebooks/csv/covid19/dpc-covid19-ita-andamento-nazionale_26_02_2021.csv).  \n",
    "  * Thursday the 24th of June 2021\n",
    "    * The file is available [here](https://github.com/EMbeDS-education/StatsAndComputing20222023/raw/main/PDAI/jupyter/jupyterNotebooks/csv/covid19/dpc-covid19-ita-andamento-nazionale_24_06_2021.csv).\n",
    "  * Sunday the 20th of June 2022\n",
    "    * The file is available [here](https://github.com/EMbeDS-education/StatsAndComputing20222023/raw/main/PDAI/jupyter/jupyterNotebooks/csv/covid19/dpc-covid19-ita-andamento-nazionale_20_02_2022.csv).\n",
    "  * Monday the 16th of January 2023    \n",
    "    * The file is available [here](https://github.com/EMbeDS-education/StatsAndComputing20222023/raw/main/PDAI/jupyter/jupyterNotebooks/csv/covid19/dpc-covid19-ita-andamento-nazionale_16_01_2023.csv)\n",
    "* Please download the files from our wiki page for notebooks, and store them in folder _csv/covid19_"
   ]
  },
  {
   "cell_type": "markdown",
   "metadata": {},
   "source": [
    "> For __pedagogical reasons__, we will not use yet advanced libraries for loading and manipulating this data (numpy, pandas)\n",
    ">  * This will make more evident the role of `if` and `for`, and how to read files\n",
    ">  * This is good to help you understanding that there is no magic in programming\n",
    "\n",
    "> During the last class of the course (and during M2)\n",
    ">  * We will fully unleash the potential of python in doing these tasks"
   ]
  },
  {
   "cell_type": "markdown",
   "metadata": {},
   "source": [
    "## Import the necessary modules"
   ]
  },
  {
   "cell_type": "markdown",
   "metadata": {},
   "source": [
    "First of all, we need to import two required libraries. \n",
    "* The first time you run this code, you might need to install these libraries"
   ]
  },
  {
   "cell_type": "code",
   "execution_count": null,
   "metadata": {},
   "outputs": [],
   "source": [
    "#import sys\n",
    "#!\"{sys.executable}\" -m pip install matplotlib\n",
    "\n",
    "%pip install matplotlib"
   ]
  },
  {
   "cell_type": "code",
   "execution_count": null,
   "metadata": {},
   "outputs": [],
   "source": [
    "import csv\n",
    "import matplotlib.pyplot as plt"
   ]
  },
  {
   "cell_type": "markdown",
   "metadata": {},
   "source": [
    "In particular\n",
    "* `csv` is a Python library offering functionalities to load CSV files. Find more [here](https://docs.python.org/3/library/csv.html)\n",
    "   - For those of you following M2, you will find out that there exists a Python library (Pandas) which makes handling of CSV files much easier\n",
    "   - We study here this library for pedagogical reasons\n",
    "* `matlplotlib` is a Python library for creating plots. Find more [here](https://matplotlib.org/)\n",
    "   * We already used this library in the previous class"
   ]
  },
  {
   "cell_type": "markdown",
   "metadata": {
    "tags": []
   },
   "source": [
    "## Load the data of interest"
   ]
  },
  {
   "cell_type": "code",
   "execution_count": null,
   "metadata": {},
   "outputs": [],
   "source": [
    "#fileName='csv/covid19/dpc-covid19-ita-andamento-nazionale_26_02_2021.csv'\n",
    "#fileName='csv/covid19/dpc-covid19-ita-andamento-nazionale_24_06_2021.csv'\n",
    "#fileName='csv/covid19/dpc-covid19-ita-andamento-nazionale_20_02_2022.csv'\n",
    "fileName='csv/covid19/dpc-covid19-ita-andamento-nazionale_16_01_2023.csv'"
   ]
  },
  {
   "cell_type": "markdown",
   "metadata": {},
   "source": [
    "We first just access the file, and print its rows"
   ]
  },
  {
   "cell_type": "code",
   "execution_count": null,
   "metadata": {},
   "outputs": [],
   "source": [
    "#I want to 'open' a csvfile to 'r'ead it\n",
    "#  For the time being, ignore the with statement. \n",
    "#  Assume it does: csvfile = open(fileName, 'r')\n",
    "#  I will tell you more on this in two classes from now\n",
    "with open(fileName, 'r') as csvfile:\n",
    "    #Intuitively, \n",
    "    #  `csv` allows us to read csv files row by row.\n",
    "    #  `rows` is a list of rows in the file. \n",
    "    #   Each row is in turn a list of strings containing one entry per column\n",
    "    rows = csv.reader(csvfile, delimiter=',')\n",
    "    \n",
    "    #We load the header of the file in the list `header`\n",
    "    header = next(rows,None)\n",
    "    print(\"We have the following columns:\")\n",
    "    print(header)\n",
    "    print()\n",
    "    \n",
    "    r=0\n",
    "    for row in rows :\n",
    "        print(\"Row\",r)\n",
    "        print(row)\n",
    "        print()\n",
    "        r+=1\n",
    "        if r>10:\n",
    "            break\n"
   ]
  },
  {
   "cell_type": "markdown",
   "metadata": {},
   "source": [
    "We now extract 4 data of interest from each row\n",
    "- We use 3 different approaches"
   ]
  },
  {
   "cell_type": "code",
   "execution_count": null,
   "metadata": {},
   "outputs": [],
   "source": [
    "#I want to 'open' a csvfile to 'r'ead it\n",
    "#  For the time being, ignore the with statement. \n",
    "#  Assume it does: csvfile = open(fileName, 'r')\n",
    "#  I will tell you more on this in two classes from now\n",
    "with open(fileName, 'r') as csvfile:\n",
    "    #Intuitively, \n",
    "    #  `csv` allows us to read csv files row by row.\n",
    "    #  `rows` is a list of rows in the file. \n",
    "    #   Each row is in turn a list of strings containing one entry per column\n",
    "    rows = csv.reader(csvfile, delimiter=',')\n",
    "    \n",
    "    #We load the header of the file in the list `header`\n",
    "    header = next(rows,None)\n",
    "    #print(header)\n",
    "    \n",
    "    #Let's get the data of interest ... using 3 approaches\n",
    "    labels_of_interest = ['terapia_intensiva', 'totale_casi'   , 'totale_positivi'   , 'tamponi'  ]\n",
    "    labels_en =          ['Intensive care'   , 'Total infected', 'Currently infected', 'Swab/tests']\n",
    "    \n",
    "    ####################################################################################\n",
    "    #First of all we identify the index (the column position) of each data of interest.\n",
    "    # We do that in 3 ways\n",
    "    ####################################################################################\n",
    "    \n",
    "    #1) Using a for loop\n",
    "    label_to_column = dict()\n",
    "    column = 0\n",
    "    for label in header :\n",
    "        if label in labels_of_interest:\n",
    "            #I have found a label of interest\n",
    "            label_to_column[label]=column\n",
    "            #We exit the loop as soon as we have considered all labels of interest\n",
    "            if len(label_to_column) == len(labels_of_interest) :\n",
    "                break\n",
    "        column += 1\n",
    "    #print(label_to_column)\n",
    "    \n",
    "    #2) Using a while loop\n",
    "    label_to_column2 = dict()\n",
    "    column = 0\n",
    "    while len(label_to_column2) != len(labels_of_interest) :\n",
    "        label = header[column]\n",
    "        if label in labels_of_interest:\n",
    "            label_to_column2[label]=column\n",
    "        column+=1\n",
    "    #print(label_to_column2)\n",
    "    \n",
    "    #3) Using dictionary comprehension\n",
    "    # This is the 'best' and most pythonic approach among the three\n",
    "    label_to_column3 = { label : header.index(label) for label in header if label in labels_of_interest }\n",
    "    #print(label_to_column3)  \n",
    "    \n",
    "    #print(label_to_column==label_to_column2==label_to_column3)\n",
    "    \n",
    "    print(\"In which columns are the data of interest!?\")\n",
    "    print(label_to_column3)\n",
    "    print()\n",
    "    \n",
    "    \n",
    "    ##################################################\n",
    "    #We can now iterate over all rows to load the data\n",
    "    ##################################################\n",
    "    \n",
    "    intensive_care = []\n",
    "    total_infected = []\n",
    "    currently_infected = []    \n",
    "    tests = []\n",
    "    #We put these lists in another list to simplify the for loop below\n",
    "    loadedData = [intensive_care,total_infected,currently_infected,tests]\n",
    "\n",
    "    for row in rows :\n",
    "        l=0\n",
    "        for label in labels_of_interest:\n",
    "            column = label_to_column[label]\n",
    "            data = row[column]\n",
    "            loadedData[l].append(int(data))\n",
    "            l+=1\n",
    "\n",
    "print(labels_en[0])\n",
    "print(\"...\",intensive_care[-20:])\n",
    "print(labels_en[1])\n",
    "print(\"...\",total_infected[-20:])\n",
    "print(labels_en[2])\n",
    "print(\"...\",currently_infected[-20:])\n",
    "print(labels_en[3])\n",
    "print(\"...\",tests[-20:])"
   ]
  },
  {
   "cell_type": "markdown",
   "metadata": {},
   "source": [
    "## Populate the plots"
   ]
  },
  {
   "cell_type": "code",
   "execution_count": null,
   "metadata": {},
   "outputs": [],
   "source": [
    "#We now create three plots\n",
    "x = range(len(intensive_care))\n",
    "\n",
    "for i in range(len(labels_en)) :\n",
    "    plt.plot(x,loadedData[i], label=labels_en[i],linewidth=3)\n",
    "    #plt.plot(x,intensive_care, label='Intensive care',linewidth=3)\n",
    "    #plt.plot(x,total_infected, label='Total infected',linewidth=3)\n",
    "    #plt.plot(x,currently_infected, label='Currently infected',linewidth=3)\n",
    "    #plt.plot(x,tests, label='Swab/tests',linewidth=3)\n",
    "\n",
    "    plt.legend(fontsize=13)\n",
    "    plt.xlabel('Days')\n",
    "    plt.ylabel('Values')\n",
    "\n",
    "    plt.savefig('Italian COVID-19 data'+str(i),bbox_inches='tight')\n",
    "    plt.show()\n",
    "    \n",
    "#plt.show()    "
   ]
  },
  {
   "cell_type": "markdown",
   "metadata": {},
   "source": [
    "## Navigate data to compute new data of interest"
   ]
  },
  {
   "cell_type": "markdown",
   "metadata": {},
   "source": [
    "### When did we have the peak of currently infeced people?"
   ]
  },
  {
   "cell_type": "code",
   "execution_count": null,
   "metadata": {},
   "outputs": [],
   "source": [
    "peak_infected = max(currently_infected)\n",
    "day_of_peak = currently_infected.index(peak_infected)\n",
    "print('This data spans',len(currently_infected),'days.')\n",
    "print('On day',day_of_peak,'we had had the peak of currently infected:',peak_infected)\n",
    "print('Therefore we reached the peak',len(currently_infected)-day_of_peak,'days ago')\n",
    "print('\\tActually',len(currently_infected)-day_of_peak,' days before the latest measured day in the CSV')\n",
    "print('On the last measured day we have',currently_infected[-1],'currently infected people')"
   ]
  },
  {
   "cell_type": "markdown",
   "metadata": {},
   "source": [
    "### When did we have the peak of currently infeced people __graphically__?"
   ]
  },
  {
   "cell_type": "markdown",
   "metadata": {},
   "source": [
    "Let's show this information **graphically**"
   ]
  },
  {
   "cell_type": "code",
   "execution_count": null,
   "metadata": {},
   "outputs": [],
   "source": [
    "plt.plot(x,currently_infected, label='Currently infected',linewidth=3)\n",
    "plt.legend(fontsize=13)\n",
    "plt.xlabel('Days')\n",
    "plt.ylabel('Values')\n",
    "#plt.savefig('Italian COVID-19 data',bbox_inches='tight')\n",
    "\n",
    "msg='The peak on day\\n'+str(x[day_of_peak])+\" was \"+str(currently_infected[day_of_peak])\n",
    "plt.annotate(msg, xy=(x[day_of_peak], currently_infected[day_of_peak]), \n",
    "                 xytext=(x[day_of_peak]-600, currently_infected[day_of_peak]-900000),\n",
    "                 arrowprops=dict(facecolor='black', shrink=0.05))\n",
    "\n",
    "msg='The most recent\\nvalue is '+str(currently_infected[-1])\n",
    "plt.annotate(msg, xy=(x[-1], currently_infected[-1]), \n",
    "                  xytext=(x[-1]-380, currently_infected[-1]-350000),\n",
    "                  arrowprops=dict(facecolor='black', shrink=0.2))\n",
    "\n",
    "plt.show()"
   ]
  },
  {
   "cell_type": "markdown",
   "metadata": {},
   "source": [
    "### What about the daily variation of infeced people?"
   ]
  },
  {
   "cell_type": "markdown",
   "metadata": {},
   "source": [
    "What if we are interested in the **daily variation of infected**?\n",
    "* In absolute value\n",
    "* In percentage"
   ]
  },
  {
   "cell_type": "code",
   "execution_count": null,
   "metadata": {},
   "outputs": [],
   "source": [
    "prevDay=0\n",
    "daily_variation=[]\n",
    "daily_variation_perc=[]\n",
    "for i in range(len(currently_infected)) :\n",
    "    difference = currently_infected[i] - prevDay\n",
    "    daily_variation.append(difference)\n",
    "    if(prevDay==0):\n",
    "        daily_variation_perc.append(0)\n",
    "    else:\n",
    "        daily_variation_perc.append(difference/prevDay*100)\n",
    "    prevDay=currently_infected[i]\n",
    "#print(daily_variation)    \n",
    "#print(daily_variation_perc)\n",
    "    \n",
    "plt.plot(x,daily_variation, label='Daily variation',linewidth=3)\n",
    "plt.plot(x,[0]*len(x))\n",
    "plt.legend(fontsize=13)\n",
    "plt.show()\n",
    "\n",
    "plt.plot(x,daily_variation_perc, label='Daily variation %',linewidth=3)\n",
    "plt.plot(x,[0]*len(x))\n",
    "plt.ylabel('% variation')\n",
    "plt.legend(fontsize=13)\n",
    "plt.show()"
   ]
  },
  {
   "cell_type": "markdown",
   "metadata": {},
   "source": [
    "What if we are interested in the\n",
    "* **daily variation after the peak**?\n",
    "\n",
    "Well, luckily we know how to obtain subsuquences..."
   ]
  },
  {
   "cell_type": "code",
   "execution_count": null,
   "metadata": {},
   "outputs": [],
   "source": [
    "plt.plot(x[day_of_peak:],daily_variation[day_of_peak:], label='Daily variation after the peak',linewidth=3)\n",
    "plt.legend(fontsize=13)\n",
    "plt.show()"
   ]
  },
  {
   "cell_type": "markdown",
   "metadata": {},
   "source": [
    "# Next class..."
   ]
  },
  {
   "cell_type": "markdown",
   "metadata": {},
   "source": [
    "At the beginning of this class we have seen a clear example of \n",
    "- __spaghetti code__"
   ]
  },
  {
   "cell_type": "code",
   "execution_count": null,
   "metadata": {},
   "outputs": [],
   "source": [
    "deposit = 20\n",
    "withdraw = 7\n",
    "\n",
    "if deposit >= withdraw :\n",
    "    deposit-=withdraw\n",
    "    print('Withdrawing',withdraw,'succeeded. ') \n",
    "    print('We are left with',deposit)\n",
    "else:\n",
    "    missing = withdraw - deposit \n",
    "    actualWithdraw = deposit\n",
    "    deposit = 0\n",
    "    print('Withdrawing',withdraw,'failed. ')\n",
    "    print('We withdrew',actualWithdraw,'remaining with',deposit)\n",
    "print()\n",
    "    \n",
    "    \n",
    "if deposit >= withdraw :\n",
    "    deposit-=withdraw\n",
    "    print('Withdrawing',withdraw,'succeeded. ') \n",
    "    print('We are left with',deposit)\n",
    "else:\n",
    "    missing = withdraw - deposit \n",
    "    actualWithdraw = deposit\n",
    "    deposit = 0\n",
    "    print('Withdrawing',withdraw,'failed. ')\n",
    "    print('We withdrew',actualWithdraw,'remaining with',deposit)\n",
    "print()    \n",
    "    \n",
    "if deposit >= withdraw :\n",
    "    deposit-=withdraw\n",
    "    print('Withdrawing',withdraw,'succeeded. ') \n",
    "    print('We are left with',deposit)\n",
    "else:\n",
    "    missing = withdraw - deposit \n",
    "    actualWithdraw = deposit\n",
    "    deposit = 0\n",
    "    print('Withdrawing',withdraw,'failed. ')\n",
    "    print('We withdrew',actualWithdraw,'remaining with',deposit)    \n",
    "print()    "
   ]
  },
  {
   "cell_type": "markdown",
   "metadata": {},
   "source": [
    "Did you notice that we copy-pasted several times the same `if-else` statement?\n",
    "This is very bad because:\n",
    "* It makes the code less readable\n",
    "* It makes the code less manutenable\n",
    "  * What if you have to change something in the if-else statement?\n",
    "  * You would have to modify each copy... which is very error-prone\n",
    "\n",
    "Solution: declare a new function!"
   ]
  },
  {
   "cell_type": "code",
   "execution_count": null,
   "metadata": {},
   "outputs": [],
   "source": [
    "def withdraw_amount(deposit,withdraw):\n",
    "    if deposit >= withdraw :\n",
    "        deposit-=withdraw\n",
    "        print('Withdrawing',withdraw,'succeeded. ') \n",
    "        print('We are left with',deposit)\n",
    "    else:\n",
    "        missing = withdraw - deposit \n",
    "        actualWithdraw = deposit\n",
    "        deposit = 0\n",
    "        print('Withdrawing',withdraw,'failed. ')\n",
    "        print('We withdrew',actualWithdraw,'remaining with',deposit)\n",
    "    print()\n",
    "    return deposit\n",
    "\n",
    "deposit = 20\n",
    "withdraw = 7\n",
    "\n",
    "deposit = withdraw_amount(deposit,withdraw)\n",
    "deposit = withdraw_amount(deposit,withdraw)\n",
    "deposit = withdraw_amount(deposit,withdraw)"
   ]
  },
  {
   "cell_type": "markdown",
   "metadata": {},
   "source": [
    "Furthermore, functions, or libraries (collections of functions and types) can be declared in different files, maintaining your code\n",
    "* simple\n",
    "* modular\n",
    "* manutenable"
   ]
  }
 ],
 "metadata": {
  "kernelspec": {
   "display_name": "env_pda_2022",
   "language": "python",
   "name": "env_pda_2022"
  },
  "language_info": {
   "codemirror_mode": {
    "name": "ipython",
    "version": 3
   },
   "file_extension": ".py",
   "mimetype": "text/x-python",
   "name": "python",
   "nbconvert_exporter": "python",
   "pygments_lexer": "ipython3",
   "version": "3.9.10"
  },
  "toc-autonumbering": true
 },
 "nbformat": 4,
 "nbformat_minor": 4
}
