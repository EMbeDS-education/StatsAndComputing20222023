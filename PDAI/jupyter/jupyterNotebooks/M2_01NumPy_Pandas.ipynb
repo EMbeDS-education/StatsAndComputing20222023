{
 "cells": [
  {
   "cell_type": "markdown",
   "metadata": {
    "tags": []
   },
   "source": [
    "<center><font size=\"+4\">Programming & Data Analytics & AI 2 2022/2023</font></center>\n",
    "<center><font size=\"+2\">Sant'Anna School of Advanced Studies, Pisa, Italy</font></center>\n",
    "<center><img src=\"https://github.com/EMbeDS-education/StatsAndComputing20212022/raw/main/PDA/jupyter/jupyterNotebooks/images/SSSA.png\" width=\"700\" alt=\"EMbeDS\"></center>\n",
    "\n",
    "<center><font size=\"+2\">Course responsible</font></center>\n",
    "<center><font size=\"+2\">Andrea Vandin a.vandin@santannapisa.it</font></center>\n",
    "\n",
    "<center><font size=\"+2\">Co-lecturer (informally)</font></center>\n",
    "<center><font size=\"+2\">Daniele Licari d.licari@santannapisa.it</font></center>\n",
    "\n",
    "---"
   ]
  },
  {
   "cell_type": "markdown",
   "metadata": {},
   "source": [
    "<center><font size=\"+4\">Part 1</font></center>\n",
    "<center><font size=\"+4\">Lectures 1, 2, 3: Advanced Libraries for</font></center>\n",
    "<center><font size=\"+4\">data manipulation/visualization</font></center>"
   ]
  },
  {
   "cell_type": "markdown",
   "metadata": {},
   "source": [
    "---"
   ]
  },
  {
   "cell_type": "code",
   "execution_count": null,
   "metadata": {},
   "outputs": [],
   "source": [
    "from IPython.display import Image, display\n",
    "url_github_repo=\"https://github.com/EMbeDS-education/StatsAndComputing20222023/raw/main/PDAI/\"\n",
    "img=Image(url_github_repo+'slides/figures/calendarPDAI2.png',width=800)\n",
    "display(img)"
   ]
  },
  {
   "cell_type": "markdown",
   "metadata": {},
   "source": [
    "# Preliminaries\n",
    "## The role of this notebook in the course"
   ]
  },
  {
   "cell_type": "markdown",
   "metadata": {},
   "source": [
    "In module 1 we focused on \n",
    "* How to program \n",
    "  * _Well_\n",
    "  * Using the built-in Python data structures and functionalities\n",
    "  * We have also seen some __best practices__ to follow when using python\n",
    "    - Take a look at [this page](https://realpython.com/python-pep8/) for further __best practices__\n",
    "* Applying the studied topics in \n",
    "  * simple assignments and \n",
    "  * in more advanced applications seen in class\n",
    "    * A first taste of plots\n",
    "    * Load, process and plot official Italian COVID19 data\n",
    "    * Load, process and plot simulated data from epidemiological SIR models\n",
    "    * Creation of word clouds for online news related to a given topic\n",
    "    * Creation and analysis of economical Agent-based models using OOP\n",
    "\n",
    "The idea is that\n",
    "  * Before knowing how to use advanced Python features, you need to know \n",
    "    - how to program\n",
    "    - how to program in Python    \n",
    "  * This is a more organic learning approach than showing how to solve specific tasks A or B\n",
    "    * in the future you will have to learn how to solve new specific tasks... \n",
    "  * Now you have the necessary background to learn \n",
    "    - how to use __advanced libraries__ (to get more efficiency and/or to consider bigger problems)\n",
    "        * Often it is just a matter of changing the command used, but the logics stays the same\n",
    "    - new programming languages\n",
    "\n",
    "__In M2 we will now unleash the power of Python!__\n",
    "* We start from introducing popular Python libraries for data processing\n",
    "* You can see this notebook as a first place to look at if you will need to use such libraries in the future.\n",
    "  * It also contains examples and references to further material"
   ]
  },
  {
   "cell_type": "markdown",
   "metadata": {},
   "source": [
    "## What is this class about"
   ]
  },
  {
   "cell_type": "markdown",
   "metadata": {},
   "source": [
    "This notebook is mainly based on Chapter 4 of the following book:\n",
    "* [Python for Data Analysis, 2nd edition, William Wesley McKinney (O’Reilly)](https://www.oreilly.com/library/view/python-for-data/9781491957653/)\n",
    "* [Freely available Jupyter notebooks covering the examples/material of each chapter](https://github.com/wesm/pydata-book)\n",
    "* Some pictures have been taken from these sources"
   ]
  },
  {
   "cell_type": "markdown",
   "metadata": {},
   "source": [
    "In particular, this notebook introduces the libraries:\n",
    "* [NumPy](https://numpy.org/): for scientific computing\n",
    "* [Pandas](https://pandas.pydata.org/): \n",
    "   * for working with structured data (CSV, Spreadsheets, Databases)\n",
    "   * for creating advanced plots"
   ]
  },
  {
   "cell_type": "markdown",
   "metadata": {},
   "source": [
    "> Note: in this notebook we will often refer interchangeably to _arrays_, _NumPy arrays_ or just _ndarrays_. \n",
    "<br/>\n",
    "> You can think of __arrays as lists with better performances__ for numerical computing"
   ]
  },
  {
   "cell_type": "markdown",
   "metadata": {},
   "source": [
    "---"
   ]
  },
  {
   "cell_type": "markdown",
   "metadata": {},
   "source": [
    "# NumPy\n",
    "NumPy, _Numerical Python_, is the Python package for __scientific computing__\n",
    "\n",
    "It provides:\n",
    "* An efficient implementation for list-like multidimensional data structures named __NumPy arrays__ or __ndarray__\n",
    "  * including functions for performing\n",
    "    * element-wise computations on arrays \n",
    "    * mathematical operations between arrays\n",
    "* Tools for reading/writing datasets from/to disk and arrays\n",
    "* Linear algebra operations, Fourier transform, and random number generation\n",
    "* 1-line plotting functionalities\n",
    "* Tools for integrating C, C++, and Fortran code with Python\n",
    "  * Useful to use legacy code\n",
    "  * Useful to use very efficient and established libraries for scientifical computation\n",
    "\n",
    "\n",
    "NumPy arrays are a more efficient way of storing and manipulating data than the other built-in Python data structures."
   ]
  },
  {
   "cell_type": "code",
   "execution_count": null,
   "metadata": {},
   "outputs": [],
   "source": [
    "from IPython.display import Image, display\n",
    "img=Image(url_github_repo+'jupyter/jupyterNotebooks/images/pythoncpp.jpg',width=600)\n",
    "display(img)"
   ]
  },
  {
   "cell_type": "markdown",
   "metadata": {},
   "source": [
    "## Install and import the NumPy module\n",
    "The first time you run this notebook you might have to install numpyPandas using the following script:"
   ]
  },
  {
   "cell_type": "code",
   "execution_count": null,
   "metadata": {},
   "outputs": [],
   "source": [
    "#%pip install --upgrade pip\n",
    "#%pip install numpy\n",
    "\n",
    "#old way\n",
    "#import sys\n",
    "#!\"{sys.executable}\" -m pip install --upgrade pip\n",
    "#!\"{sys.executable}\" -m pip install numpy"
   ]
  },
  {
   "cell_type": "markdown",
   "metadata": {},
   "source": [
    "After installing a module (only once), you should import it (everytime)\n",
    "- The Python community has adopted a number of __naming conventions__ for commonly used modules:\n",
    "* Below you see the conventions for numpy, pandas and matplotlib"
   ]
  },
  {
   "cell_type": "code",
   "execution_count": null,
   "metadata": {},
   "outputs": [],
   "source": [
    "import numpy as np\n",
    "# import pandas as pd \n",
    "# import matplotlib.pyplot as plt"
   ]
  },
  {
   "cell_type": "markdown",
   "metadata": {},
   "source": [
    "* This means that when you see `np.arange(4)`, we refer to `numpy.arange(4)`, the `arange` function in NumPy."
   ]
  },
  {
   "cell_type": "markdown",
   "metadata": {},
   "source": [
    "## Main features: Arrays, Vectorized Computation, Broadcast"
   ]
  },
  {
   "cell_type": "markdown",
   "metadata": {},
   "source": [
    "Numpy provides:\n",
    "* __ndarray__, a multidimensional array providing **vectorized arithmetic** operations and **broadcasting** capabilities\n",
    "   * Vectorized arithmetic operations: \n",
    "     - Operations on arrays are done \n",
    "       - element-wise iterating over the elements of the arrays \n",
    "       - _at C level rather than at Python level_, obtaining better performances. \n",
    "     - We get a concise syntax\n",
    "   * [Broadcasting](https://numpy.org/doc/stable/user/basics.broadcasting.html): \n",
    "     - In general, operations on arrays should be done on arrays with same _dimensions_\n",
    "     - In certain cases, operations on arrays can be done even if they do not have same dimensions. Pyhton tries to guess what to do\n",
    "     - E.g., if you multiply an array by a constant, each entry of the arrays is multiplied by the constant\n",
    "       - the constant is `broadcasted` on each entry of the array\n",
    "     - No data is 'needlessly' copied, and the _iterations to broadcast_  are done at C level, obtaining better performances\n",
    "* Standard mathematical functions for applying operations on entire arrays without having to write loops\n",
    "  - Again, these guarantee C-level performances"
   ]
  },
  {
   "cell_type": "markdown",
   "metadata": {
    "tags": []
   },
   "source": [
    "## The NumPy ndarray: A Multidimensional Array"
   ]
  },
  {
   "cell_type": "markdown",
   "metadata": {},
   "source": [
    "### Performance comparison Numpy ndarrays vs Python lists"
   ]
  },
  {
   "cell_type": "code",
   "execution_count": null,
   "metadata": {},
   "outputs": [],
   "source": [
    "l=[1,2,3]\n",
    "l"
   ]
  },
  {
   "cell_type": "markdown",
   "metadata": {},
   "source": [
    "Let's create a ndarray and a built-in Python list, each with 5mln elements."
   ]
  },
  {
   "cell_type": "code",
   "execution_count": null,
   "metadata": {},
   "outputs": [],
   "source": [
    "import numpy as np\n",
    "np_arr = np.arange(5000000) #5 mln\n",
    "py_list = list(range(5000000)) #5 mln\n",
    "\n",
    "print('np_arr has type',type(np_arr))\n",
    "print('py_list has type',type(py_list))\n",
    "np_arr\n",
    "#py_list"
   ]
  },
  {
   "cell_type": "markdown",
   "metadata": {},
   "source": [
    "Let's compute the square value of each element in the array/list"
   ]
  },
  {
   "cell_type": "code",
   "execution_count": null,
   "metadata": {},
   "outputs": [],
   "source": [
    " print(\"Test NumPy Array\")\n",
    " %time np_arr_power = np_arr ** 2\n",
    "\n",
    " print(\"\\nTest Python list comprehension\")\n",
    " %time py_list = [x ** 2 for x in py_list]\n",
    "\n",
    " print(\"\\nTest Python list iteration\")\n",
    " %time for i in range(len(py_list)): py_list[i]=py_list[i]**2\n",
    "\n",
    " print(\"\\nTests completed\")"
   ]
  },
  {
   "cell_type": "markdown",
   "metadata": {},
   "source": [
    "### What is an ndarray?"
   ]
  },
  {
   "cell_type": "markdown",
   "metadata": {},
   "source": [
    "NumPy arrays are named **nd**array because they are **n**-**d**imensional arrays"
   ]
  },
  {
   "cell_type": "code",
   "execution_count": null,
   "metadata": {},
   "outputs": [],
   "source": [
    "#We have already imported numpy in a cell above\n",
    "#import numpy as np\n",
    "\n",
    "# Generate a 2x3 matrix with random data in the interval [0,1)\n",
    "data = np.random.rand(2, 3)\n",
    "data"
   ]
  },
  {
   "cell_type": "markdown",
   "metadata": {},
   "source": [
    "Arrays enable you to perform\n",
    "mathematical operations on each of their elements \n",
    "* using a syntax similar to the equivalent operations between (scalar) numbers\n",
    "\n",
    "Below we \n",
    "* multiply by 10 **each value** in `data`\n",
    "* double **each value** in `data`"
   ]
  },
  {
   "cell_type": "code",
   "execution_count": null,
   "metadata": {},
   "outputs": [],
   "source": [
    "data * 10"
   ]
  },
  {
   "cell_type": "code",
   "execution_count": null,
   "metadata": {},
   "outputs": [],
   "source": [
    "data + data"
   ]
  },
  {
   "cell_type": "markdown",
   "metadata": {},
   "source": [
    "A difference between Python lists and arrays\n",
    "* lists can contain elements of **different type**\n",
    "* arrays have to contain only elements of **same type**\n",
    "\n",
    "Every array has \n",
    "* a`shape`, a tuple indicating the size of each dimension, \n",
    "  * `data.shape` is `(2,3)` because it has dimension 2x3\n",
    "* a `dtype`, an object describing the type of the data in the array\n",
    "  * `data.dtype` is `float64` because it contains floating point numbers (reals)\n",
    "  *  Note that `float64` is a [data type defined in NumPy](https://numpy.org/doc/stable/user/basics.types.html). _More on this later_"
   ]
  },
  {
   "cell_type": "code",
   "execution_count": null,
   "metadata": {},
   "outputs": [],
   "source": [
    "print(data.shape)\n",
    "print(data.dtype)"
   ]
  },
  {
   "cell_type": "markdown",
   "metadata": {
    "editable": true
   },
   "source": [
    "### Creating ndarrays\n",
    "The easiest way to create an array is to use the `array` function. \n",
    "* This will produce a new array containing the provided data"
   ]
  },
  {
   "cell_type": "code",
   "execution_count": null,
   "metadata": {
    "collapsed": false,
    "editable": true,
    "jupyter": {
     "outputs_hidden": false
    }
   },
   "outputs": [],
   "source": [
    "data1 = [6, 7.5, 8, 0, 1]\n",
    "print(data1)\n",
    "arr1 = np.array(data1)\n",
    "print(arr1)\n",
    "print(arr1.shape)\n",
    "print(arr1.dtype)"
   ]
  },
  {
   "cell_type": "markdown",
   "metadata": {},
   "source": [
    "__Why do we get `6.` and not `6`?__"
   ]
  },
  {
   "cell_type": "markdown",
   "metadata": {},
   "source": [
    "List of lists, e.g. representing a matrix,\n",
    "* can be converted into a multidimensional array \n",
    "* if internal lists have same length"
   ]
  },
  {
   "cell_type": "code",
   "execution_count": null,
   "metadata": {
    "collapsed": false,
    "editable": true,
    "jupyter": {
     "outputs_hidden": false
    }
   },
   "outputs": [],
   "source": [
    "data2 = [[1, 2, 3, 4], [5, 6, 7, 8]]\n",
    "print('data2\\n',data2)\n",
    "arr2 = np.array(data2)\n",
    "print('arr2\\n',arr2)\n",
    "print(arr2.shape)\n",
    "print(arr2.dtype)"
   ]
  },
  {
   "cell_type": "markdown",
   "metadata": {},
   "source": [
    "Further functions for creating new arrays:\n",
    "* `zeros` and `ones` create arrays of 0’s or 1’s, respectively, with a given length or shape.\n",
    "* To create a higher dimensional array with these methods, pass a tuple for the shape:"
   ]
  },
  {
   "cell_type": "code",
   "execution_count": null,
   "metadata": {
    "collapsed": false,
    "editable": true,
    "jupyter": {
     "outputs_hidden": false
    }
   },
   "outputs": [],
   "source": [
    "print('np.zeros(10) =', np.zeros(10))\n",
    "print('np.ones((3, 6)) =\\n', np.ones((3, 6)))"
   ]
  },
  {
   "cell_type": "markdown",
   "metadata": {},
   "source": [
    "`arange` is an array-valued version of the built-in Python `range` function:\n",
    "* It allows to represent an open interval [start,stop,step)\n",
    "    - where only stop is mandatory\n",
    "    - `stop` does not belong to the range\n",
    "* Beware: \n",
    "  - `range` is an iterator that creates elements on demand\n",
    "  - `arange` fully creates the array allocating all the necessary space\n",
    "     - while python's `range` does not occupy much space"
   ]
  },
  {
   "cell_type": "code",
   "execution_count": null,
   "metadata": {},
   "outputs": [],
   "source": [
    "np.ones((3, 6))+1"
   ]
  },
  {
   "cell_type": "code",
   "execution_count": null,
   "metadata": {
    "collapsed": false,
    "editable": true,
    "jupyter": {
     "outputs_hidden": false
    }
   },
   "outputs": [],
   "source": [
    "print(np.arange(15))  #if you want integers\n",
    "print(np.arange(15.)) #if you want reals\n",
    "print(type(np.arange(15)))\n",
    "\n",
    "print(range(15))\n",
    "print(type(range(15)))"
   ]
  },
  {
   "cell_type": "code",
   "execution_count": null,
   "metadata": {},
   "outputs": [],
   "source": [
    "np.arange(10,20,2)"
   ]
  },
  {
   "cell_type": "markdown",
   "metadata": {
    "editable": true
   },
   "source": [
    "### Data Types for ndarrays\n",
    "The names of the numerical dtypes follow this convention: \n",
    "* A type name, like `float` or `int`, followed by the number of bits used to represent an element of this type.\n",
    "* The higher is this number of bits, \n",
    "  * the higher precision (or the larger interval) you can use to store your data (GOOD)\n",
    "  * the more memory is required to store your data (BAD)\n",
    "\n",
    "For example, \n",
    "* a double-precision floating point value takes 64 bits (`float64`)\n",
    "* an integer might take 32 (`int32`) or 64 bits (`int64`)\n",
    "  * in the latter case being able to represent a larger interval of integers, but using up more space"
   ]
  },
  {
   "cell_type": "code",
   "execution_count": null,
   "metadata": {
    "collapsed": false,
    "editable": true,
    "jupyter": {
     "outputs_hidden": false
    }
   },
   "outputs": [],
   "source": [
    "arr1 = np.array([1, 2, 3], dtype=np.float64)\n",
    "print(arr1)\n",
    "arr2 = np.array([1.1, 2.1, 3.1], dtype=np.int32)\n",
    "print(arr2)\n",
    "print(arr1.dtype)\n",
    "print(arr2.dtype)"
   ]
  },
  {
   "cell_type": "markdown",
   "metadata": {},
   "source": [
    "You can explicitly convert or cast an array from one dtype to another using ndarray’s `astype` method\n",
    "* This will create a `copy` of the original array, where elements have the new type"
   ]
  },
  {
   "cell_type": "code",
   "execution_count": null,
   "metadata": {
    "collapsed": false,
    "editable": true,
    "jupyter": {
     "outputs_hidden": false
    }
   },
   "outputs": [],
   "source": [
    "arr = np.array([1.1, 2.1, 3.1, 4.1, 5.1])\n",
    "print(arr)\n",
    "print('Before',arr.dtype,'\\n')\n",
    "int_arr = arr.astype(np.int32)\n",
    "print(int_arr)\n",
    "print('After ',int_arr.dtype)"
   ]
  },
  {
   "cell_type": "markdown",
   "metadata": {
    "editable": true
   },
   "source": [
    "### Vectorized Arithmetics with NumPy Arrays"
   ]
  },
  {
   "cell_type": "markdown",
   "metadata": {},
   "source": [
    "Once you have values in an array\n",
    "* You can easily apply operations on each of its elements\n",
    "  * Arithmetic operations between equal-size arrays are applied element-wise\n",
    "  * Arithmetic operations between an array and a scalar (a number):\n",
    "    * the operation is applied between each array element and the scalar\n",
    "    * the scalar is said to be _broadcasted_ to all the array elements\n",
    "* Similarly to list comprehensions, this does not require loops,\n",
    "  * Note: as shown above, vectorized arithmetics is more efficient than the corresponding list comprehension operation (even more if compared to loops)"
   ]
  },
  {
   "cell_type": "code",
   "execution_count": null,
   "metadata": {
    "collapsed": false,
    "editable": true,
    "jupyter": {
     "outputs_hidden": false
    }
   },
   "outputs": [],
   "source": [
    "a = np.array([[1., 2., 3.], [4., 5., 6.]])\n",
    "print('a = \\n',a, '\\n')\n",
    "print('a * a = \\n', a * a, '\\n')\n",
    "print('a - a = \\n', a - a, '\\n')\n",
    "print('1 / a = \\n', 1 / a, '\\n')\n",
    "print('a*0.5  \\n=', a*0.5, '\\n')\n",
    "print('a**0.5  \\n=', a**0.5, '\\n')"
   ]
  },
  {
   "cell_type": "markdown",
   "metadata": {},
   "source": [
    "> Note that with `a * a` we do not compute the product of 2 matrices. \n",
    "> - We multiply them element-wise"
   ]
  },
  {
   "cell_type": "markdown",
   "metadata": {
    "editable": true
   },
   "source": [
    "### Basic Indexing and Slicing"
   ]
  },
  {
   "cell_type": "markdown",
   "metadata": {},
   "source": [
    "#### Indexing and slicing 1-dimensional arrays"
   ]
  },
  {
   "cell_type": "markdown",
   "metadata": {},
   "source": [
    "Arrays have `indexing` and `slicing` capabilities of lists"
   ]
  },
  {
   "cell_type": "code",
   "execution_count": null,
   "metadata": {
    "collapsed": false,
    "editable": true,
    "jupyter": {
     "outputs_hidden": false
    }
   },
   "outputs": [],
   "source": [
    "arr = np.arange(10)\n",
    "print('arr',arr)\n",
    "print('You can indexsingle entries:\\narr[0] is',arr[0])\n",
    "print('arr[5] is',arr[5])"
   ]
  },
  {
   "cell_type": "code",
   "execution_count": null,
   "metadata": {},
   "outputs": [],
   "source": [
    "print('arr\\n',arr)\n",
    "print('You can create slices:')\n",
    "print('arr[:8]  is\\n',arr[:8])\n",
    "print('arr[5:]  is\\n          ',arr[5:])\n",
    "print('arr[5:8] is\\n          ',arr[5:8])\n",
    "view58=arr[5:8]\n",
    "view58"
   ]
  },
  {
   "cell_type": "markdown",
   "metadata": {},
   "source": [
    "A slice is a sort of `view` of the array\n",
    "* You can assign it to a variable\n",
    "* You can change its values\n",
    "  - The original array is changed as well!\n",
    "* **Beware**: no data is copied"
   ]
  },
  {
   "cell_type": "code",
   "execution_count": null,
   "metadata": {},
   "outputs": [],
   "source": [
    "arr[5:8] = 12\n",
    "print('After arr[5:8] = 12 arr is\\n',arr)"
   ]
  },
  {
   "cell_type": "markdown",
   "metadata": {},
   "source": [
    "Note: \n",
    "* if you assign a scalar value to a __slice__ (a selection of some elements in an array)\n",
    "  * as in `arr[5:8] = 12`\n",
    "* then the value is propagated (or, again, _broadcasted_) to each selected element \n",
    "\n",
    "If you are familiar with Python lists you might have noticed an important difference\n",
    "* When slicing a list, you actually create a copy \n",
    "* **Array slices are views on the original array**.\n",
    "* The __data in a slice is not copied__\n",
    "  * this is more efficient\n",
    "  * and any modifications to the view will be reflected in the source array\n",
    "  \n",
    "Let's see another example  "
   ]
  },
  {
   "cell_type": "code",
   "execution_count": null,
   "metadata": {
    "collapsed": false,
    "editable": true,
    "jupyter": {
     "outputs_hidden": false
    }
   },
   "outputs": [],
   "source": [
    "print('source array', arr)\n",
    "arr_slice = arr[5:8]\n",
    "print('slice array', arr_slice)"
   ]
  },
  {
   "cell_type": "code",
   "execution_count": null,
   "metadata": {
    "collapsed": false,
    "editable": true,
    "jupyter": {
     "outputs_hidden": false
    }
   },
   "outputs": [],
   "source": [
    "arr_slice[1] = 12345\n",
    "print('source array (after arr_slice[1] = 12345):\\n', arr)"
   ]
  },
  {
   "cell_type": "markdown",
   "metadata": {},
   "source": [
    "If you want a `copy of a slice of an ndarray` instead of a view, you will need to `explicitly copy` the array; \n",
    "* `arr2 = arr[5:8].copy()`"
   ]
  },
  {
   "cell_type": "markdown",
   "metadata": {},
   "source": [
    "#### Indexing and slicing higher-dimensional arrays"
   ]
  },
  {
   "cell_type": "markdown",
   "metadata": {},
   "source": [
    "With higher dimensional arrays, you have many more options. \n",
    "* A two-dimensional array is actually an array of arrays\n",
    "  * Each entry of the _outer_ array contains an _inner_ array"
   ]
  },
  {
   "cell_type": "code",
   "execution_count": null,
   "metadata": {
    "collapsed": false,
    "editable": true,
    "jupyter": {
     "outputs_hidden": false
    }
   },
   "outputs": [],
   "source": [
    "arr2d = np.array([[1, 2, 3], [4, 5, 6], [7, 8, 9]])\n",
    "arr2d"
   ]
  },
  {
   "cell_type": "code",
   "execution_count": null,
   "metadata": {},
   "outputs": [],
   "source": [
    "arr1d=arr2d[0]\n",
    "arr1d"
   ]
  },
  {
   "cell_type": "code",
   "execution_count": null,
   "metadata": {},
   "outputs": [],
   "source": [
    "arr1d[2]"
   ]
  },
  {
   "cell_type": "markdown",
   "metadata": {},
   "source": [
    "As for multidimensional lists, you can access single elements of inner arrays using nested `[]`\n",
    "* `arr2d[0][2]` is `3`, the third element (index `2`) of the first inner array (index `0`)\n",
    "* Alternatively, you can do `arr2d[0,2]`"
   ]
  },
  {
   "cell_type": "code",
   "execution_count": null,
   "metadata": {
    "collapsed": false,
    "editable": true,
    "jupyter": {
     "outputs_hidden": false
    }
   },
   "outputs": [],
   "source": [
    "print(arr2d)\n",
    "print(arr2d[0][2])\n",
    "print(arr2d[0, 2])"
   ]
  },
  {
   "cell_type": "markdown",
   "metadata": {},
   "source": [
    "**See figure below for an illustration of indexing a 2D array** <br />\n",
    "<img src='data:image/png;base64,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'>"
   ]
  },
  {
   "cell_type": "markdown",
   "metadata": {},
   "source": [
    "This is an example for 2-dimensional arrays\n",
    "* It works similarly for higher dimensions..."
   ]
  },
  {
   "cell_type": "markdown",
   "metadata": {
    "editable": true
   },
   "source": [
    "**BEWARE**\n",
    "- When __indexing__, it does not make a difference whether you use\n",
    "  - `arr2d[0][2]` or `arr2d[0, 2]`\n",
    "- When __silicing__, it makes a **big difference** whether you use\n",
    "  - `arr2d[:2,1:]` or `arr2d[:2][1:]`\n",
    "  - Typically what you want to do is `arr2d[:2,1:]`"
   ]
  },
  {
   "cell_type": "markdown",
   "metadata": {},
   "source": [
    "For `arr2d[:2,1:]`\n",
    "- we first select the rows 0 and 1 `[1,2,3],[4,5,6]`\n",
    "- from these, we select column 1 and 2 `[2,3],[5,6]`"
   ]
  },
  {
   "cell_type": "code",
   "execution_count": null,
   "metadata": {},
   "outputs": [],
   "source": [
    "arr2d"
   ]
  },
  {
   "cell_type": "code",
   "execution_count": null,
   "metadata": {},
   "outputs": [],
   "source": [
    "print(arr2d[:2,1:])\n",
    "arr2d[:2,1:].shape"
   ]
  },
  {
   "cell_type": "markdown",
   "metadata": {},
   "source": [
    "For `arr2d[:2][1:]`\n",
    "- we first select the rows 0 and 1 `[1,2,3],[4,5,6]`\n",
    "- we select row 1 `[4, 5, 6]`"
   ]
  },
  {
   "cell_type": "code",
   "execution_count": null,
   "metadata": {},
   "outputs": [],
   "source": [
    "print(arr2d[:2])\n",
    "print()\n",
    "print(arr2d[:2][1:])\n",
    "arr2d[:2][1:].shape"
   ]
  },
  {
   "cell_type": "markdown",
   "metadata": {},
   "source": [
    "Further examples of indexing/slicing of higher dimensional arrays"
   ]
  },
  {
   "attachments": {
    "image.png": {
     "image/png": "[encoded data removed]"
    }
   },
   "cell_type": "markdown",
   "metadata": {},
   "source": [
    "![image.png](attachment:image.png)"
   ]
  },
  {
   "cell_type": "code",
   "execution_count": null,
   "metadata": {
    "collapsed": false,
    "editable": true,
    "jupyter": {
     "outputs_hidden": false
    }
   },
   "outputs": [],
   "source": [
    "print(arr2d)\n",
    "print()\n",
    "print(arr2d[:2])"
   ]
  },
  {
   "cell_type": "markdown",
   "metadata": {},
   "source": [
    "We have sliced it along axis 0, the first axis (the rows). \n",
    "* A slice, therefore, selects a range of elements along an axis. \n",
    "* You can pass multiple slices just like you can pass multiple indexes"
   ]
  },
  {
   "cell_type": "code",
   "execution_count": null,
   "metadata": {
    "collapsed": false,
    "editable": true,
    "jupyter": {
     "outputs_hidden": false
    }
   },
   "outputs": [],
   "source": [
    "arr2d[:2, 1:]"
   ]
  },
  {
   "cell_type": "markdown",
   "metadata": {},
   "source": [
    "Assigning to a slice expression assigns to the whole selection by broadcasting"
   ]
  },
  {
   "cell_type": "code",
   "execution_count": null,
   "metadata": {
    "collapsed": false,
    "editable": true,
    "jupyter": {
     "outputs_hidden": false
    }
   },
   "outputs": [],
   "source": [
    "arr2d[:2, 1:] = 0 \n",
    "arr2d"
   ]
  },
  {
   "cell_type": "markdown",
   "metadata": {},
   "source": [
    "### Select entries that satisfy a guard"
   ]
  },
  {
   "cell_type": "markdown",
   "metadata": {},
   "source": [
    "We can also use a Boolean expression to select elements in an array\n",
    "* we select the ones satisfying the Boolean expression"
   ]
  },
  {
   "cell_type": "code",
   "execution_count": null,
   "metadata": {},
   "outputs": [],
   "source": [
    "data = np.random.randn(7, 4)\n",
    "print('Data\\n',data)"
   ]
  },
  {
   "cell_type": "markdown",
   "metadata": {},
   "source": [
    "We first see how to create a _mask_"
   ]
  },
  {
   "cell_type": "code",
   "execution_count": null,
   "metadata": {},
   "outputs": [],
   "source": [
    "data > 0"
   ]
  },
  {
   "cell_type": "markdown",
   "metadata": {},
   "source": [
    "Now we use the mask to access the entries of interest"
   ]
  },
  {
   "cell_type": "code",
   "execution_count": null,
   "metadata": {},
   "outputs": [],
   "source": [
    "data2=data[ data > 0 ]\n",
    "print('Data2\\n',data2)\n",
    "data2.shape"
   ]
  },
  {
   "cell_type": "markdown",
   "metadata": {},
   "source": [
    "> This will actually _copy_ your data\n",
    "> - You get a __new 1-dimensional array__ containing the elements matching the condition"
   ]
  },
  {
   "cell_type": "code",
   "execution_count": null,
   "metadata": {},
   "outputs": [],
   "source": [
    "data2[0]=100\n",
    "data"
   ]
  },
  {
   "cell_type": "markdown",
   "metadata": {},
   "source": [
    "How can I get elements within an interval?\n",
    "- Or, in general, that satisfy a complex condition?"
   ]
  },
  {
   "cell_type": "code",
   "execution_count": null,
   "metadata": {},
   "outputs": [],
   "source": [
    "(data > 0) & (data < 0.5) "
   ]
  },
  {
   "cell_type": "code",
   "execution_count": null,
   "metadata": {},
   "outputs": [],
   "source": [
    "data3=data[ (data > 0) & (data < 0.5) ]\n",
    "print('Data3\\n',data3)\n",
    "data3.shape"
   ]
  },
  {
   "cell_type": "markdown",
   "metadata": {
    "tags": []
   },
   "source": [
    "## Mathematical and Statistical Methods\n",
    "Arrays have a number of methods for \n",
    "* computing mathematical functions/statistics \n",
    "  * on the entire array \n",
    "  * on part of the array"
   ]
  },
  {
   "cell_type": "markdown",
   "metadata": {},
   "source": [
    "### Reshaping an array"
   ]
  },
  {
   "cell_type": "markdown",
   "metadata": {},
   "source": [
    "Arrays have a convenient method `reshape` to \n",
    "* change their dimensions without modifying the data\n",
    "* Also in this case we compute views. \n",
    "  * **no data is actually copied**\n",
    "  * any change to the view is observed also in the orginal data\n",
    "\n",
    "For example, we can transform\n",
    "* a 1-dimensional array with 15 entries\n",
    "* into a 2-dimensional 3x5 array (a matrix)"
   ]
  },
  {
   "cell_type": "code",
   "execution_count": null,
   "metadata": {},
   "outputs": [],
   "source": [
    "arr = np.arange(15)\n",
    "print(\"1-dimensional array arr\\n\",arr)\n",
    "m=arr.reshape((3, 5))\n",
    "print(\"2-dimensional matrix m\\n\",m)\n",
    "\n",
    "print()\n",
    "#m is a view!\n",
    "m[0,0]=100\n",
    "print(\"1-dimensional array arr after modifiyng the view m\\n\",arr)\n",
    "print(\"2-dimensional matrix m after modifiyng the view m\\n\",m)"
   ]
  },
  {
   "cell_type": "markdown",
   "metadata": {},
   "source": [
    "### Transposing Arrays\n",
    "Arrays have the transpose method and also the special `T` attribute\n",
    "* This is just a special reshape\n",
    "* we compute a view - no actual copy"
   ]
  },
  {
   "cell_type": "code",
   "execution_count": null,
   "metadata": {},
   "outputs": [],
   "source": [
    "arr = np.arange(15)\n",
    "m = arr.reshape(3,5)\n",
    "print(\"Matrix m\\n\",m)\n",
    "print()\n",
    "print(\"Transposed matrix using T\\n\",m.T)\n",
    "print()\n",
    "print(\"Transposed matrix transpose()\\n\",m.transpose())"
   ]
  },
  {
   "cell_type": "markdown",
   "metadata": {},
   "source": [
    "When invoked on a matrix, they both give the transpose of such matrix\n",
    "- See animation from [wikipedia](https://en.wikipedia.org/wiki/Transpose)"
   ]
  },
  {
   "cell_type": "code",
   "execution_count": null,
   "metadata": {},
   "outputs": [],
   "source": [
    "from IPython.display import Image\n",
    "Image(\"https://upload.wikimedia.org/wikipedia/commons/e/e4/Matrix_transpose.gif\")"
   ]
  },
  {
   "cell_type": "markdown",
   "metadata": {},
   "source": [
    "In addition, `transpose` can be invoked on arrays of any dimensions [to permute such dimensions](https://numpy.org/devdocs/reference/generated/numpy.transpose.html#numpy.transpose)\n",
    "- reversing them by default\n",
    "- or providing the new order for dimensions in input"
   ]
  },
  {
   "cell_type": "code",
   "execution_count": null,
   "metadata": {},
   "outputs": [],
   "source": [
    "x = np.ones((2, 3, 4))\n",
    "print(x)\n",
    "print('\\nThe 3-D matrix has shape \\n',x.shape)\n",
    "print('Shape of x.transpose()\\n',x.transpose().shape)\n",
    "print('Shape of x.transpose(0,2,1)\\n',x.transpose(0,2,1).shape)"
   ]
  },
  {
   "cell_type": "markdown",
   "metadata": {},
   "source": [
    "### Matrix product\n",
    "If you want to [multply two matrices](https://en.wikipedia.org/wiki/Matrix_multiplication) you can use the `dot` method\n",
    "* not just multiplying element-wise their elements\n",
    "* but the classic row-column multiplication of matrixes"
   ]
  },
  {
   "cell_type": "code",
   "execution_count": null,
   "metadata": {},
   "outputs": [],
   "source": [
    "m1 = np.arange(4).reshape(2,2)\n",
    "m2 = (np.arange(4)+4).reshape(2,2)\n",
    "#np.dot(m.T,m)\n",
    "print('m1\\n',m1)\n",
    "print('m2\\n',m2)\n",
    "print('m1.dot(m2)\\n',m1.dot(m2))\n",
    "print('Same as np.dot(m1,m2)\\n',np.dot(m1,m2))"
   ]
  },
  {
   "cell_type": "code",
   "execution_count": null,
   "metadata": {},
   "outputs": [],
   "source": [
    "m1 = np.arange(4).reshape(2,2)\n",
    "m1"
   ]
  },
  {
   "cell_type": "code",
   "execution_count": null,
   "metadata": {},
   "outputs": [],
   "source": [
    "m2 = (np.arange(4)+4).reshape(2,2)\n",
    "m2"
   ]
  },
  {
   "cell_type": "markdown",
   "metadata": {},
   "source": [
    "### Square root\n",
    "_np.sqrt()_ computes the square root of each element. Equivalent to m1 ** 0.5"
   ]
  },
  {
   "cell_type": "code",
   "execution_count": null,
   "metadata": {},
   "outputs": [],
   "source": [
    "print(np.sqrt(m1))\n",
    "print(m1 ** 0.5)"
   ]
  },
  {
   "cell_type": "markdown",
   "metadata": {},
   "source": [
    "### Aggregations\n",
    "Aggregations (often called reductions) \n",
    "* like sum, mean, and standard deviation std of all elements in the matrix/array \n",
    "* can be computed by using the corresponding array method"
   ]
  },
  {
   "cell_type": "code",
   "execution_count": null,
   "metadata": {},
   "outputs": [],
   "source": [
    "print('matrix\\n',m)\n",
    "print('mean',m.mean())\n",
    "print('sum',m.sum())\n",
    "print('standard deviation',m.std())\n",
    "\n",
    "print()\n",
    "print('array\\n',arr)\n",
    "print('mean',arr.mean())\n",
    "print('sum',arr.sum())\n",
    "print('standard deviation',arr.std())"
   ]
  },
  {
   "cell_type": "markdown",
   "metadata": {},
   "source": [
    "Functions like `sum`  and `mean`\n",
    "* can be computed for each dimension rather than cumulatively \n",
    "* we do this specifying the `axis` (the dimension) over which we want to iterate\n",
    "\n",
    "For example, using \n",
    "* `axis=0` we compute the sum/mean/std for each column of M\n",
    "* `axis=1` we compute the sum/mean/std for each row of M"
   ]
  },
  {
   "cell_type": "code",
   "execution_count": null,
   "metadata": {},
   "outputs": [],
   "source": [
    "print('matrix\\n',m)\n",
    "print()\n",
    "\n",
    "print('sum of each column\\n',m.sum(axis=0))\n",
    "print('mean of each column\\n',m.mean(axis=0))\n",
    "print('standard deviation of each column\\n',m.std(axis=0))\n",
    "print()\n",
    "\n",
    "print('sum of each row\\n',m.sum(axis=1))\n",
    "print('mean of each row\\n',m.mean(axis=1))\n",
    "print('standard deviation of each row\\n',m.std(axis=1))"
   ]
  },
  {
   "cell_type": "markdown",
   "metadata": {},
   "source": [
    "### Sorting\n",
    "Similarly to lists, \n",
    "* arrays can be sorted using the `sort()` method"
   ]
  },
  {
   "cell_type": "code",
   "execution_count": null,
   "metadata": {},
   "outputs": [],
   "source": [
    "#Sample from the normal distribution\n",
    "arr = np.random.randn(8)\n",
    "arr"
   ]
  },
  {
   "cell_type": "code",
   "execution_count": null,
   "metadata": {},
   "outputs": [],
   "source": [
    "arr.sort()\n",
    "arr"
   ]
  },
  {
   "cell_type": "markdown",
   "metadata": {},
   "source": [
    "Multidimensional arrays are sorted for one chosen dimension\n",
    "E.g. in matrices we can\n",
    "* Sort across rows\n",
    "* Sort across columns"
   ]
  },
  {
   "cell_type": "code",
   "execution_count": null,
   "metadata": {},
   "outputs": [],
   "source": [
    "arr2d = np.random.randn(5, 3)\n",
    "arr2d_cp0 = arr2d.copy()\n",
    "arr2d_cp1 = arr2d.copy()\n",
    "\n",
    "print('Original')\n",
    "print(arr2d)\n",
    "\n",
    "print('\\n`sort(0)`: Sort the elements within each column (sort across rows)')\n",
    "arr2d_cp0.sort(axis=0)\n",
    "print('arr2d.sort(0)')\n",
    "print(arr2d_cp0)\n",
    "\n",
    "print('\\n`sort(1)`: Sort the elements within each row (sort across columns)')\n",
    "arr2d_cp1.sort(1)\n",
    "print('arr2d.sort(1)')\n",
    "print(arr2d_cp1)\n",
    "\n",
    "print('\\n`sort( )`: Sorts across last axis  ( sort(1), sort across columns)')\n",
    "arr2d.sort()\n",
    "print('arr2d.sort()')\n",
    "print(arr2d)"
   ]
  },
  {
   "cell_type": "markdown",
   "metadata": {},
   "source": [
    "### Unique\n",
    "NumPy has some basic set operations for 1-dimensional ndarrays. \n",
    "* The most common one is `np.unique()` \n",
    "  * returns the sorted unique values in an array"
   ]
  },
  {
   "cell_type": "code",
   "execution_count": null,
   "metadata": {},
   "outputs": [],
   "source": [
    "names = np.array(['Bob', 'Will', 'Bob', 'Will', 'Joe', 'Joe'])\n",
    "print(np.unique(names))\n",
    "\n",
    "# pure Python alternative:\n",
    "# sorted(set(names))"
   ]
  },
  {
   "cell_type": "markdown",
   "metadata": {},
   "source": [
    "## Logic functions \n",
    "- See also [here](https://numpy.org/doc/stable/reference/routines.logic.html)\n",
    "\n",
    "We have seen how conditions can be checked on all elements in an array\n",
    "- obtaining an array of same dimensions containing \n",
    "  - `True` for the elements satisfying the condition\n",
    "  - `False` for the elements not satisfying the condition  "
   ]
  },
  {
   "cell_type": "code",
   "execution_count": null,
   "metadata": {},
   "outputs": [],
   "source": [
    "data = np.random.randn(7, 4)\n",
    "data"
   ]
  },
  {
   "cell_type": "markdown",
   "metadata": {},
   "source": [
    "What numbers are greater than 0?"
   ]
  },
  {
   "cell_type": "code",
   "execution_count": null,
   "metadata": {},
   "outputs": [],
   "source": [
    "mask = data > 0\n",
    "print(mask.dtype)\n",
    "print(mask.shape)\n",
    "mask"
   ]
  },
  {
   "cell_type": "markdown",
   "metadata": {},
   "source": [
    "NumPy offers __logic functions__ to check Boolean expressions on such Boolean arrays\n",
    "- `any`: a generalization of **OR** returning `True` if at least one entry contains `True` \n",
    "- `all`: a generalization of **AND** returning `True` if at least one entry contains `True` \n",
    "\n",
    "As for the aggregation functions, these can be checked also on single dimensions"
   ]
  },
  {
   "cell_type": "code",
   "execution_count": null,
   "metadata": {},
   "outputs": [],
   "source": [
    "print(mask)\n",
    "print()\n",
    "print()\n",
    "\n",
    "# any( axis)\n",
    "# Test whether any array element along a given axis evaluates to True.\n",
    "print('\\nmask.any()\\n', mask.any() )\n",
    "print('\\nmask.any(axis=0) - for each column\\n', mask.any(axis=0) )\n",
    "print('\\nmask.any(axis=1) - for each row\\n', mask.any(axis=1) )\n",
    "#all(axis)\n",
    "\n",
    "print()\n",
    "print()\n",
    "#Test whether all array elements along a given axis evaluate to True.\n",
    "print('\\nmask.all()\\n', mask.all() )\n",
    "print('\\nmask.all(axis=0) - for each column\\n', mask.all(axis=0) )\n",
    "print('\\nmask.all(axis=1) - for each row\\n', mask.all(axis=1) )"
   ]
  },
  {
   "cell_type": "markdown",
   "metadata": {},
   "source": [
    "# Pandas"
   ]
  },
  {
   "cell_type": "markdown",
   "metadata": {},
   "source": [
    "[Pandas](https://pandas.pydata.org/) is another popular Python package. \n",
    "* It is built on top of NumPy (its data structures consist of several arrays)\n",
    "\n",
    "Pandas provides rich data structures and functions designed to \n",
    "* make it easy, flexible and efficient working with tabular data \n",
    "  - CSV files\n",
    "  - Spreadsheets\n",
    "  - Databases"
   ]
  },
  {
   "cell_type": "markdown",
   "metadata": {},
   "source": [
    "E.g., Pandas allows to easily perform complex data manipulation on multi-dimensional data like \n",
    "* _reshape_ and _slice_\n",
    "* data aggregations \n",
    "* data selection\n",
    "* merge/join tables"
   ]
  },
  {
   "cell_type": "markdown",
   "metadata": {},
   "source": [
    "## Install and import the Pandas module"
   ]
  },
  {
   "cell_type": "markdown",
   "metadata": {},
   "source": [
    "The first time you run this notebook you might have to install Pandas using the following script:"
   ]
  },
  {
   "cell_type": "code",
   "execution_count": null,
   "metadata": {},
   "outputs": [],
   "source": [
    "#%pip install pandas\n",
    "\n",
    "#import sys\n",
    "#!\"{sys.executable}\" -m pip install pandas"
   ]
  },
  {
   "cell_type": "markdown",
   "metadata": {},
   "source": [
    "The Python community has adopted a number of __naming conventions__ for commonly used modules:\n",
    "* Below you see the conventions for numpy, pandas and matplotlib"
   ]
  },
  {
   "cell_type": "code",
   "execution_count": null,
   "metadata": {},
   "outputs": [],
   "source": [
    "#import numpy as np\n",
    "import pandas as pd \n",
    "# import matplotlib.pyplot as plt"
   ]
  },
  {
   "cell_type": "markdown",
   "metadata": {
    "tags": []
   },
   "source": [
    "## Series"
   ]
  },
  {
   "cell_type": "markdown",
   "metadata": {},
   "source": [
    "A Series is a one-dimensional list-like/array-like object containing __2 arrays__\n",
    "* an ndarray containing the __actual data__\n",
    "* an associated ndarray of __labels__ with one label (or index) per data element\n",
    "\n",
    "Intuitively, you can see a Series as \n",
    "* a dictionary (a hash-map)\n",
    "* or, in its simplest form, as a 1-dimensional array/list consisting of\n",
    "  * an array of data, \n",
    "  * an implicit array of labels. It labels each element with its position"
   ]
  },
  {
   "cell_type": "code",
   "execution_count": null,
   "metadata": {},
   "outputs": [],
   "source": [
    "obj = pd.Series([4, 7, -5, 3])\n",
    "obj"
   ]
  },
  {
   "cell_type": "markdown",
   "metadata": {},
   "source": [
    "We note that \n",
    "* The string representation of a Series shows the index on the left and the values on the right\n",
    "  * Obtained using the method `__str__` of the class Series\n",
    "\n",
    "\n",
    "Since we did not specify an index\n",
    "* a default array of labels containing integers from 0 to N - 1 is created.\n",
    "* each element is labeled with its own position in the array\n",
    "\n",
    "If you are interested only in one of the two arrays, just use"
   ]
  },
  {
   "cell_type": "code",
   "execution_count": null,
   "metadata": {},
   "outputs": [],
   "source": [
    "print('Series index: ',obj.index)\n",
    "print('Series values: ',obj.values)"
   ]
  },
  {
   "cell_type": "markdown",
   "metadata": {},
   "source": [
    "Let's now create a Series whose entries are labelled by characters."
   ]
  },
  {
   "cell_type": "code",
   "execution_count": null,
   "metadata": {},
   "outputs": [],
   "source": [
    "obj2 = pd.Series([4, 7, -5, 3], index=['d', 'b', 'a', 'c'])\n",
    "obj2"
   ]
  },
  {
   "cell_type": "markdown",
   "metadata": {},
   "source": [
    "### Indexing, selection, and filtering"
   ]
  },
  {
   "cell_type": "markdown",
   "metadata": {},
   "source": [
    "Similarly to Python [**dict**ionaries](https://docs.python.org/3/tutorial/datastructures.html), \n",
    "* you can use values in the index to select values in the main array"
   ]
  },
  {
   "cell_type": "code",
   "execution_count": null,
   "metadata": {},
   "outputs": [],
   "source": [
    "print(\"obj2['d'] = \\n\",obj2['d'])\n",
    "\n",
    "obj2['d'] = 6\n",
    "print(\"obj2['d']  (after obj2['d'] = 6) =\\n\",obj2['d'])\n",
    "\n",
    "print('\\nYou can also select a number of entries')\n",
    "print(\"obj2[['c', 'a', 'd']] =\")\n",
    "print(obj2[ ['c', 'a', 'd'] ])"
   ]
  },
  {
   "cell_type": "markdown",
   "metadata": {},
   "source": [
    "Indexes are preserved by NumPy array operations like\n",
    "* filtering with a boolean array, scalar multiplication, application of math functions"
   ]
  },
  {
   "cell_type": "markdown",
   "metadata": {},
   "source": [
    "What do you get with `obj2 > 0`?\n",
    "- a copy of the series preserving the index, with `True`/`False` values"
   ]
  },
  {
   "cell_type": "code",
   "execution_count": null,
   "metadata": {},
   "outputs": [],
   "source": [
    "obj2"
   ]
  },
  {
   "cell_type": "code",
   "execution_count": null,
   "metadata": {},
   "outputs": [],
   "source": [
    "obj2 > 0"
   ]
  },
  {
   "cell_type": "code",
   "execution_count": null,
   "metadata": {},
   "outputs": [],
   "source": [
    "print(\"obj2\")\n",
    "print(obj2)\n",
    "print()\n",
    "print(\"NumPy operation obj2[obj2 > 0]\")\n",
    "print(obj2[obj2 > 0])\n",
    "print()\n",
    "print(\"NumPy operation obj2 * 2\")\n",
    "print(obj2 * 2)\n",
    "print()\n",
    "print(\"NumPy operation np.exp(obj2)\")\n",
    "print(np.exp(obj2))"
   ]
  },
  {
   "cell_type": "markdown",
   "metadata": {},
   "source": [
    "### Create a series, and NaN"
   ]
  },
  {
   "cell_type": "markdown",
   "metadata": {},
   "source": [
    "You can create a Series using \n",
    "- a **dict**ionary "
   ]
  },
  {
   "cell_type": "code",
   "execution_count": null,
   "metadata": {},
   "outputs": [],
   "source": [
    "sdata = {'Ohio': 35000, 'Texas': 71000, 'Oregon': 16000, 'Utah': 5000}\n",
    "obj4 = pd.Series(sdata)\n",
    "obj4"
   ]
  },
  {
   "cell_type": "markdown",
   "metadata": {},
   "source": [
    "If you are interested in specific indexes, you can use\n",
    "- a **dict**ionary \n",
    "- and a list as indexes of interest"
   ]
  },
  {
   "cell_type": "code",
   "execution_count": null,
   "metadata": {},
   "outputs": [],
   "source": [
    "sdata = {'Ohio': 35000, 'Texas': 71000, 'Oregon': 16000, 'Utah': 5000}\n",
    "states = ['California', 'Ohio', 'Oregon', 'Texas']\n",
    "#states = ['Ohio', 'Oregon', 'Texas']\n",
    "obj4 = pd.Series(sdata, index=states)\n",
    "obj4 "
   ]
  },
  {
   "cell_type": "markdown",
   "metadata": {},
   "source": [
    "We note that\n",
    "* 3 values found in sdata were placed in the appropriate locations, \n",
    "* but since no value for `'California'` was found, it got a `NaN` (not a number) \n",
    "  * which is considered in pandas to mark missing/NA/NaN values\n",
    "  \n",
    "The `isnull` and `notnull` functions in pandas detect such missing values:\n",
    "- They make a mask!"
   ]
  },
  {
   "cell_type": "code",
   "execution_count": null,
   "metadata": {},
   "outputs": [],
   "source": [
    "pd.isnull(obj4) "
   ]
  },
  {
   "cell_type": "code",
   "execution_count": null,
   "metadata": {},
   "outputs": [],
   "source": [
    "pd.notnull(obj4) "
   ]
  },
  {
   "cell_type": "markdown",
   "metadata": {},
   "source": [
    "E.g., if you want to use only the non-null values you do:"
   ]
  },
  {
   "cell_type": "code",
   "execution_count": null,
   "metadata": {},
   "outputs": [],
   "source": [
    "obj4[pd.notnull(obj4)]"
   ]
  },
  {
   "cell_type": "markdown",
   "metadata": {},
   "source": [
    "## DataFrame\n",
    "* A **Series** can be seen as \n",
    "  - a table with 1 column\n",
    "  - a csv file with 1 column\n",
    "  - an excel file with 1 column\n",
    "  - ...\n",
    "* A **DataFrame is a proper table/csv** with more columns\n",
    "  * A Series is just a simpler version of a dataframe\n",
    "  * A DataFrame is a series with \n",
    "    - **more main arrays** (one per column), and \n",
    "    - **one index**\n",
    "  * DataFrames are the most important objects in pandas"
   ]
  },
  {
   "cell_type": "markdown",
   "metadata": {},
   "source": [
    "### Creating DataFrame objects"
   ]
  },
  {
   "cell_type": "markdown",
   "metadata": {},
   "source": [
    "> Most of the times, you will be loading data from external resources\n",
    "> - local/remote CSV/excel files\n",
    "> - queries on databases\n",
    "> - webservices\n",
    "> - ...\n",
    ">\n",
    "> Here we first show how to create one programmatically.\n",
    "\n",
    "The most common way to build a dataframe is by \n",
    "* using a dict containing lists or arrays of same length\n",
    "  * each key/label becomes a column\n",
    "    * if you specify a subset of key/labels, then only the corresponding column will be added\n",
    "    * if you pass a column that isn’t contained in data, it will get NA values\n",
    "  * each list/array element is a value for that column\n",
    "\n",
    "Essentially we _transpose_ the dictionary"
   ]
  },
  {
   "cell_type": "code",
   "execution_count": null,
   "metadata": {},
   "outputs": [],
   "source": [
    "data = {'state': ['Ohio', 'Ohio', 'Ohio', 'Nevada', 'Nevada', 'Nevada'],\n",
    "        'year': [2000, 2001, 2002, 2001, 2002, 2003],\n",
    "        'pop': [1.5, 1.7, 3.6, 2.4, 2.9, 3.2]}\n",
    "data"
   ]
  },
  {
   "cell_type": "code",
   "execution_count": null,
   "metadata": {
    "collapsed": false,
    "editable": true,
    "jupyter": {
     "outputs_hidden": false
    }
   },
   "outputs": [],
   "source": [
    "frame = pd.DataFrame(data,columns=['state','pop','nonExistingColumn'])\n",
    "frame"
   ]
  },
  {
   "cell_type": "code",
   "execution_count": null,
   "metadata": {},
   "outputs": [],
   "source": [
    "frame.info()"
   ]
  },
  {
   "cell_type": "code",
   "execution_count": null,
   "metadata": {},
   "outputs": [],
   "source": [
    "frame.describe()"
   ]
  },
  {
   "cell_type": "markdown",
   "metadata": {},
   "source": [
    "If we don't specify columns of interest we load all of them"
   ]
  },
  {
   "cell_type": "code",
   "execution_count": null,
   "metadata": {},
   "outputs": [],
   "source": [
    "data"
   ]
  },
  {
   "cell_type": "code",
   "execution_count": null,
   "metadata": {},
   "outputs": [],
   "source": [
    "frame = pd.DataFrame(data)\n",
    "frame"
   ]
  },
  {
   "cell_type": "markdown",
   "metadata": {},
   "source": [
    "We see above that the DataFrame also has an index/labels array\n",
    "* the first column\n",
    "  * in this case we have the default array of labels\n",
    "  * but specific ones can be given explicitly"
   ]
  },
  {
   "cell_type": "code",
   "execution_count": null,
   "metadata": {},
   "outputs": [],
   "source": [
    "#frame1 = pd.DataFrame(data, index = ['a','b','c','d','e','f'] )\n",
    "frame1 = pd.DataFrame(data, index = ['o1','o2','o3','n1','n2','n3'] )\n",
    "frame1"
   ]
  },
  {
   "cell_type": "markdown",
   "metadata": {},
   "source": [
    "A column of a DataFrame can be retrieved, obtaining a Series \n",
    "* by dict-like notation \n",
    "* or by attribute:"
   ]
  },
  {
   "cell_type": "code",
   "execution_count": null,
   "metadata": {},
   "outputs": [],
   "source": [
    "frame2 = pd.DataFrame(data, columns=['year', 'state', 'pop', 'debt'], \n",
    "                      index=['one', 'two', 'three', 'four', 'five','six'])\n",
    "frame2"
   ]
  },
  {
   "cell_type": "code",
   "execution_count": null,
   "metadata": {},
   "outputs": [],
   "source": [
    "#Select single column or sequence of columns from the DataFrame\n",
    "frame2[ 'state' ] # by dict-like notation "
   ]
  },
  {
   "cell_type": "code",
   "execution_count": null,
   "metadata": {},
   "outputs": [],
   "source": [
    "frame2.state # by attribute"
   ]
  },
  {
   "cell_type": "code",
   "execution_count": null,
   "metadata": {},
   "outputs": [],
   "source": [
    "#frame2[['state','year']]\n",
    "frame2[ ['state'] ]"
   ]
  },
  {
   "cell_type": "code",
   "execution_count": null,
   "metadata": {},
   "outputs": [],
   "source": [
    "frame2[['state','year']]"
   ]
  },
  {
   "cell_type": "markdown",
   "metadata": {},
   "source": [
    "> Note the difference\n",
    "> - `['state']` vs `.state`\n",
    "<br/>\n",
    "> They are both valid"
   ]
  },
  {
   "cell_type": "markdown",
   "metadata": {},
   "source": [
    "If you create a dataframe using a 2-levels nested dictionary\n",
    "* The keys of the outer dictionary will be used for the column names\n",
    "* The keys of the inner dictionary will be used for the index names"
   ]
  },
  {
   "cell_type": "code",
   "execution_count": null,
   "metadata": {
    "collapsed": false,
    "editable": true,
    "jupyter": {
     "outputs_hidden": false
    }
   },
   "outputs": [],
   "source": [
    "inner_dict1 ={           2001: 2.4, 2002: 2.9}\n",
    "inner_dict2 ={2000: 1.5, 2001: 1.7, 2002: 3.6}\n",
    "\n",
    "outer_dict = {'Nevada': inner_dict1, 'Ohio': inner_dict2}\n",
    "frame3 = pd.DataFrame(outer_dict)\n",
    "frame3"
   ]
  },
  {
   "cell_type": "markdown",
   "metadata": {},
   "source": [
    "You can also choose which keys of the inner dict (i.e. which indexes) to use\n",
    "* we are not using 2001 and 2000\n",
    "* we are using a non-existing index 2003"
   ]
  },
  {
   "cell_type": "code",
   "execution_count": null,
   "metadata": {
    "collapsed": false,
    "editable": true,
    "jupyter": {
     "outputs_hidden": false
    }
   },
   "outputs": [],
   "source": [
    "pd.DataFrame(outer_dict, index=[2002, 2003])"
   ]
  },
  {
   "cell_type": "markdown",
   "metadata": {
    "editable": true,
    "jupyter": {
     "outputs_hidden": false
    }
   },
   "source": [
    "Like Series, the `values` attribute \n",
    "- returns the data contained in the DataFrame as a 2D ndarray"
   ]
  },
  {
   "cell_type": "code",
   "execution_count": null,
   "metadata": {},
   "outputs": [],
   "source": [
    "frame3"
   ]
  },
  {
   "cell_type": "code",
   "execution_count": null,
   "metadata": {
    "collapsed": false,
    "editable": true,
    "jupyter": {
     "outputs_hidden": false
    }
   },
   "outputs": [],
   "source": [
    "frame3.values"
   ]
  },
  {
   "cell_type": "markdown",
   "metadata": {},
   "source": [
    "By the way, do you remember what is nan? How can I handle it?"
   ]
  },
  {
   "cell_type": "code",
   "execution_count": null,
   "metadata": {},
   "outputs": [],
   "source": [
    "frame3.fillna(1)"
   ]
  },
  {
   "cell_type": "markdown",
   "metadata": {},
   "source": [
    "### Not-a-Number and column names"
   ]
  },
  {
   "cell_type": "code",
   "execution_count": null,
   "metadata": {},
   "outputs": [],
   "source": [
    "data"
   ]
  },
  {
   "cell_type": "code",
   "execution_count": null,
   "metadata": {
    "collapsed": false,
    "editable": true,
    "jupyter": {
     "outputs_hidden": false
    }
   },
   "outputs": [],
   "source": [
    "frameNaN = pd.DataFrame(data,columns=['state','pop','nonInitializedColumn'])\n",
    "frameNaN"
   ]
  },
  {
   "cell_type": "markdown",
   "metadata": {
    "tags": []
   },
   "source": [
    "Can I get rid of NaN replacing them with a given value!?\n",
    "   - Yes!"
   ]
  },
  {
   "cell_type": "code",
   "execution_count": null,
   "metadata": {},
   "outputs": [],
   "source": [
    "frameNaN.fillna(0)"
   ]
  },
  {
   "cell_type": "markdown",
   "metadata": {},
   "source": [
    "> Beware: we create a new dataframe without modifying the original one"
   ]
  },
  {
   "cell_type": "code",
   "execution_count": null,
   "metadata": {},
   "outputs": [],
   "source": [
    "frameNaN"
   ]
  },
  {
   "cell_type": "markdown",
   "metadata": {},
   "source": [
    "You can either\n",
    "- Assign the result of fillna \n",
    "    - We are creating a new dataframe. \n",
    "    - This will NOT affect existing views of the dataframe\n",
    "- Set parameter `inplace=True`\n",
    "    - We are modifying the original dataframe. \n",
    "    - This will affect existing views of the dataframe"
   ]
  },
  {
   "cell_type": "code",
   "execution_count": null,
   "metadata": {},
   "outputs": [],
   "source": [
    "frameNaN_cp=frameNaN.fillna(0)\n",
    "frameNaN_cp"
   ]
  },
  {
   "cell_type": "code",
   "execution_count": null,
   "metadata": {},
   "outputs": [],
   "source": [
    "frameNaN"
   ]
  },
  {
   "cell_type": "code",
   "execution_count": null,
   "metadata": {},
   "outputs": [],
   "source": [
    "frameNaN.fillna(0,inplace=True)\n",
    "frameNaN"
   ]
  },
  {
   "cell_type": "markdown",
   "metadata": {},
   "source": [
    "Well, 'nonInitializedColumn' is not a good name anymore :D\n",
    "- Can I change the name of columns?\n",
    "- **Yes!**"
   ]
  },
  {
   "cell_type": "code",
   "execution_count": null,
   "metadata": {},
   "outputs": [],
   "source": [
    "frameNaN.columns=['state','pop','initializedColumn']\n",
    "frameNaN"
   ]
  },
  {
   "cell_type": "markdown",
   "metadata": {},
   "source": [
    "When replacing NaN, we might want to use default values depending on the data itself\n",
    "> Replace all NaN with\n",
    "> - the mean\n",
    "> - the median"
   ]
  },
  {
   "cell_type": "code",
   "execution_count": null,
   "metadata": {},
   "outputs": [],
   "source": [
    "inner1 ={           2001: 2.4, 2002: 2.9, 2003: 10}\n",
    "inner2 ={2000: 1.5, 2001: 1.7, 2002: 3.6, 2003: 12}\n",
    "\n",
    "outer = {'Nevada': inner1, 'Ohio': inner2}\n",
    "df = pd.DataFrame(outer)\n",
    "df"
   ]
  },
  {
   "cell_type": "code",
   "execution_count": null,
   "metadata": {},
   "outputs": [],
   "source": [
    "df.fillna(1)"
   ]
  },
  {
   "cell_type": "code",
   "execution_count": null,
   "metadata": {
    "tags": []
   },
   "outputs": [],
   "source": [
    "df.fillna(df.mean())"
   ]
  },
  {
   "cell_type": "code",
   "execution_count": null,
   "metadata": {},
   "outputs": [],
   "source": [
    "df[['Nevada']].fillna(df[['Nevada']].mean())"
   ]
  },
  {
   "cell_type": "code",
   "execution_count": null,
   "metadata": {},
   "outputs": [],
   "source": [
    "df.fillna(df.median())"
   ]
  },
  {
   "cell_type": "code",
   "execution_count": null,
   "metadata": {},
   "outputs": [],
   "source": [
    "#df.median(axis=1)"
   ]
  },
  {
   "cell_type": "markdown",
   "metadata": {},
   "source": [
    "### Updating DataFrame objects"
   ]
  },
  {
   "cell_type": "markdown",
   "metadata": {},
   "source": [
    "Values in a dataframe column can be modified by assignment. \n",
    "* If we assign a single value to a column, then the value is __broadcasted__ to the whole column\n",
    "* E.g., the empty `debt` column can be initialized to 16.5 as:"
   ]
  },
  {
   "cell_type": "code",
   "execution_count": null,
   "metadata": {},
   "outputs": [],
   "source": [
    "frame2"
   ]
  },
  {
   "cell_type": "code",
   "execution_count": null,
   "metadata": {
    "collapsed": false,
    "editable": true,
    "jupyter": {
     "outputs_hidden": false
    }
   },
   "outputs": [],
   "source": [
    "frame2['debt'] = 16.5\n",
    "frame2"
   ]
  },
  {
   "cell_type": "code",
   "execution_count": null,
   "metadata": {},
   "outputs": [],
   "source": [
    "frame2.debt=1.0\n",
    "frame2"
   ]
  },
  {
   "cell_type": "markdown",
   "metadata": {},
   "source": [
    "When assigning lists or arrays to a column, \n",
    "- they must contain as many elements as rows in the DataFrame"
   ]
  },
  {
   "cell_type": "code",
   "execution_count": null,
   "metadata": {},
   "outputs": [],
   "source": [
    "frame2['debt'] = np.arange(6.)\n",
    "#The following would not work\n",
    "#frame2['debt'] = np.arange(7.)\n",
    "\n",
    "frame2['debt'] = np.arange(6)\n",
    "\n",
    "print(frame2)\n",
    "frame2.dtypes"
   ]
  },
  {
   "cell_type": "markdown",
   "metadata": {
    "editable": true,
    "jupyter": {
     "outputs_hidden": false
    }
   },
   "source": [
    "Creating and deleting columns\n",
    "* Assigning a column that doesn’t exist will create a new column. \n",
    "* The del keyword will delete columns as with a dict. The drop methid deletes columns"
   ]
  },
  {
   "cell_type": "code",
   "execution_count": null,
   "metadata": {},
   "outputs": [],
   "source": [
    "frame2"
   ]
  },
  {
   "cell_type": "code",
   "execution_count": null,
   "metadata": {
    "collapsed": false,
    "editable": true,
    "jupyter": {
     "outputs_hidden": false
    }
   },
   "outputs": [],
   "source": [
    "frame2['eastern'] =  (frame2.state == 'Ohio')\n",
    "#frame2['eastern'] = True\n",
    "frame2"
   ]
  },
  {
   "cell_type": "markdown",
   "metadata": {},
   "source": [
    "> Note, you **cannot** create columns using the attribute notation\n",
    "> * `frame2.easterntwo =  (frame2.state == 'Ohio')`\n",
    "> * This would not work!"
   ]
  },
  {
   "cell_type": "markdown",
   "metadata": {},
   "source": [
    "Deleting columns and rows\n",
    "- `del` modifies the dataframe on which it is applied\n",
    "- [`drop`](https://pandas.pydata.org/pandas-docs/stable/reference/api/pandas.DataFrame.drop.html) has a number of useful attributes\n",
    "  - can be used to delete columns or rows\n",
    "  - creates a copy by default, but can also act on the current one\n",
    "    * As for `fillna`, it depends on the parameter `inplace`!"
   ]
  },
  {
   "cell_type": "code",
   "execution_count": null,
   "metadata": {},
   "outputs": [],
   "source": [
    "del frame2['eastern']\n",
    "frame2"
   ]
  },
  {
   "cell_type": "code",
   "execution_count": null,
   "metadata": {},
   "outputs": [],
   "source": [
    "frame2['new_col']=np.arange(6)\n",
    "print('frame2')\n",
    "print(frame2)\n",
    "\n",
    "frame2drop = frame2.drop(['new_col'],axis=1)\n",
    "print('\\nframe2drop')\n",
    "print(frame2drop)\n",
    "print('\\nframe2')\n",
    "print(frame2)"
   ]
  },
  {
   "cell_type": "markdown",
   "metadata": {},
   "source": [
    "> Drop can modify the current DataFrame if setting `inplace=True`"
   ]
  },
  {
   "cell_type": "code",
   "execution_count": null,
   "metadata": {},
   "outputs": [],
   "source": [
    "frame2['new_col']=np.arange(6)\n",
    "frame2\n",
    "print('frame2')\n",
    "print(frame2)\n",
    "\n",
    "frame2.drop(['new_col'],axis=1,inplace=True)\n",
    "print('\\nframe2 after dropping new_col')\n",
    "print(frame2)"
   ]
  },
  {
   "cell_type": "markdown",
   "metadata": {},
   "source": [
    "If you try to drop a non-existing column\n",
    "- E.g. you have already dropped it while reharsing before the class ;)\n",
    "- You get an error. BUt you can ask to ignore such errors..."
   ]
  },
  {
   "cell_type": "code",
   "execution_count": null,
   "metadata": {},
   "outputs": [],
   "source": [
    "#You get error\n",
    "#frame2.drop(['new_col'],axis=1,inplace=True)"
   ]
  },
  {
   "cell_type": "code",
   "execution_count": null,
   "metadata": {},
   "outputs": [],
   "source": [
    "#frame2.drop(['new_col'],axis=1,inplace=True) #deleting a non existing column gives errors\n",
    "frame2.drop(['new_col'],axis=1,inplace=True,errors='ignore') #you can ignore errors"
   ]
  },
  {
   "cell_type": "markdown",
   "metadata": {},
   "source": [
    "We have just seen how to __delete columns__\n",
    "\n",
    "In order to __delete rows__ \n",
    "* you just use the `drop` method without specifying the `axis` (or using `axis=0`)"
   ]
  },
  {
   "cell_type": "code",
   "execution_count": null,
   "metadata": {},
   "outputs": [],
   "source": [
    "frame2"
   ]
  },
  {
   "cell_type": "code",
   "execution_count": null,
   "metadata": {},
   "outputs": [],
   "source": [
    "frame100 = frame2.drop(['five'])\n",
    "frame100"
   ]
  },
  {
   "cell_type": "code",
   "execution_count": null,
   "metadata": {},
   "outputs": [],
   "source": [
    "frame100['year']=100\n",
    "frame100"
   ]
  },
  {
   "cell_type": "code",
   "execution_count": null,
   "metadata": {},
   "outputs": [],
   "source": [
    "frame100.drop(['four','three'],inplace=True)\n",
    "frame100"
   ]
  },
  {
   "cell_type": "code",
   "execution_count": null,
   "metadata": {},
   "outputs": [],
   "source": [
    "frame2"
   ]
  },
  {
   "cell_type": "markdown",
   "metadata": {
    "editable": true,
    "jupyter": {
     "outputs_hidden": false
    }
   },
   "source": [
    "Similarly to multi-dimensional arrays, \n",
    "* you can **transpose** a dataframe:"
   ]
  },
  {
   "cell_type": "code",
   "execution_count": null,
   "metadata": {
    "collapsed": false,
    "editable": true,
    "jupyter": {
     "outputs_hidden": false
    }
   },
   "outputs": [],
   "source": [
    "frame2.T"
   ]
  },
  {
   "cell_type": "code",
   "execution_count": null,
   "metadata": {},
   "outputs": [],
   "source": [
    "frame2.transpose()"
   ]
  },
  {
   "cell_type": "markdown",
   "metadata": {},
   "source": [
    "As for array, no data is actually copied when transposing\n",
    "* unless you specify it with attribute **copy**\n",
    "\n",
    "> BEWARE: A copy will be always created if the dataframe contains __mixed dtypes__"
   ]
  },
  {
   "cell_type": "code",
   "execution_count": null,
   "metadata": {},
   "outputs": [],
   "source": [
    "frame2"
   ]
  },
  {
   "cell_type": "code",
   "execution_count": null,
   "metadata": {},
   "outputs": [],
   "source": [
    "frame2.dtypes"
   ]
  },
  {
   "cell_type": "code",
   "execution_count": null,
   "metadata": {},
   "outputs": [],
   "source": [
    "frame2=frame2.astype({'year': 'int64'})\n",
    "frame2.dtypes"
   ]
  },
  {
   "cell_type": "markdown",
   "metadata": {},
   "source": [
    "> __ALERT: an almost 'bug' in pandas__"
   ]
  },
  {
   "cell_type": "code",
   "execution_count": null,
   "metadata": {},
   "outputs": [],
   "source": [
    "#Given that we have strings, integers and flaots, a copy is done no matter what\n",
    "frame2T=frame2.transpose(copy=False)\n",
    "frame2.year=frame2.year-100\n",
    "print(frame2)\n",
    "print()\n",
    "print(frame2T)"
   ]
  },
  {
   "cell_type": "code",
   "execution_count": null,
   "metadata": {},
   "outputs": [],
   "source": [
    "frame2=frame2.astype({'year': 'float64'})\n",
    "frame2.dtypes"
   ]
  },
  {
   "cell_type": "code",
   "execution_count": null,
   "metadata": {},
   "outputs": [],
   "source": [
    "frame2.drop(['state','eastern'],axis=1,inplace=True,errors='ignore')\n",
    "frame2"
   ]
  },
  {
   "cell_type": "code",
   "execution_count": null,
   "metadata": {},
   "outputs": [],
   "source": [
    "frame2.dtypes"
   ]
  },
  {
   "cell_type": "markdown",
   "metadata": {},
   "source": [
    "We now have just floats. \n",
    "- Therefore a copy will be created only if required"
   ]
  },
  {
   "cell_type": "code",
   "execution_count": null,
   "metadata": {},
   "outputs": [],
   "source": [
    "frame2T=frame2.transpose(copy=False)\n",
    "frame2.year=frame2.year-100\n",
    "print(frame2)\n",
    "print()\n",
    "print(frame2T)"
   ]
  },
  {
   "cell_type": "markdown",
   "metadata": {},
   "source": [
    "### Indexing, selection, and filtering\n"
   ]
  },
  {
   "cell_type": "markdown",
   "metadata": {},
   "source": [
    "> Indexing and slicing work differently in DataFrames\n",
    "> - __Indexing__ works on __columns__\n",
    "> - __Slicing__ works on __rows__"
   ]
  },
  {
   "cell_type": "markdown",
   "metadata": {},
   "source": [
    "Indexing into a DataFrame\n",
    "- allows to retrieving one or more of its __columns__:"
   ]
  },
  {
   "cell_type": "code",
   "execution_count": null,
   "metadata": {},
   "outputs": [],
   "source": [
    "data = pd.DataFrame(np.arange(16).reshape((4, 4)),\n",
    "                    index=['Ohio', 'Colorado', 'Utah', 'New York'],\n",
    "                    columns=['one', 'two', 'three', 'four'])\n",
    "data"
   ]
  },
  {
   "cell_type": "code",
   "execution_count": null,
   "metadata": {},
   "outputs": [],
   "source": [
    "data['two'] #retrieving one column (a series)"
   ]
  },
  {
   "cell_type": "code",
   "execution_count": null,
   "metadata": {},
   "outputs": [],
   "source": [
    "data[['three', 'one']] #retrieving two columns (a dataframe)"
   ]
  },
  {
   "cell_type": "markdown",
   "metadata": {},
   "source": [
    "If you select by slicing or Boolean expression, \n",
    "- it is interpreted as a selection on __rows__"
   ]
  },
  {
   "cell_type": "code",
   "execution_count": null,
   "metadata": {},
   "outputs": [],
   "source": [
    "data[:2] #rows by slicing "
   ]
  },
  {
   "cell_type": "code",
   "execution_count": null,
   "metadata": {},
   "outputs": [],
   "source": [
    "data['three'] > 5"
   ]
  },
  {
   "cell_type": "code",
   "execution_count": null,
   "metadata": {},
   "outputs": [],
   "source": [
    "data[ data['three'] > 5 ]  #rows by a boolean array"
   ]
  },
  {
   "cell_type": "markdown",
   "metadata": {},
   "source": [
    "#### Selection using iloc and loc"
   ]
  },
  {
   "cell_type": "markdown",
   "metadata": {},
   "source": [
    "The `iloc` field of dataframes allows to select subsets of rows and columns using NumPy-like notation\n",
    "* The iloc indexer for Dataframes is used for integer-location based indexing / selection by position.\n",
    "* `data.iloc[row selection, column selection]`\n",
    "   - column selection is optional\n",
    "   - **a bit like selections with 2-dimensional arrays seen before**"
   ]
  },
  {
   "cell_type": "code",
   "execution_count": null,
   "metadata": {},
   "outputs": [],
   "source": [
    "data"
   ]
  },
  {
   "cell_type": "code",
   "execution_count": null,
   "metadata": {},
   "outputs": [],
   "source": [
    "data.iloc[1]   # second row"
   ]
  },
  {
   "cell_type": "code",
   "execution_count": null,
   "metadata": {},
   "outputs": [],
   "source": [
    "data.iloc[-1]  # last row"
   ]
  },
  {
   "cell_type": "code",
   "execution_count": null,
   "metadata": {},
   "outputs": [],
   "source": [
    "data.iloc[:,1] # second column"
   ]
  },
  {
   "cell_type": "code",
   "execution_count": null,
   "metadata": {},
   "outputs": [],
   "source": [
    "data.iloc[:,-1] # last column"
   ]
  },
  {
   "cell_type": "markdown",
   "metadata": {},
   "source": [
    "Multiple row and column selections using iloc\n",
    "- all rows   , first two columns, \n",
    "- last 2 rows, first two columns, "
   ]
  },
  {
   "cell_type": "code",
   "execution_count": null,
   "metadata": {},
   "outputs": [],
   "source": [
    "data"
   ]
  },
  {
   "cell_type": "code",
   "execution_count": null,
   "metadata": {},
   "outputs": [],
   "source": [
    "data.iloc[:, :2] # all rows, first 2 columns"
   ]
  },
  {
   "cell_type": "code",
   "execution_count": null,
   "metadata": {},
   "outputs": [],
   "source": [
    "data.iloc[2:, :2] # rows 2,3, first 2 columns"
   ]
  },
  {
   "cell_type": "code",
   "execution_count": null,
   "metadata": {},
   "outputs": [],
   "source": [
    "data.iloc[[1, 2], [3, 0, 1]] # 2nd 3rd row,  4th 1st 2nd columns."
   ]
  },
  {
   "cell_type": "markdown",
   "metadata": {},
   "source": [
    "The `loc` indexer works similarly\n",
    "* but you use column/index names rather than positions\n",
    "    - Selecting rows by label/index\n",
    "    - Selecting rows with a boolean / conditional lookup\n",
    "* The loc indexer is used with the same syntax as iloc: `data.loc[row selection, column selection]`"
   ]
  },
  {
   "cell_type": "markdown",
   "metadata": {},
   "source": [
    "> * `loc` gets rows (and/or columns) with particular **labels**\n",
    "> * `iloc` gets rows (and/or columns) at integer **locations**"
   ]
  },
  {
   "cell_type": "code",
   "execution_count": null,
   "metadata": {},
   "outputs": [],
   "source": [
    "print(data)\n",
    "print()\n",
    "print(\"data.loc[['Colorado','Ohio']]\")\n",
    "print(data.loc[['Colorado','Ohio']]) #List of labels index.\n",
    "print()\n",
    "print(\"data.loc[:,'one']\")\n",
    "print(data.loc[:,'one']) # first column of data frame\n",
    "print()\n",
    "\n",
    "# Multiple row and column selections using loc and DataFrame\n",
    "print(data.loc[['Colorado','Ohio'], ['one','four']])  # 'Colorado','Ohio' row + 'one','four'columns."
   ]
  },
  {
   "cell_type": "code",
   "execution_count": null,
   "metadata": {},
   "outputs": [],
   "source": [
    "data"
   ]
  },
  {
   "cell_type": "code",
   "execution_count": null,
   "metadata": {},
   "outputs": [],
   "source": [
    "data.loc['Colorado':'New York', 'two':]"
   ]
  },
  {
   "cell_type": "markdown",
   "metadata": {},
   "source": [
    "### Arithmetics and Data Alignment\n",
    "When summing 2 dataframes with different indexes or columns, we get a dataframe where\n",
    "* Entries with column and index present in both dataframes have a proper value \n",
    "* The others have NaN\n",
    "\n",
    "If you sum using method `add`\n",
    "- `fill_value` can force a default value to be used when an entry exists only in one dataframe\n",
    "\n",
    "This is known as __data alignment__"
   ]
  },
  {
   "cell_type": "markdown",
   "metadata": {},
   "source": [
    "#### If not using `fill_value`, column-index must exist in both dataframes"
   ]
  },
  {
   "cell_type": "code",
   "execution_count": null,
   "metadata": {},
   "outputs": [],
   "source": [
    "df1 = pd.DataFrame(np.arange(4.).reshape((2, 2)), \n",
    "                   columns=['a','b'],\n",
    "                   index=['Texas', 'Colorado'])\n",
    "df1"
   ]
  },
  {
   "cell_type": "code",
   "execution_count": null,
   "metadata": {},
   "outputs": [],
   "source": [
    "df2 = pd.DataFrame((np.arange(3.)+4).reshape((1, 3)), \n",
    "                   columns=['a','b','c'],\n",
    "                   index=['Texas'])\n",
    "df2"
   ]
  },
  {
   "cell_type": "code",
   "execution_count": null,
   "metadata": {},
   "outputs": [],
   "source": [
    "df1 + df2"
   ]
  },
  {
   "cell_type": "code",
   "execution_count": null,
   "metadata": {},
   "outputs": [],
   "source": [
    "df1.add(df2)"
   ]
  },
  {
   "cell_type": "markdown",
   "metadata": {},
   "source": [
    "#### If using `fill_value`, column-index must exist in one dataframe"
   ]
  },
  {
   "cell_type": "code",
   "execution_count": null,
   "metadata": {},
   "outputs": [],
   "source": [
    "df1.add(df2)"
   ]
  },
  {
   "cell_type": "markdown",
   "metadata": {},
   "source": [
    "If you want to see **Colorado** in the result\n",
    "- You can fill a **default value**"
   ]
  },
  {
   "cell_type": "code",
   "execution_count": null,
   "metadata": {},
   "outputs": [],
   "source": [
    "df_sum=df1.add(df2, fill_value=0)\n",
    "df_sum"
   ]
  },
  {
   "cell_type": "code",
   "execution_count": null,
   "metadata": {},
   "outputs": [],
   "source": [
    "df_sum.fillna(0)"
   ]
  },
  {
   "cell_type": "code",
   "execution_count": null,
   "metadata": {},
   "outputs": [],
   "source": [
    "df1.add(df2, fill_value=100)"
   ]
  },
  {
   "cell_type": "markdown",
   "metadata": {},
   "source": [
    "> `Colorado,c` remains NA because it does not appear in any dataframe"
   ]
  },
  {
   "cell_type": "markdown",
   "metadata": {
    "tags": []
   },
   "source": [
    "### Function application and mapping"
   ]
  },
  {
   "cell_type": "markdown",
   "metadata": {},
   "source": [
    "#### A digression on `lambda` functions"
   ]
  },
  {
   "cell_type": "markdown",
   "metadata": {},
   "source": [
    "__[Lambda functions](https://www.w3schools.com/python/python_lambda.asp)__: in some cases, it might be convenient to define on-the-fly anonymous simple functions\n",
    "* __anonymous__: the function has no name\n",
    "* __simple__: the function can consist only of one expression\n",
    "\n",
    "A lambda function that computes the sum of two numbers: \n",
    "- `lambda a, b: a+b`"
   ]
  },
  {
   "cell_type": "markdown",
   "metadata": {},
   "source": [
    "Recall:\n",
    "- Everything in python is an object, also (lambda) functions\n",
    "  - You can assign them to variables\n",
    "  - You can pass them as parameters"
   ]
  },
  {
   "cell_type": "code",
   "execution_count": null,
   "metadata": {},
   "outputs": [],
   "source": [
    "my_lfun = lambda a, b: a+b\n",
    "print(type(my_lfun))\n",
    "my_lfun(1,2)"
   ]
  },
  {
   "cell_type": "code",
   "execution_count": null,
   "metadata": {},
   "outputs": [],
   "source": [
    "def expression_evaluator(f,n1,n2):\n",
    "    print('The result is',f(n1,n2))\n",
    "\n",
    "expression_evaluator(lambda a, b: a+b, 1,2)\n",
    "expression_evaluator(lambda a, b: a*b, 1,2)"
   ]
  },
  {
   "cell_type": "markdown",
   "metadata": {},
   "source": [
    "A lambda function is really nothing more than a simple function without name\n",
    "* Why should we use them then?\n",
    "* Due to syntactic limiations regarding `def`\n",
    "\n",
    "There are places where `def` cannot be used:\n",
    "* In arguments of functions or in return statements\n",
    "* We will see that we can ask Pandas to apply a lambda expression to a dataframe. This cannot be done with normal functions\n",
    "\n",
    "Lambda expressions can help you avoiding annoying workarounds\n",
    "* In the end, it is mostly syntactic sugar"
   ]
  },
  {
   "cell_type": "markdown",
   "metadata": {},
   "source": [
    "#### A nerdish digression to read if interested"
   ]
  },
  {
   "cell_type": "markdown",
   "metadata": {},
   "source": [
    "An interesing feature related to lambda functions are\n",
    "- Python closurses to *attach data to code*"
   ]
  },
  {
   "cell_type": "code",
   "execution_count": null,
   "metadata": {},
   "outputs": [],
   "source": [
    "# Python closures and lambda expressions\n",
    "#    We attach data to code\n",
    "def myfunc(n):\n",
    "    return lambda a : a * n\n",
    "\n",
    "mydoubler = myfunc(2)\n",
    "mytripler = myfunc(3)\n",
    "\n",
    "print(mydoubler(11))\n",
    "print(mytripler(11))"
   ]
  },
  {
   "cell_type": "code",
   "execution_count": null,
   "metadata": {},
   "outputs": [],
   "source": [
    "#This cannot be done\n",
    "# def myfunc(n):\n",
    "#   return def aaa(a) :\n",
    "#             a * n            "
   ]
  },
  {
   "cell_type": "markdown",
   "metadata": {},
   "source": [
    "However you can do"
   ]
  },
  {
   "cell_type": "code",
   "execution_count": null,
   "metadata": {},
   "outputs": [],
   "source": [
    "def myfunc(n):\n",
    "    def myinnerfunc(a) : \n",
    "        return a * n\n",
    "    return myinnerfunc\n",
    "\n",
    "mydoubler2 = myfunc(2)\n",
    "mytripler2 = myfunc(3)\n",
    "\n",
    "print(mydoubler(11))\n",
    "print(mytripler(11))"
   ]
  },
  {
   "cell_type": "markdown",
   "metadata": {},
   "source": [
    "Lambda functions are typically used in conjunction with\n",
    "* __map__: applies a given function to each element in a sequence\n",
    "* __filter__: applies a Boolean function to each element in a sequence, and returns only those evaluated to `true`\n",
    "* __reduce__: applies cumulatively a given function to the elements in a sequence, and return the cumulative result\n",
    "\n",
    "Some examples and interesting discussions on lambdas, map, filter, and reduce can be found at:\n",
    "* [Reference 1](https://book.pythontips.com/en/latest/map_filter.html#map-filter-and-reduce)\n",
    "* [Reference 2](https://www.learnpython.org/en/Map,_Filter,_Reduce)\n",
    "\n",
    "Here we see how lambda functions allow to \n",
    "- _enrich_ the set of functions applicable to DataFrames\n",
    "- apply _compactly_ complex functions to DataFrames"
   ]
  },
  {
   "cell_type": "markdown",
   "metadata": {},
   "source": [
    "#### Function application and mapping\n",
    "NumPy [ufuncs](https://www.w3schools.com/python/numpy_ufunc.asp) \n",
    "- element-wise array functions\n",
    "- work fine also with pandas objects\n",
    "\n",
    "For example\n",
    "- `np.abs(frame)` applies element-wise `abs` to all values in the dataframe `frame`"
   ]
  },
  {
   "cell_type": "code",
   "execution_count": null,
   "metadata": {},
   "outputs": [],
   "source": [
    "frame = pd.DataFrame(np.random.randn(4, 3), columns=list('bde'),\n",
    "                     index=['Utah', 'Ohio', 'Texas', 'Oregon'])\n",
    "frame"
   ]
  },
  {
   "cell_type": "code",
   "execution_count": null,
   "metadata": {},
   "outputs": [],
   "source": [
    "np.abs(frame)"
   ]
  },
  {
   "cell_type": "markdown",
   "metadata": {},
   "source": [
    "But you can also `apply` any function thought for 1d arrays to each column or row.\n",
    "- This gives you freedom in creating your own functions"
   ]
  },
  {
   "cell_type": "code",
   "execution_count": null,
   "metadata": {},
   "outputs": [],
   "source": [
    "my_abs = lambda arr: arr.abs()\n",
    "frame.apply(my_abs)"
   ]
  },
  {
   "cell_type": "code",
   "execution_count": null,
   "metadata": {
    "collapsed": false,
    "editable": true,
    "jupyter": {
     "outputs_hidden": false
    }
   },
   "outputs": [],
   "source": [
    "f = lambda arr: arr.abs() * 2 + 2\n",
    "frame.apply(f)"
   ]
  },
  {
   "cell_type": "markdown",
   "metadata": {},
   "source": [
    "Can I apply a function conditionally to the values in the dataframe?\n",
    "- `frame.apply(f)` or `frame.apply(f,axis=0)`\n",
    "  - You work on columns (can access and use single values by index)\n",
    "- `frame.apply(f,axis=1)`\n",
    "  - You work on rows (can access and use single values by column names)"
   ]
  },
  {
   "cell_type": "code",
   "execution_count": null,
   "metadata": {},
   "outputs": [],
   "source": [
    "frame"
   ]
  },
  {
   "cell_type": "code",
   "execution_count": null,
   "metadata": {},
   "outputs": [],
   "source": [
    "# Double only columns where Texas is > 0\n",
    "f = lambda arr: arr*2 if arr.Texas>-1.0 else arr-100\n",
    "frame.apply(f,axis=0) #same as axis=\"rows\""
   ]
  },
  {
   "cell_type": "code",
   "execution_count": null,
   "metadata": {},
   "outputs": [],
   "source": [
    "frame"
   ]
  },
  {
   "cell_type": "code",
   "execution_count": null,
   "metadata": {},
   "outputs": [],
   "source": [
    "# Double only rows where b is positive and e is negative\n",
    "f = lambda arr: arr*2 if arr.d>0 and arr.e<0 else arr-100\n",
    "frame.apply(f,axis=1) #same as axis=\"columns\""
   ]
  },
  {
   "cell_type": "markdown",
   "metadata": {},
   "source": [
    "If the applied function aggregates an array into a value, you get a Series with\n",
    "- an index per column\n",
    "- the aggregated value of each column\n",
    "\n",
    "As usual, you can use `axis` to work on rows rather than on columns"
   ]
  },
  {
   "cell_type": "code",
   "execution_count": null,
   "metadata": {},
   "outputs": [],
   "source": [
    "frame"
   ]
  },
  {
   "cell_type": "code",
   "execution_count": null,
   "metadata": {},
   "outputs": [],
   "source": [
    "f = lambda arr: arr.max()\n",
    "frame.apply(f)"
   ]
  },
  {
   "cell_type": "code",
   "execution_count": null,
   "metadata": {
    "collapsed": false,
    "editable": true,
    "jupyter": {
     "outputs_hidden": false
    }
   },
   "outputs": [],
   "source": [
    "frame.apply(f, axis='columns')"
   ]
  },
  {
   "cell_type": "markdown",
   "metadata": {},
   "source": [
    "Python functions for scalars (single values) rather than arrays (entire columns) can be used as well\n",
    "- [`applymap`](https://pandas.pydata.org/pandas-docs/stable/reference/api/pandas.DataFrame.applymap.html) applies a function that accepts and returns a scalar to every element of a DataFrame\n",
    "- `map` can be used to obtain same result for series"
   ]
  },
  {
   "cell_type": "code",
   "execution_count": null,
   "metadata": {},
   "outputs": [],
   "source": [
    "frame"
   ]
  },
  {
   "cell_type": "code",
   "execution_count": null,
   "metadata": {
    "collapsed": false,
    "editable": true,
    "jupyter": {
     "outputs_hidden": false
    }
   },
   "outputs": [],
   "source": [
    "times_ten = lambda x: x*10\n",
    "frame.applymap(times_ten)"
   ]
  },
  {
   "cell_type": "code",
   "execution_count": null,
   "metadata": {
    "collapsed": false,
    "editable": true,
    "jupyter": {
     "outputs_hidden": false
    }
   },
   "outputs": [],
   "source": [
    "frame['e'].map(times_ten)"
   ]
  },
  {
   "cell_type": "code",
   "execution_count": null,
   "metadata": {},
   "outputs": [],
   "source": [
    "frame[['e']].applymap(times_ten)"
   ]
  },
  {
   "cell_type": "markdown",
   "metadata": {
    "editable": true
   },
   "source": [
    "### Sorting\n",
    "To sort\n",
    "lexicographically by row or column index, use the `sort_index` method, \n",
    "- which returns a new, sorted object:"
   ]
  },
  {
   "cell_type": "code",
   "execution_count": null,
   "metadata": {
    "collapsed": false,
    "editable": true,
    "jupyter": {
     "outputs_hidden": false
    }
   },
   "outputs": [],
   "source": [
    "obj = pd.Series(range(4), index=['d', 'a', 'b', 'c'])\n",
    "obj"
   ]
  },
  {
   "cell_type": "code",
   "execution_count": null,
   "metadata": {},
   "outputs": [],
   "source": [
    "obj.sort_index()"
   ]
  },
  {
   "cell_type": "code",
   "execution_count": null,
   "metadata": {
    "collapsed": false,
    "editable": true,
    "jupyter": {
     "outputs_hidden": false
    }
   },
   "outputs": [],
   "source": [
    "frame = pd.DataFrame(np.arange(9).reshape((3, 3)),\n",
    "                     index=['three', 'two','one'],\n",
    "                     columns=['c', 'a', 'b'])\n",
    "frame"
   ]
  },
  {
   "cell_type": "code",
   "execution_count": null,
   "metadata": {},
   "outputs": [],
   "source": [
    "frame.sort_index() # sorting by the index"
   ]
  },
  {
   "cell_type": "code",
   "execution_count": null,
   "metadata": {},
   "outputs": [],
   "source": [
    "frame.sort_index(axis=1,ascending=False) #  sorting  by column index  in descending order"
   ]
  },
  {
   "cell_type": "markdown",
   "metadata": {},
   "source": [
    "We saw how to sort according to the 'name' of the index or of the column\n",
    "\n",
    "If you want to **sort according to the values** in the dataframe you should use\n",
    "- [sort_values](https://pandas.pydata.org/pandas-docs/stable/reference/api/pandas.DataFrame.sort_values.html)"
   ]
  },
  {
   "cell_type": "code",
   "execution_count": null,
   "metadata": {},
   "outputs": [],
   "source": [
    "frame"
   ]
  },
  {
   "cell_type": "code",
   "execution_count": null,
   "metadata": {},
   "outputs": [],
   "source": [
    "frame.sort_values(by='b',ascending=False)"
   ]
  },
  {
   "cell_type": "markdown",
   "metadata": {
    "editable": true
   },
   "source": [
    "### Summarizing and Computing Descriptive Statistics\n",
    "Series and Dataframes offer methods for computing mathematical/statistical methods. \n",
    "* Most of these are reductions or summary statistics, \n",
    "  * methods that compute\n",
    "    * For Series: a single value (e.g. sum or mean) \n",
    "    * For DataFrames: a Series of values from the rows or columns. "
   ]
  },
  {
   "cell_type": "code",
   "execution_count": null,
   "metadata": {
    "collapsed": false,
    "editable": true,
    "jupyter": {
     "outputs_hidden": false
    }
   },
   "outputs": [],
   "source": [
    "df = pd.DataFrame([[1.4, np.nan], [7.1, -4.5],\n",
    "                   [np.nan, np.nan], [0.75, -1.3]],\n",
    "                  index=['a', 'b', 'c', 'd'],\n",
    "                  columns=['one', 'two'])\n",
    "df"
   ]
  },
  {
   "cell_type": "code",
   "execution_count": null,
   "metadata": {
    "collapsed": false,
    "editable": true,
    "jupyter": {
     "outputs_hidden": false
    }
   },
   "outputs": [],
   "source": [
    "df.sum(axis='columns')"
   ]
  },
  {
   "cell_type": "code",
   "execution_count": null,
   "metadata": {
    "editable": true
   },
   "outputs": [],
   "source": [
    "df.sum()"
   ]
  },
  {
   "cell_type": "markdown",
   "metadata": {},
   "source": [
    "Note that NaN are ignored\n",
    "* `9.25/3 = 3.083333`"
   ]
  },
  {
   "cell_type": "code",
   "execution_count": null,
   "metadata": {},
   "outputs": [],
   "source": [
    "df.mean()"
   ]
  },
  {
   "cell_type": "markdown",
   "metadata": {},
   "source": [
    "idxmin and idxmax return:\n",
    "* the index containing the minimum or maximum values"
   ]
  },
  {
   "cell_type": "code",
   "execution_count": null,
   "metadata": {},
   "outputs": [],
   "source": [
    "df"
   ]
  },
  {
   "cell_type": "code",
   "execution_count": null,
   "metadata": {
    "collapsed": false,
    "editable": true,
    "jupyter": {
     "outputs_hidden": false
    }
   },
   "outputs": [],
   "source": [
    "df.idxmax()"
   ]
  },
  {
   "cell_type": "code",
   "execution_count": null,
   "metadata": {},
   "outputs": [],
   "source": [
    "df.loc[df['one'].idxmax()]"
   ]
  },
  {
   "cell_type": "code",
   "execution_count": null,
   "metadata": {},
   "outputs": [],
   "source": [
    "df.idxmin()"
   ]
  },
  {
   "cell_type": "markdown",
   "metadata": {},
   "source": [
    "The method `describe` computes a number of summary statistics in one shot:"
   ]
  },
  {
   "cell_type": "code",
   "execution_count": null,
   "metadata": {
    "editable": true
   },
   "outputs": [],
   "source": [
    "df.describe() #Compute set of summary statistics for Series or each DataFrame column"
   ]
  },
  {
   "cell_type": "code",
   "execution_count": null,
   "metadata": {},
   "outputs": [],
   "source": [
    "df.info()"
   ]
  },
  {
   "cell_type": "markdown",
   "metadata": {
    "editable": true
   },
   "source": [
    " ### Value Counts, Membership and Missing Data\n",
    " Another class of related methods extracts information about the values contained in a\n",
    "one-dimensional Series. "
   ]
  },
  {
   "cell_type": "code",
   "execution_count": null,
   "metadata": {},
   "outputs": [],
   "source": [
    "df = pd.DataFrame([['a', 'b'], [np.nan, 'a'],\n",
    "                   ['b', 'b'], ['a', 'b']],\n",
    "                  index=[1,2,3,4],\n",
    "                  columns=['one', 'two'])\n",
    "\n",
    "df"
   ]
  },
  {
   "cell_type": "code",
   "execution_count": null,
   "metadata": {},
   "outputs": [],
   "source": [
    "df.two.unique() # unique, which gives you an array of the unique values in a Series"
   ]
  },
  {
   "cell_type": "code",
   "execution_count": null,
   "metadata": {},
   "outputs": [],
   "source": [
    "df.two.value_counts() # computes a Series containing value frequencies:"
   ]
  },
  {
   "cell_type": "markdown",
   "metadata": {},
   "source": [
    "`isin` is responsible for \n",
    "- vectorized set membership "
   ]
  },
  {
   "cell_type": "code",
   "execution_count": null,
   "metadata": {},
   "outputs": [],
   "source": [
    "df.one"
   ]
  },
  {
   "cell_type": "code",
   "execution_count": null,
   "metadata": {},
   "outputs": [],
   "source": [
    "df.one[df.one.isin(['b', 'a'])]"
   ]
  },
  {
   "cell_type": "code",
   "execution_count": null,
   "metadata": {},
   "outputs": [],
   "source": [
    "df.one[df.one.isin(['b'])]"
   ]
  },
  {
   "cell_type": "markdown",
   "metadata": {},
   "source": [
    "In certain cases, you might want to **filter out missing data**\n",
    "- As we have seen, you can use [`fillna`](https://www.w3resource.com/pandas/dataframe/dataframe-fillna.php) \n",
    "    - to fill NaN values with a given one\n",
    "    - this creates a copy of the dataframe!\n",
    "- You can use [`dropna`](https://www.w3resource.com/pandas/dataframe/dataframe-dropna.php) \n",
    "    - to drop rows with at least one NaN\n",
    "    - Or columns with at least one NaN using `dropna(axis='columns')`\n",
    "    - this creates a copy of the dataframe!    "
   ]
  },
  {
   "cell_type": "code",
   "execution_count": null,
   "metadata": {},
   "outputs": [],
   "source": [
    "df"
   ]
  },
  {
   "cell_type": "code",
   "execution_count": null,
   "metadata": {},
   "outputs": [],
   "source": [
    "df.fillna(0)"
   ]
  },
  {
   "cell_type": "code",
   "execution_count": null,
   "metadata": {},
   "outputs": [],
   "source": [
    "df"
   ]
  },
  {
   "cell_type": "code",
   "execution_count": null,
   "metadata": {},
   "outputs": [],
   "source": [
    "df"
   ]
  },
  {
   "cell_type": "code",
   "execution_count": null,
   "metadata": {},
   "outputs": [],
   "source": [
    "df.dropna()"
   ]
  },
  {
   "cell_type": "code",
   "execution_count": null,
   "metadata": {},
   "outputs": [],
   "source": [
    "df.dropna(axis='columns')"
   ]
  },
  {
   "cell_type": "markdown",
   "metadata": {
    "tags": []
   },
   "source": [
    "###  Bin values into discrete intervals\n",
    "\n",
    "When dealing with continuous numeric data, it is often helpful to bin the data into multiple buckets for further analysis.\n",
    "\n",
    "Pandas supports these approaches using the cut and qcut function:\n",
    " * [cut](https://pandas.pydata.org/pandas-docs/stable/reference/api/pandas.cut.html): Use cut when you need to segment and sort data values into bins. This function is also useful for going from a continuous variable to a categorical variable. For example, cut could convert ages to groups of age ranges.\n",
    " * [qcut](https://pandas.pydata.org/pandas-docs/stable/reference/api/pandas.qcut.html): Discretize variable into equal-sized buckets, based on sample quantiles"
   ]
  },
  {
   "cell_type": "code",
   "execution_count": null,
   "metadata": {},
   "outputs": [],
   "source": [
    "from IPython.display import Image, display\n",
    "img=Image(url_github_repo+'jupyter/jupyterNotebooks/images/binning.PNG',width=500)\n",
    "display(img)"
   ]
  },
  {
   "cell_type": "code",
   "execution_count": null,
   "metadata": {},
   "outputs": [],
   "source": [
    "import matplotlib.pyplot as plt #MATLAB-like plotting framework."
   ]
  },
  {
   "cell_type": "code",
   "execution_count": null,
   "metadata": {},
   "outputs": [],
   "source": [
    "df_age = pd.DataFrame({'Age': np.random.normal(30, 2, 1000) })\n",
    "df_age\n",
    "df_age.sort_values(by='Age')"
   ]
  },
  {
   "cell_type": "markdown",
   "metadata": {},
   "source": [
    "> `cut` somehow corresponds to histograms..."
   ]
  },
  {
   "cell_type": "code",
   "execution_count": null,
   "metadata": {},
   "outputs": [],
   "source": [
    "fig, ax = plt.subplots()\n",
    "df_age['Age'].hist(bins=10, color='#A9C5D3', edgecolor='black', grid=False)\n",
    "ax.set_title('Class Age Histogram', fontsize=12)\n",
    "ax.set_xlabel('Age', fontsize=12)\n",
    "ax.set_ylabel('Frequency', fontsize=12)"
   ]
  },
  {
   "cell_type": "code",
   "execution_count": null,
   "metadata": {},
   "outputs": [],
   "source": [
    "df_age"
   ]
  },
  {
   "cell_type": "code",
   "execution_count": null,
   "metadata": {},
   "outputs": [],
   "source": [
    "print(\"cut\")\n",
    "df_age['bucket_cut'] = pd.cut(df_age.Age, 3) \n",
    "df_age['bucket_cut'].value_counts()\n",
    "print(df_age['bucket_cut'].value_counts())# .plot(kind='bar')\n",
    "\n",
    "print(\"\\nqcut\")\n",
    "df_age['bucket_qcut'] = pd.qcut(df_age.Age, 3) \n",
    "print(df_age['bucket_qcut'].value_counts())# .plot(kind='bar')"
   ]
  },
  {
   "cell_type": "code",
   "execution_count": null,
   "metadata": {},
   "outputs": [],
   "source": [
    "df_age"
   ]
  },
  {
   "cell_type": "code",
   "execution_count": null,
   "metadata": {},
   "outputs": [],
   "source": [
    "df_age['bucket_q'] = pd.cut(df_age.Age, 3,  labels=[\"Student\", \"PhD Student\", \"Post-Doc\"]) \n",
    "print(df_age['bucket_q'].value_counts())# .plot(kind='bar')\n",
    "df_age['bucket_q'].value_counts().plot(kind='bar')"
   ]
  },
  {
   "cell_type": "code",
   "execution_count": null,
   "metadata": {},
   "outputs": [],
   "source": [
    "df_age"
   ]
  },
  {
   "cell_type": "code",
   "execution_count": null,
   "metadata": {},
   "outputs": [],
   "source": [
    "df_age[['Age','bucket_q']].sort_values(by='Age')"
   ]
  },
  {
   "cell_type": "code",
   "execution_count": null,
   "metadata": {},
   "outputs": [],
   "source": [
    " pd.cut(df_age.Age, [10,20,30,40]).value_counts()"
   ]
  },
  {
   "cell_type": "markdown",
   "metadata": {},
   "source": [
    "### Concatenate, Merge, Join\n",
    "Sometimes we don't have just 1 dataframe, \n",
    "- but more that we want to combine in different ways\n",
    "\n",
    "Pandas provides various facilities for easily combining together DataFrames"
   ]
  },
  {
   "cell_type": "markdown",
   "metadata": {},
   "source": [
    "#### Concatenating Along an Axis\n",
    "If we have dataframes representing _chunks_ of data with same structure \n",
    "- e.g., sets of rows of a table\n",
    "- we can use `concat` to concatenate their rows\n",
    "  - many more options [exist](https://pandas.pydata.org/pandas-docs/stable/user_guide/merging.html)."
   ]
  },
  {
   "cell_type": "code",
   "execution_count": null,
   "metadata": {},
   "outputs": [],
   "source": [
    "df1 = pd.DataFrame({'A': ['A0', 'A1', 'A2', 'A3'],\n",
    "                    'B': ['B0', 'B1', 'B2', 'B3'],\n",
    "                    'C': ['C0', 'C1', 'C2', 'C3'],\n",
    "                    'D': ['D0', 'D1', 'D2', 'D3']},\n",
    "                    index=[0, 1, 2, 3])\n",
    " \n",
    "df2 = pd.DataFrame({'A': ['A4', 'A5', 'A6', 'A7'],\n",
    "                    'B': ['B4', 'B5', 'B6', 'B7'],\n",
    "                    'C': ['C4', 'C5', 'C6', 'C7'],\n",
    "                    'D': ['D4', 'D5', 'D6', 'D7']},\n",
    "                    index=[4, 5, 6, 7])\n",
    "\n",
    "\n",
    "df3 = pd.DataFrame({'A': ['A8', 'A9', 'A10', 'A11'],\n",
    "                    'B': ['B8', 'B9', 'B10', 'B11'],\n",
    "                    'C': ['C8', 'C9', 'C10', 'C11'],\n",
    "                    'D': ['D8', 'D9', 'D10', 'D11']},\n",
    "                    index=[8, 9, 10, 11])\n",
    " \n",
    "\n",
    "frames = [df1, df2, df3]\n",
    "\n",
    "result = pd.concat(frames, axis=0)\n",
    "result"
   ]
  },
  {
   "cell_type": "markdown",
   "metadata": {},
   "source": [
    "Note, you might need to sort the resulting dataframe"
   ]
  },
  {
   "cell_type": "code",
   "execution_count": null,
   "metadata": {},
   "outputs": [],
   "source": [
    "frames = [df2, df1, df3]\n",
    "\n",
    "result = pd.concat(frames, axis=0)\n",
    "result"
   ]
  },
  {
   "cell_type": "code",
   "execution_count": null,
   "metadata": {},
   "outputs": [],
   "source": [
    "result.sort_index()"
   ]
  },
  {
   "cell_type": "markdown",
   "metadata": {},
   "source": [
    "What if some rows have same index?\n",
    "- You get more rows with same index! "
   ]
  },
  {
   "cell_type": "code",
   "execution_count": null,
   "metadata": {},
   "outputs": [],
   "source": [
    "frames = [df2, df2]\n",
    "result = pd.concat(frames, axis=0)\n",
    "result"
   ]
  },
  {
   "cell_type": "code",
   "execution_count": null,
   "metadata": {},
   "outputs": [],
   "source": [
    "result.loc[4]"
   ]
  },
  {
   "cell_type": "markdown",
   "metadata": {},
   "source": [
    "If you want to avoid this:\n",
    "- Reset the index afterwards `result.reset_index()`\n",
    "- Change the index of one of the two before concatenating\n",
    "\n",
    "But, in general, we suggest to use `concat` only if this case does not arise.\n",
    "> Indeed, it is useful to split first a big dtaframe, working on the single parts and putting them back together"
   ]
  },
  {
   "cell_type": "code",
   "execution_count": null,
   "metadata": {},
   "outputs": [],
   "source": [
    "result_reset=result.reset_index()\n",
    "result_reset"
   ]
  },
  {
   "cell_type": "markdown",
   "metadata": {},
   "source": [
    "You might also be interested in dropping duplicate rows (i.e., with same values apart from index)"
   ]
  },
  {
   "cell_type": "code",
   "execution_count": null,
   "metadata": {},
   "outputs": [],
   "source": [
    "result_reset.drop_duplicates()"
   ]
  },
  {
   "cell_type": "markdown",
   "metadata": {},
   "source": [
    "Thanks to __data alignment__, you can also concatenate dataframe with \n",
    "- __not perfectly matching structure__"
   ]
  },
  {
   "cell_type": "code",
   "execution_count": null,
   "metadata": {},
   "outputs": [],
   "source": [
    "df2['E']= ['E8', 'E9', 'E10', 'E11']\n",
    "df2.drop(['D'],axis=1,inplace=True,errors='ignore')\n",
    "df2"
   ]
  },
  {
   "cell_type": "code",
   "execution_count": null,
   "metadata": {},
   "outputs": [],
   "source": [
    "frames = [df1, df2, df3]\n",
    "\n",
    "result = pd.concat(frames, axis=0)\n",
    "result"
   ]
  },
  {
   "cell_type": "markdown",
   "metadata": {},
   "source": [
    "#### Database-style merging and joining"
   ]
  },
  {
   "cell_type": "markdown",
   "metadata": {},
   "source": [
    "Dimensions in combining dataframes\n",
    "- `concat` combines dataframes _vertically_\n",
    "   - we put together _rows_\n",
    "   - but we can also add columns specifying `axis`\n",
    "- [`merge` and `join`](https://pandas.pydata.org/pandas-docs/stable/user_guide/merging.html) combine dataframes _horizontally_\n",
    "   - we put together _columns_   \n",
    "   \n",
    "Some examples below were taken from [here](https://pandas.pydata.org/pandas-docs/stable/user_guide/merging.html)"
   ]
  },
  {
   "cell_type": "markdown",
   "metadata": {},
   "source": [
    "##### Merge"
   ]
  },
  {
   "cell_type": "markdown",
   "metadata": {},
   "source": [
    "`Merge` operations combine datasets by \n",
    "- Linking rows using one or more keys (i.e. columns).\n",
    "- These operations are central to relational databases. \n",
    "  - After all, dataframes are tables ..."
   ]
  },
  {
   "cell_type": "markdown",
   "metadata": {},
   "source": [
    "Let's look at an example of `merge`"
   ]
  },
  {
   "cell_type": "code",
   "execution_count": null,
   "metadata": {},
   "outputs": [],
   "source": [
    "left = pd.DataFrame({'key': ['K0', 'K1', 'K2', 'K3'],\n",
    "                     'A': ['A0', 'A1', 'A2', 'A3'],\n",
    "                     'B': ['B0', 'B1', 'B2', 'B3']})\n",
    "\n",
    "\n",
    "right = pd.DataFrame({'key': ['K0', 'K0', 'K2', 'K2'],\n",
    "                      'C': ['C0', 'C1', 'C2', 'C3'],\n",
    "                      'D': ['D0', 'D1', 'D2', 'D3']})\n",
    "left"
   ]
  },
  {
   "cell_type": "code",
   "execution_count": null,
   "metadata": {},
   "outputs": [],
   "source": [
    "right"
   ]
  },
  {
   "cell_type": "markdown",
   "metadata": {},
   "source": [
    "We note that\n",
    "- K0 and K2 appear in both dataframes\n",
    "- K1 and K3 appear only in left"
   ]
  },
  {
   "cell_type": "markdown",
   "metadata": {},
   "source": [
    "We want to obtain a dataframe with columns `key` and `A` to `D`, combining rows \n",
    "- with same value of `key`"
   ]
  },
  {
   "cell_type": "code",
   "execution_count": null,
   "metadata": {},
   "outputs": [],
   "source": [
    "pd.merge(left, right,  how='inner', on='key')"
   ]
  },
  {
   "cell_type": "code",
   "execution_count": null,
   "metadata": {},
   "outputs": [],
   "source": [
    "pd.merge(left, right,  how='outer', on='key')"
   ]
  },
  {
   "cell_type": "code",
   "execution_count": null,
   "metadata": {},
   "outputs": [],
   "source": [
    "pd.merge(left, right,  how='left', on='key')"
   ]
  },
  {
   "cell_type": "markdown",
   "metadata": {},
   "source": [
    "- The _how_ argument determines which keys are to be included in the resulting table\n",
    "\n",
    "|  Merge method |Description  |\n",
    "|---|---|\n",
    "|  left |  Use keys from left frame only |  \n",
    "|  right |  Use keys from right frame only |  \n",
    "|  outer |  Use union of keys from both frames |  \n",
    "|  inner (default) | Use intersection of keys from both frames  |  \n",
    "\n",
    "\n",
    "Instead, _on_ specifies the Column to join on. \n",
    "- This must appear in both combined DataFrames"
   ]
  },
  {
   "cell_type": "code",
   "execution_count": null,
   "metadata": {},
   "outputs": [],
   "source": [
    "from IPython.display import Image, display\n",
    "img=Image(url_github_repo+'jupyter/jupyterNotebooks/images/join.jpeg',width=500)\n",
    "display(img)"
   ]
  },
  {
   "cell_type": "markdown",
   "metadata": {},
   "source": [
    "What if you want to ignore certain columns? "
   ]
  },
  {
   "cell_type": "code",
   "execution_count": null,
   "metadata": {},
   "outputs": [],
   "source": [
    "pd.merge(left, right,  how='inner', on='key')"
   ]
  },
  {
   "cell_type": "code",
   "execution_count": null,
   "metadata": {},
   "outputs": [],
   "source": [
    "right"
   ]
  },
  {
   "cell_type": "code",
   "execution_count": null,
   "metadata": {},
   "outputs": [],
   "source": [
    "pd.merge(left, right[['key','C']],  how='inner', on='key')"
   ]
  },
  {
   "cell_type": "markdown",
   "metadata": {},
   "source": [
    "##### Join"
   ]
  },
  {
   "cell_type": "markdown",
   "metadata": {},
   "source": [
    "Pandas exposes another method for applying merge-like operations\n",
    "- **join**\n",
    "\n",
    "Both `merge` and `join` are based on a common inner method.\n",
    "- join could be useful in [specific cases](https://stackoverflow.com/questions/22676081/what-is-the-difference-between-join-and-merge-in-pandas)"
   ]
  },
  {
   "cell_type": "markdown",
   "metadata": {},
   "source": [
    "# Load/manipulate remote CSV file: Simple application to Italian COVID data"
   ]
  },
  {
   "cell_type": "code",
   "execution_count": null,
   "metadata": {
    "tags": []
   },
   "outputs": [],
   "source": [
    "import numpy as np\n",
    "import pandas as pd"
   ]
  },
  {
   "cell_type": "markdown",
   "metadata": {},
   "source": [
    "Using Python and pandas, it is easy to read data from CSV files\n",
    "\n",
    "One convenient feature is __type inference__\n",
    "* You don’t need to specify which columns are numeric, integer, boolean, or string. \n",
    "* Handling dates and other custom types requires a bit more effort. "
   ]
  },
  {
   "cell_type": "markdown",
   "metadata": {},
   "source": [
    "Let us consider the national-level Italian COVID CSV data collected by Protezione civile\n",
    "* It is distributed as a CSV file in a [GitHub repository](https://github.com/pcm-dpc/COVID-19/)\n",
    "* You also find a local copy downloaded on 26/01/2021 in our wiki (follow the link dataset from the right-menu)\n",
    "\n",
    "Let's read one such _remote_ CSV file into a DataFrame\n",
    "* __You just need 1 instruction__"
   ]
  },
  {
   "cell_type": "code",
   "execution_count": null,
   "metadata": {},
   "outputs": [],
   "source": [
    "#Load delimited data from a file, URL, or file-like object. Use comma as default delimiter\n",
    "covid_data = pd.read_csv('https://raw.githubusercontent.com/pcm-dpc/COVID-19/master/dati-andamento-nazionale/dpc-covid19-ita-andamento-nazionale.csv')"
   ]
  },
  {
   "cell_type": "code",
   "execution_count": null,
   "metadata": {},
   "outputs": [],
   "source": [
    "covid_data.head(10)"
   ]
  },
  {
   "cell_type": "code",
   "execution_count": null,
   "metadata": {},
   "outputs": [],
   "source": [
    "covid_data.tail()"
   ]
  },
  {
   "cell_type": "code",
   "execution_count": null,
   "metadata": {},
   "outputs": [],
   "source": [
    "covid_data.info()"
   ]
  },
  {
   "cell_type": "code",
   "execution_count": null,
   "metadata": {},
   "outputs": [],
   "source": [
    "covid_data.describe()"
   ]
  },
  {
   "cell_type": "code",
   "execution_count": null,
   "metadata": {},
   "outputs": [],
   "source": [
    "covid_data['data']"
   ]
  },
  {
   "cell_type": "code",
   "execution_count": null,
   "metadata": {},
   "outputs": [],
   "source": [
    "covid_data[ ['data','terapia_intensiva'] ]"
   ]
  },
  {
   "cell_type": "code",
   "execution_count": null,
   "metadata": {},
   "outputs": [],
   "source": [
    "covid_data.data"
   ]
  },
  {
   "cell_type": "code",
   "execution_count": null,
   "metadata": {},
   "outputs": [],
   "source": [
    "covid_data.iloc[0]"
   ]
  },
  {
   "cell_type": "code",
   "execution_count": null,
   "metadata": {},
   "outputs": [],
   "source": [
    "covid_data.iloc[-1]"
   ]
  },
  {
   "cell_type": "code",
   "execution_count": null,
   "metadata": {},
   "outputs": [],
   "source": [
    "#Get the last day in the CSV file\n",
    "last_day = covid_data['data'].iloc[-1]\n",
    "print(type(last_day))\n",
    "print(last_day)"
   ]
  },
  {
   "cell_type": "markdown",
   "metadata": {},
   "source": [
    "Using DataFrame’s to_csv method, we can write the data out to a comma-separated file\n",
    "* Let's create a CSV file containing only the data about the latest day"
   ]
  },
  {
   "cell_type": "code",
   "execution_count": null,
   "metadata": {},
   "outputs": [],
   "source": [
    "print(covid_data.data == last_day) # Evaluates to True for the rows that satisfy this guard\n",
    "cov_regions_last_day = covid_data[covid_data.data == last_day] # Get all the rows that satisfy the guard above\n",
    "cov_regions_last_day"
   ]
  },
  {
   "cell_type": "code",
   "execution_count": null,
   "metadata": {},
   "outputs": [],
   "source": [
    "cov_regions_last_day.to_csv('covid_lastday.csv')"
   ]
  },
  {
   "cell_type": "markdown",
   "metadata": {},
   "source": [
    "Or, more compactly"
   ]
  },
  {
   "cell_type": "code",
   "execution_count": null,
   "metadata": {},
   "outputs": [],
   "source": [
    "covid_data[covid_data.data == covid_data['data'].iloc[-1]].to_csv('covid_lastday_b.csv')"
   ]
  },
  {
   "cell_type": "code",
   "execution_count": null,
   "metadata": {},
   "outputs": [],
   "source": [
    "covid_data[covid_data['ricoverati_con_sintomi'] > 10000].to_csv('covid_more_than_10k.csv')"
   ]
  },
  {
   "cell_type": "code",
   "execution_count": null,
   "metadata": {},
   "outputs": [],
   "source": [
    "covid_data[covid_data['ricoverati_con_sintomi'] > 25000].to_csv('covid_more_than_25k.csv')"
   ]
  },
  {
   "cell_type": "markdown",
   "metadata": {
    "editable": true
   },
   "source": [
    "# Plot dataframes: Simple application to Yahoo! Finance stock prices - %change, correlation\n",
    "Let’s consider some DataFrames of stock prices obtained from\n",
    "Yahoo! Finance:"
   ]
  },
  {
   "cell_type": "code",
   "execution_count": 26,
   "metadata": {},
   "outputs": [],
   "source": [
    "# install Yahoo! Finance market data downloader for Pandas\n",
    "# %pip install -U pandas_datareader #convenient package for accessing online data (mostly finance-related)\n",
    "# %pip install matplotlib #'the' pyhton package for creating plots \n",
    "# %pip install -U Jinja2 # Helps formatting strings with HTML and CSS.\n",
    "# %pip install yfinance\n",
    "\n",
    "import pandas_datareader.data as web\n",
    "\n",
    "#A workaround to fix recent issues in the service (problems since december 2022)\n",
    "import yfinance as yfin\n",
    "yfin.pdr_override()\n",
    "\n",
    "# Visualizzation libs\n",
    "#keeps the plots in one place. calls image as static pngs\n",
    "#%matplotlib inline \n",
    "import matplotlib.pyplot as plt #MATLAB-like plotting framework.\n",
    "\n",
    "import pandas as pd"
   ]
  },
  {
   "cell_type": "markdown",
   "metadata": {},
   "source": [
    "Do you know dictionary comprehensions?"
   ]
  },
  {
   "cell_type": "code",
   "execution_count": 31,
   "metadata": {
    "editable": true
   },
   "outputs": [
    {
     "name": "stdout",
     "output_type": "stream",
     "text": [
      "[*********************100%***********************]  1 of 1 completed\n",
      "[*********************100%***********************]  1 of 1 completed\n",
      "[*********************100%***********************]  1 of 1 completed\n",
      "[*********************100%***********************]  1 of 1 completed\n"
     ]
    },
    {
     "data": {
      "text/html": [
       "<div>\n",
       "<style scoped>\n",
       "    .dataframe tbody tr th:only-of-type {\n",
       "        vertical-align: middle;\n",
       "    }\n",
       "\n",
       "    .dataframe tbody tr th {\n",
       "        vertical-align: top;\n",
       "    }\n",
       "\n",
       "    .dataframe thead th {\n",
       "        text-align: right;\n",
       "    }\n",
       "</style>\n",
       "<table border=\"1\" class=\"dataframe\">\n",
       "  <thead>\n",
       "    <tr style=\"text-align: right;\">\n",
       "      <th></th>\n",
       "      <th>Open</th>\n",
       "      <th>High</th>\n",
       "      <th>Low</th>\n",
       "      <th>Close</th>\n",
       "      <th>Adj Close</th>\n",
       "      <th>Volume</th>\n",
       "    </tr>\n",
       "    <tr>\n",
       "      <th>Date</th>\n",
       "      <th></th>\n",
       "      <th></th>\n",
       "      <th></th>\n",
       "      <th></th>\n",
       "      <th></th>\n",
       "      <th></th>\n",
       "    </tr>\n",
       "  </thead>\n",
       "  <tbody>\n",
       "    <tr>\n",
       "      <th>2004-08-19</th>\n",
       "      <td>0.562679</td>\n",
       "      <td>0.568929</td>\n",
       "      <td>0.542143</td>\n",
       "      <td>0.548393</td>\n",
       "      <td>0.467460</td>\n",
       "      <td>388920000</td>\n",
       "    </tr>\n",
       "    <tr>\n",
       "      <th>2004-08-20</th>\n",
       "      <td>0.548393</td>\n",
       "      <td>0.553393</td>\n",
       "      <td>0.544464</td>\n",
       "      <td>0.550000</td>\n",
       "      <td>0.468830</td>\n",
       "      <td>316780800</td>\n",
       "    </tr>\n",
       "    <tr>\n",
       "      <th>2004-08-23</th>\n",
       "      <td>0.551071</td>\n",
       "      <td>0.558393</td>\n",
       "      <td>0.546429</td>\n",
       "      <td>0.555000</td>\n",
       "      <td>0.473092</td>\n",
       "      <td>254660000</td>\n",
       "    </tr>\n",
       "    <tr>\n",
       "      <th>2004-08-24</th>\n",
       "      <td>0.558214</td>\n",
       "      <td>0.570536</td>\n",
       "      <td>0.556964</td>\n",
       "      <td>0.570536</td>\n",
       "      <td>0.486335</td>\n",
       "      <td>374136000</td>\n",
       "    </tr>\n",
       "    <tr>\n",
       "      <th>2004-08-25</th>\n",
       "      <td>0.569107</td>\n",
       "      <td>0.591964</td>\n",
       "      <td>0.566607</td>\n",
       "      <td>0.590179</td>\n",
       "      <td>0.503079</td>\n",
       "      <td>505618400</td>\n",
       "    </tr>\n",
       "    <tr>\n",
       "      <th>...</th>\n",
       "      <td>...</td>\n",
       "      <td>...</td>\n",
       "      <td>...</td>\n",
       "      <td>...</td>\n",
       "      <td>...</td>\n",
       "      <td>...</td>\n",
       "    </tr>\n",
       "    <tr>\n",
       "      <th>2023-01-25</th>\n",
       "      <td>140.889999</td>\n",
       "      <td>142.429993</td>\n",
       "      <td>138.809998</td>\n",
       "      <td>141.860001</td>\n",
       "      <td>141.860001</td>\n",
       "      <td>65799300</td>\n",
       "    </tr>\n",
       "    <tr>\n",
       "      <th>2023-01-26</th>\n",
       "      <td>143.169998</td>\n",
       "      <td>144.250000</td>\n",
       "      <td>141.899994</td>\n",
       "      <td>143.960007</td>\n",
       "      <td>143.960007</td>\n",
       "      <td>54105100</td>\n",
       "    </tr>\n",
       "    <tr>\n",
       "      <th>2023-01-27</th>\n",
       "      <td>143.160004</td>\n",
       "      <td>147.229996</td>\n",
       "      <td>143.080002</td>\n",
       "      <td>145.929993</td>\n",
       "      <td>145.929993</td>\n",
       "      <td>70492800</td>\n",
       "    </tr>\n",
       "    <tr>\n",
       "      <th>2023-01-30</th>\n",
       "      <td>144.960007</td>\n",
       "      <td>145.550003</td>\n",
       "      <td>142.850006</td>\n",
       "      <td>143.000000</td>\n",
       "      <td>143.000000</td>\n",
       "      <td>64015300</td>\n",
       "    </tr>\n",
       "    <tr>\n",
       "      <th>2023-01-31</th>\n",
       "      <td>142.699997</td>\n",
       "      <td>144.339996</td>\n",
       "      <td>142.279999</td>\n",
       "      <td>144.289993</td>\n",
       "      <td>144.289993</td>\n",
       "      <td>65874500</td>\n",
       "    </tr>\n",
       "  </tbody>\n",
       "</table>\n",
       "<p>4645 rows × 6 columns</p>\n",
       "</div>"
      ],
      "text/plain": [
       "                  Open        High         Low       Close   Adj Close  \\\n",
       "Date                                                                     \n",
       "2004-08-19    0.562679    0.568929    0.542143    0.548393    0.467460   \n",
       "2004-08-20    0.548393    0.553393    0.544464    0.550000    0.468830   \n",
       "2004-08-23    0.551071    0.558393    0.546429    0.555000    0.473092   \n",
       "2004-08-24    0.558214    0.570536    0.556964    0.570536    0.486335   \n",
       "2004-08-25    0.569107    0.591964    0.566607    0.590179    0.503079   \n",
       "...                ...         ...         ...         ...         ...   \n",
       "2023-01-25  140.889999  142.429993  138.809998  141.860001  141.860001   \n",
       "2023-01-26  143.169998  144.250000  141.899994  143.960007  143.960007   \n",
       "2023-01-27  143.160004  147.229996  143.080002  145.929993  145.929993   \n",
       "2023-01-30  144.960007  145.550003  142.850006  143.000000  143.000000   \n",
       "2023-01-31  142.699997  144.339996  142.279999  144.289993  144.289993   \n",
       "\n",
       "               Volume  \n",
       "Date                   \n",
       "2004-08-19  388920000  \n",
       "2004-08-20  316780800  \n",
       "2004-08-23  254660000  \n",
       "2004-08-24  374136000  \n",
       "2004-08-25  505618400  \n",
       "...               ...  \n",
       "2023-01-25   65799300  \n",
       "2023-01-26   54105100  \n",
       "2023-01-27   70492800  \n",
       "2023-01-30   64015300  \n",
       "2023-01-31   65874500  \n",
       "\n",
       "[4645 rows x 6 columns]"
      ]
     },
     "execution_count": 31,
     "metadata": {},
     "output_type": "execute_result"
    }
   ],
   "source": [
    "#https://finance.yahoo.com/quote/AAPL/history?period1=1467770400&period2=1625536799&interval=1d&frequency=1d&filter=history&guccounter=1&guce_referrer=aHR0cDovL2xvY2FsaG9zdDo4ODg4Lw&guce_referrer_sig=AQAAAByrNT-HvDMWtenDoAglNPRKNaphvEwT3rMevHGT-mKwGMlw5NvAj3GlaBn1ztprmTfT4vIDwdzHgXvFpe72e3ISW5I0FoYRmSqR1SzvVcwg8VmpqbFpYQn8lMZqSHSkhru9c3-fOHLDo5dWLBUiR9iqs0kLoNADVPIfhXtw72_x\n",
    "all_data = {ticker: web.get_data_yahoo(ticker,\"2004-08-19\",\"2023-02-01\")\n",
    "            for ticker in ['AAPL', 'IBM', 'MSFT', 'GOOG']}\n",
    "all_data['AAPL']"
   ]
  },
  {
   "cell_type": "code",
   "execution_count": 32,
   "metadata": {},
   "outputs": [
    {
     "data": {
      "text/html": [
       "<div>\n",
       "<style scoped>\n",
       "    .dataframe tbody tr th:only-of-type {\n",
       "        vertical-align: middle;\n",
       "    }\n",
       "\n",
       "    .dataframe tbody tr th {\n",
       "        vertical-align: top;\n",
       "    }\n",
       "\n",
       "    .dataframe thead th {\n",
       "        text-align: right;\n",
       "    }\n",
       "</style>\n",
       "<table border=\"1\" class=\"dataframe\">\n",
       "  <thead>\n",
       "    <tr style=\"text-align: right;\">\n",
       "      <th></th>\n",
       "      <th>Open</th>\n",
       "      <th>High</th>\n",
       "      <th>Low</th>\n",
       "      <th>Close</th>\n",
       "      <th>Adj Close</th>\n",
       "      <th>Volume</th>\n",
       "    </tr>\n",
       "    <tr>\n",
       "      <th>Date</th>\n",
       "      <th></th>\n",
       "      <th></th>\n",
       "      <th></th>\n",
       "      <th></th>\n",
       "      <th></th>\n",
       "      <th></th>\n",
       "    </tr>\n",
       "  </thead>\n",
       "  <tbody>\n",
       "    <tr>\n",
       "      <th>2004-08-19</th>\n",
       "      <td>81.022942</td>\n",
       "      <td>81.596558</td>\n",
       "      <td>80.736137</td>\n",
       "      <td>81.156792</td>\n",
       "      <td>48.316162</td>\n",
       "      <td>4920907</td>\n",
       "    </tr>\n",
       "    <tr>\n",
       "      <th>2004-08-20</th>\n",
       "      <td>80.803062</td>\n",
       "      <td>81.500954</td>\n",
       "      <td>80.803062</td>\n",
       "      <td>81.500954</td>\n",
       "      <td>48.521061</td>\n",
       "      <td>4708464</td>\n",
       "    </tr>\n",
       "    <tr>\n",
       "      <th>2004-08-23</th>\n",
       "      <td>81.481834</td>\n",
       "      <td>81.692162</td>\n",
       "      <td>80.927345</td>\n",
       "      <td>80.927345</td>\n",
       "      <td>48.179573</td>\n",
       "      <td>4456588</td>\n",
       "    </tr>\n",
       "    <tr>\n",
       "      <th>2004-08-24</th>\n",
       "      <td>81.261948</td>\n",
       "      <td>81.405357</td>\n",
       "      <td>80.640533</td>\n",
       "      <td>80.984703</td>\n",
       "      <td>48.213726</td>\n",
       "      <td>2835078</td>\n",
       "    </tr>\n",
       "    <tr>\n",
       "      <th>2004-08-25</th>\n",
       "      <td>81.261948</td>\n",
       "      <td>81.520073</td>\n",
       "      <td>80.831741</td>\n",
       "      <td>81.328873</td>\n",
       "      <td>48.418617</td>\n",
       "      <td>4608258</td>\n",
       "    </tr>\n",
       "    <tr>\n",
       "      <th>...</th>\n",
       "      <td>...</td>\n",
       "      <td>...</td>\n",
       "      <td>...</td>\n",
       "      <td>...</td>\n",
       "      <td>...</td>\n",
       "      <td>...</td>\n",
       "    </tr>\n",
       "    <tr>\n",
       "      <th>2023-01-25</th>\n",
       "      <td>140.470001</td>\n",
       "      <td>141.029999</td>\n",
       "      <td>139.360001</td>\n",
       "      <td>140.759995</td>\n",
       "      <td>140.759995</td>\n",
       "      <td>7347500</td>\n",
       "    </tr>\n",
       "    <tr>\n",
       "      <th>2023-01-26</th>\n",
       "      <td>137.529999</td>\n",
       "      <td>138.270004</td>\n",
       "      <td>132.979996</td>\n",
       "      <td>134.449997</td>\n",
       "      <td>134.449997</td>\n",
       "      <td>17548500</td>\n",
       "    </tr>\n",
       "    <tr>\n",
       "      <th>2023-01-27</th>\n",
       "      <td>134.440002</td>\n",
       "      <td>135.490005</td>\n",
       "      <td>133.770004</td>\n",
       "      <td>134.389999</td>\n",
       "      <td>134.389999</td>\n",
       "      <td>8140700</td>\n",
       "    </tr>\n",
       "    <tr>\n",
       "      <th>2023-01-30</th>\n",
       "      <td>134.320007</td>\n",
       "      <td>136.110001</td>\n",
       "      <td>133.979996</td>\n",
       "      <td>135.300003</td>\n",
       "      <td>135.300003</td>\n",
       "      <td>5375700</td>\n",
       "    </tr>\n",
       "    <tr>\n",
       "      <th>2023-01-31</th>\n",
       "      <td>135.500000</td>\n",
       "      <td>135.649994</td>\n",
       "      <td>133.759995</td>\n",
       "      <td>134.729996</td>\n",
       "      <td>134.729996</td>\n",
       "      <td>7206400</td>\n",
       "    </tr>\n",
       "  </tbody>\n",
       "</table>\n",
       "<p>4645 rows × 6 columns</p>\n",
       "</div>"
      ],
      "text/plain": [
       "                  Open        High         Low       Close   Adj Close  \\\n",
       "Date                                                                     \n",
       "2004-08-19   81.022942   81.596558   80.736137   81.156792   48.316162   \n",
       "2004-08-20   80.803062   81.500954   80.803062   81.500954   48.521061   \n",
       "2004-08-23   81.481834   81.692162   80.927345   80.927345   48.179573   \n",
       "2004-08-24   81.261948   81.405357   80.640533   80.984703   48.213726   \n",
       "2004-08-25   81.261948   81.520073   80.831741   81.328873   48.418617   \n",
       "...                ...         ...         ...         ...         ...   \n",
       "2023-01-25  140.470001  141.029999  139.360001  140.759995  140.759995   \n",
       "2023-01-26  137.529999  138.270004  132.979996  134.449997  134.449997   \n",
       "2023-01-27  134.440002  135.490005  133.770004  134.389999  134.389999   \n",
       "2023-01-30  134.320007  136.110001  133.979996  135.300003  135.300003   \n",
       "2023-01-31  135.500000  135.649994  133.759995  134.729996  134.729996   \n",
       "\n",
       "              Volume  \n",
       "Date                  \n",
       "2004-08-19   4920907  \n",
       "2004-08-20   4708464  \n",
       "2004-08-23   4456588  \n",
       "2004-08-24   2835078  \n",
       "2004-08-25   4608258  \n",
       "...              ...  \n",
       "2023-01-25   7347500  \n",
       "2023-01-26  17548500  \n",
       "2023-01-27   8140700  \n",
       "2023-01-30   5375700  \n",
       "2023-01-31   7206400  \n",
       "\n",
       "[4645 rows x 6 columns]"
      ]
     },
     "execution_count": 32,
     "metadata": {},
     "output_type": "execute_result"
    }
   ],
   "source": [
    "all_data['IBM']"
   ]
  },
  {
   "cell_type": "code",
   "execution_count": 33,
   "metadata": {},
   "outputs": [
    {
     "data": {
      "text/plain": [
       "{'AAPL': Date\n",
       " 2004-08-19      0.467460\n",
       " 2004-08-20      0.468830\n",
       " 2004-08-23      0.473092\n",
       " 2004-08-24      0.486335\n",
       " 2004-08-25      0.503079\n",
       "                  ...    \n",
       " 2023-01-25    141.860001\n",
       " 2023-01-26    143.960007\n",
       " 2023-01-27    145.929993\n",
       " 2023-01-30    143.000000\n",
       " 2023-01-31    144.289993\n",
       " Name: Adj Close, Length: 4645, dtype: float64,\n",
       " 'IBM': Date\n",
       " 2004-08-19     48.316162\n",
       " 2004-08-20     48.521061\n",
       " 2004-08-23     48.179573\n",
       " 2004-08-24     48.213726\n",
       " 2004-08-25     48.418617\n",
       "                  ...    \n",
       " 2023-01-25    140.759995\n",
       " 2023-01-26    134.449997\n",
       " 2023-01-27    134.389999\n",
       " 2023-01-30    135.300003\n",
       " 2023-01-31    134.729996\n",
       " Name: Adj Close, Length: 4645, dtype: float64,\n",
       " 'MSFT': Date\n",
       " 2004-08-19     17.112513\n",
       " 2004-08-20     17.162991\n",
       " 2004-08-23     17.238932\n",
       " 2004-08-24     17.238932\n",
       " 2004-08-25     17.435116\n",
       "                  ...    \n",
       " 2023-01-25    240.610001\n",
       " 2023-01-26    248.000000\n",
       " 2023-01-27    248.160004\n",
       " 2023-01-30    242.710007\n",
       " 2023-01-31    247.809998\n",
       " Name: Adj Close, Length: 4645, dtype: float64,\n",
       " 'GOOG': Date\n",
       " 2004-08-19      2.499133\n",
       " 2004-08-20      2.697639\n",
       " 2004-08-23      2.724787\n",
       " 2004-08-24      2.611960\n",
       " 2004-08-25      2.640104\n",
       "                  ...    \n",
       " 2023-01-25     96.730003\n",
       " 2023-01-26     99.160004\n",
       " 2023-01-27    100.709999\n",
       " 2023-01-30     97.949997\n",
       " 2023-01-31     99.870003\n",
       " Name: Adj Close, Length: 4645, dtype: float64}"
      ]
     },
     "execution_count": 33,
     "metadata": {},
     "output_type": "execute_result"
    }
   ],
   "source": [
    "dictionary = {ticker: data['Adj Close'] for ticker, data in all_data.items()}\n",
    "dictionary"
   ]
  },
  {
   "cell_type": "markdown",
   "metadata": {},
   "source": [
    "Let us collect only the [_adjusted stock price_](https://www.investopedia.com/terms/a/adjusted_closing_price.asp) for each company"
   ]
  },
  {
   "cell_type": "code",
   "execution_count": 34,
   "metadata": {},
   "outputs": [
    {
     "data": {
      "text/html": [
       "<div>\n",
       "<style scoped>\n",
       "    .dataframe tbody tr th:only-of-type {\n",
       "        vertical-align: middle;\n",
       "    }\n",
       "\n",
       "    .dataframe tbody tr th {\n",
       "        vertical-align: top;\n",
       "    }\n",
       "\n",
       "    .dataframe thead th {\n",
       "        text-align: right;\n",
       "    }\n",
       "</style>\n",
       "<table border=\"1\" class=\"dataframe\">\n",
       "  <thead>\n",
       "    <tr style=\"text-align: right;\">\n",
       "      <th></th>\n",
       "      <th>AAPL</th>\n",
       "      <th>IBM</th>\n",
       "      <th>MSFT</th>\n",
       "      <th>GOOG</th>\n",
       "    </tr>\n",
       "    <tr>\n",
       "      <th>Date</th>\n",
       "      <th></th>\n",
       "      <th></th>\n",
       "      <th></th>\n",
       "      <th></th>\n",
       "    </tr>\n",
       "  </thead>\n",
       "  <tbody>\n",
       "    <tr>\n",
       "      <th>2004-08-19</th>\n",
       "      <td>0.467460</td>\n",
       "      <td>48.316162</td>\n",
       "      <td>17.112513</td>\n",
       "      <td>2.499133</td>\n",
       "    </tr>\n",
       "    <tr>\n",
       "      <th>2004-08-20</th>\n",
       "      <td>0.468830</td>\n",
       "      <td>48.521061</td>\n",
       "      <td>17.162991</td>\n",
       "      <td>2.697639</td>\n",
       "    </tr>\n",
       "    <tr>\n",
       "      <th>2004-08-23</th>\n",
       "      <td>0.473092</td>\n",
       "      <td>48.179573</td>\n",
       "      <td>17.238932</td>\n",
       "      <td>2.724787</td>\n",
       "    </tr>\n",
       "    <tr>\n",
       "      <th>2004-08-24</th>\n",
       "      <td>0.486335</td>\n",
       "      <td>48.213726</td>\n",
       "      <td>17.238932</td>\n",
       "      <td>2.611960</td>\n",
       "    </tr>\n",
       "    <tr>\n",
       "      <th>2004-08-25</th>\n",
       "      <td>0.503079</td>\n",
       "      <td>48.418617</td>\n",
       "      <td>17.435116</td>\n",
       "      <td>2.640104</td>\n",
       "    </tr>\n",
       "  </tbody>\n",
       "</table>\n",
       "</div>"
      ],
      "text/plain": [
       "                AAPL        IBM       MSFT      GOOG\n",
       "Date                                                \n",
       "2004-08-19  0.467460  48.316162  17.112513  2.499133\n",
       "2004-08-20  0.468830  48.521061  17.162991  2.697639\n",
       "2004-08-23  0.473092  48.179573  17.238932  2.724787\n",
       "2004-08-24  0.486335  48.213726  17.238932  2.611960\n",
       "2004-08-25  0.503079  48.418617  17.435116  2.640104"
      ]
     },
     "execution_count": 34,
     "metadata": {},
     "output_type": "execute_result"
    }
   ],
   "source": [
    "price = pd.DataFrame({ticker: data['Adj Close'] for ticker, data in all_data.items()})\n",
    "price.head()"
   ]
  },
  {
   "cell_type": "code",
   "execution_count": 35,
   "metadata": {},
   "outputs": [
    {
     "data": {
      "text/html": [
       "<div>\n",
       "<style scoped>\n",
       "    .dataframe tbody tr th:only-of-type {\n",
       "        vertical-align: middle;\n",
       "    }\n",
       "\n",
       "    .dataframe tbody tr th {\n",
       "        vertical-align: top;\n",
       "    }\n",
       "\n",
       "    .dataframe thead th {\n",
       "        text-align: right;\n",
       "    }\n",
       "</style>\n",
       "<table border=\"1\" class=\"dataframe\">\n",
       "  <thead>\n",
       "    <tr style=\"text-align: right;\">\n",
       "      <th></th>\n",
       "      <th>AAPL</th>\n",
       "      <th>IBM</th>\n",
       "      <th>MSFT</th>\n",
       "      <th>GOOG</th>\n",
       "    </tr>\n",
       "    <tr>\n",
       "      <th>Date</th>\n",
       "      <th></th>\n",
       "      <th></th>\n",
       "      <th></th>\n",
       "      <th></th>\n",
       "    </tr>\n",
       "  </thead>\n",
       "  <tbody>\n",
       "    <tr>\n",
       "      <th>2023-01-25</th>\n",
       "      <td>141.860001</td>\n",
       "      <td>140.759995</td>\n",
       "      <td>240.610001</td>\n",
       "      <td>96.730003</td>\n",
       "    </tr>\n",
       "    <tr>\n",
       "      <th>2023-01-26</th>\n",
       "      <td>143.960007</td>\n",
       "      <td>134.449997</td>\n",
       "      <td>248.000000</td>\n",
       "      <td>99.160004</td>\n",
       "    </tr>\n",
       "    <tr>\n",
       "      <th>2023-01-27</th>\n",
       "      <td>145.929993</td>\n",
       "      <td>134.389999</td>\n",
       "      <td>248.160004</td>\n",
       "      <td>100.709999</td>\n",
       "    </tr>\n",
       "    <tr>\n",
       "      <th>2023-01-30</th>\n",
       "      <td>143.000000</td>\n",
       "      <td>135.300003</td>\n",
       "      <td>242.710007</td>\n",
       "      <td>97.949997</td>\n",
       "    </tr>\n",
       "    <tr>\n",
       "      <th>2023-01-31</th>\n",
       "      <td>144.289993</td>\n",
       "      <td>134.729996</td>\n",
       "      <td>247.809998</td>\n",
       "      <td>99.870003</td>\n",
       "    </tr>\n",
       "  </tbody>\n",
       "</table>\n",
       "</div>"
      ],
      "text/plain": [
       "                  AAPL         IBM        MSFT        GOOG\n",
       "Date                                                      \n",
       "2023-01-25  141.860001  140.759995  240.610001   96.730003\n",
       "2023-01-26  143.960007  134.449997  248.000000   99.160004\n",
       "2023-01-27  145.929993  134.389999  248.160004  100.709999\n",
       "2023-01-30  143.000000  135.300003  242.710007   97.949997\n",
       "2023-01-31  144.289993  134.729996  247.809998   99.870003"
      ]
     },
     "execution_count": 35,
     "metadata": {},
     "output_type": "execute_result"
    }
   ],
   "source": [
    "price.tail()"
   ]
  },
  {
   "cell_type": "code",
   "execution_count": 36,
   "metadata": {},
   "outputs": [
    {
     "name": "stdout",
     "output_type": "stream",
     "text": [
      "<class 'pandas.core.frame.DataFrame'>\n",
      "DatetimeIndex: 4645 entries, 2004-08-19 to 2023-01-31\n",
      "Data columns (total 4 columns):\n",
      " #   Column  Non-Null Count  Dtype  \n",
      "---  ------  --------------  -----  \n",
      " 0   AAPL    4645 non-null   float64\n",
      " 1   IBM     4645 non-null   float64\n",
      " 2   MSFT    4645 non-null   float64\n",
      " 3   GOOG    4645 non-null   float64\n",
      "dtypes: float64(4)\n",
      "memory usage: 181.4 KB\n"
     ]
    }
   ],
   "source": [
    "price.info()"
   ]
  },
  {
   "cell_type": "markdown",
   "metadata": {},
   "source": [
    "Now, creating a simple plot of the dataframe takes only 1 line"
   ]
  },
  {
   "cell_type": "code",
   "execution_count": 37,
   "metadata": {},
   "outputs": [
    {
     "data": {
      "text/plain": [
       "<AxesSubplot: xlabel='Date'>"
      ]
     },
     "execution_count": 37,
     "metadata": {},
     "output_type": "execute_result"
    },
    {
     "data": {
      "image/png": "[encoded data removed]",
      "text/plain": [
       "<Figure size 1500x500 with 1 Axes>"
      ]
     },
     "metadata": {},
     "output_type": "display_data"
    }
   ],
   "source": [
    "# plotting price dataframe. \n",
    "price.plot(figsize=(15,5))"
   ]
  },
  {
   "cell_type": "markdown",
   "metadata": {},
   "source": [
    "In stock-markets, often one is interested in the _percent changes of the prices_\n",
    "* % change from previous value\n",
    "\n",
    "Let us compute it\n",
    "- Actually, __let us ask Pandas to compute it__ for us!\n",
    "- Method `pct_change()` does precisely this\n",
    "  - Computes the percentage change from the immediately previous row by default. \n",
    "  - This is useful in comparing the percentage of change in a time series of elements."
   ]
  },
  {
   "cell_type": "code",
   "execution_count": 38,
   "metadata": {
    "collapsed": false,
    "editable": true,
    "jupyter": {
     "outputs_hidden": false
    }
   },
   "outputs": [
    {
     "data": {
      "text/html": [
       "<div>\n",
       "<style scoped>\n",
       "    .dataframe tbody tr th:only-of-type {\n",
       "        vertical-align: middle;\n",
       "    }\n",
       "\n",
       "    .dataframe tbody tr th {\n",
       "        vertical-align: top;\n",
       "    }\n",
       "\n",
       "    .dataframe thead th {\n",
       "        text-align: right;\n",
       "    }\n",
       "</style>\n",
       "<table border=\"1\" class=\"dataframe\">\n",
       "  <thead>\n",
       "    <tr style=\"text-align: right;\">\n",
       "      <th></th>\n",
       "      <th>AAPL</th>\n",
       "      <th>IBM</th>\n",
       "      <th>MSFT</th>\n",
       "      <th>GOOG</th>\n",
       "    </tr>\n",
       "    <tr>\n",
       "      <th>Date</th>\n",
       "      <th></th>\n",
       "      <th></th>\n",
       "      <th></th>\n",
       "      <th></th>\n",
       "    </tr>\n",
       "  </thead>\n",
       "  <tbody>\n",
       "    <tr>\n",
       "      <th>2004-08-19</th>\n",
       "      <td>NaN</td>\n",
       "      <td>NaN</td>\n",
       "      <td>NaN</td>\n",
       "      <td>NaN</td>\n",
       "    </tr>\n",
       "    <tr>\n",
       "      <th>2004-08-20</th>\n",
       "      <td>0.002931</td>\n",
       "      <td>0.004241</td>\n",
       "      <td>0.002950</td>\n",
       "      <td>0.079430</td>\n",
       "    </tr>\n",
       "    <tr>\n",
       "      <th>2004-08-23</th>\n",
       "      <td>0.009091</td>\n",
       "      <td>-0.007038</td>\n",
       "      <td>0.004425</td>\n",
       "      <td>0.010064</td>\n",
       "    </tr>\n",
       "    <tr>\n",
       "      <th>2004-08-24</th>\n",
       "      <td>0.027993</td>\n",
       "      <td>0.000709</td>\n",
       "      <td>0.000000</td>\n",
       "      <td>-0.041408</td>\n",
       "    </tr>\n",
       "    <tr>\n",
       "      <th>2004-08-25</th>\n",
       "      <td>0.034429</td>\n",
       "      <td>0.004250</td>\n",
       "      <td>0.011380</td>\n",
       "      <td>0.010775</td>\n",
       "    </tr>\n",
       "  </tbody>\n",
       "</table>\n",
       "</div>"
      ],
      "text/plain": [
       "                AAPL       IBM      MSFT      GOOG\n",
       "Date                                              \n",
       "2004-08-19       NaN       NaN       NaN       NaN\n",
       "2004-08-20  0.002931  0.004241  0.002950  0.079430\n",
       "2004-08-23  0.009091 -0.007038  0.004425  0.010064\n",
       "2004-08-24  0.027993  0.000709  0.000000 -0.041408\n",
       "2004-08-25  0.034429  0.004250  0.011380  0.010775"
      ]
     },
     "execution_count": 38,
     "metadata": {},
     "output_type": "execute_result"
    }
   ],
   "source": [
    "returns = price.pct_change() \n",
    "returns.head()"
   ]
  },
  {
   "cell_type": "code",
   "execution_count": 39,
   "metadata": {},
   "outputs": [
    {
     "data": {
      "text/html": [
       "<div>\n",
       "<style scoped>\n",
       "    .dataframe tbody tr th:only-of-type {\n",
       "        vertical-align: middle;\n",
       "    }\n",
       "\n",
       "    .dataframe tbody tr th {\n",
       "        vertical-align: top;\n",
       "    }\n",
       "\n",
       "    .dataframe thead th {\n",
       "        text-align: right;\n",
       "    }\n",
       "</style>\n",
       "<table border=\"1\" class=\"dataframe\">\n",
       "  <thead>\n",
       "    <tr style=\"text-align: right;\">\n",
       "      <th></th>\n",
       "      <th>AAPL</th>\n",
       "      <th>IBM</th>\n",
       "      <th>MSFT</th>\n",
       "      <th>GOOG</th>\n",
       "    </tr>\n",
       "    <tr>\n",
       "      <th>Date</th>\n",
       "      <th></th>\n",
       "      <th></th>\n",
       "      <th></th>\n",
       "      <th></th>\n",
       "    </tr>\n",
       "  </thead>\n",
       "  <tbody>\n",
       "    <tr>\n",
       "      <th>2004-08-20</th>\n",
       "      <td>0.002931</td>\n",
       "      <td>0.004241</td>\n",
       "      <td>0.002950</td>\n",
       "      <td>0.079430</td>\n",
       "    </tr>\n",
       "    <tr>\n",
       "      <th>2004-08-23</th>\n",
       "      <td>0.009091</td>\n",
       "      <td>-0.007038</td>\n",
       "      <td>0.004425</td>\n",
       "      <td>0.010064</td>\n",
       "    </tr>\n",
       "    <tr>\n",
       "      <th>2004-08-24</th>\n",
       "      <td>0.027993</td>\n",
       "      <td>0.000709</td>\n",
       "      <td>0.000000</td>\n",
       "      <td>-0.041408</td>\n",
       "    </tr>\n",
       "    <tr>\n",
       "      <th>2004-08-25</th>\n",
       "      <td>0.034429</td>\n",
       "      <td>0.004250</td>\n",
       "      <td>0.011380</td>\n",
       "      <td>0.010775</td>\n",
       "    </tr>\n",
       "    <tr>\n",
       "      <th>2004-08-26</th>\n",
       "      <td>0.048714</td>\n",
       "      <td>-0.004467</td>\n",
       "      <td>-0.003993</td>\n",
       "      <td>0.018019</td>\n",
       "    </tr>\n",
       "    <tr>\n",
       "      <th>...</th>\n",
       "      <td>...</td>\n",
       "      <td>...</td>\n",
       "      <td>...</td>\n",
       "      <td>...</td>\n",
       "    </tr>\n",
       "    <tr>\n",
       "      <th>2023-01-25</th>\n",
       "      <td>-0.004701</td>\n",
       "      <td>-0.005159</td>\n",
       "      <td>-0.005908</td>\n",
       "      <td>-0.024997</td>\n",
       "    </tr>\n",
       "    <tr>\n",
       "      <th>2023-01-26</th>\n",
       "      <td>0.014803</td>\n",
       "      <td>-0.044828</td>\n",
       "      <td>0.030714</td>\n",
       "      <td>0.025121</td>\n",
       "    </tr>\n",
       "    <tr>\n",
       "      <th>2023-01-27</th>\n",
       "      <td>0.013684</td>\n",
       "      <td>-0.000446</td>\n",
       "      <td>0.000645</td>\n",
       "      <td>0.015631</td>\n",
       "    </tr>\n",
       "    <tr>\n",
       "      <th>2023-01-30</th>\n",
       "      <td>-0.020078</td>\n",
       "      <td>0.006771</td>\n",
       "      <td>-0.021962</td>\n",
       "      <td>-0.027405</td>\n",
       "    </tr>\n",
       "    <tr>\n",
       "      <th>2023-01-31</th>\n",
       "      <td>0.009021</td>\n",
       "      <td>-0.004213</td>\n",
       "      <td>0.021013</td>\n",
       "      <td>0.019602</td>\n",
       "    </tr>\n",
       "  </tbody>\n",
       "</table>\n",
       "<p>4644 rows × 4 columns</p>\n",
       "</div>"
      ],
      "text/plain": [
       "                AAPL       IBM      MSFT      GOOG\n",
       "Date                                              \n",
       "2004-08-20  0.002931  0.004241  0.002950  0.079430\n",
       "2004-08-23  0.009091 -0.007038  0.004425  0.010064\n",
       "2004-08-24  0.027993  0.000709  0.000000 -0.041408\n",
       "2004-08-25  0.034429  0.004250  0.011380  0.010775\n",
       "2004-08-26  0.048714 -0.004467 -0.003993  0.018019\n",
       "...              ...       ...       ...       ...\n",
       "2023-01-25 -0.004701 -0.005159 -0.005908 -0.024997\n",
       "2023-01-26  0.014803 -0.044828  0.030714  0.025121\n",
       "2023-01-27  0.013684 -0.000446  0.000645  0.015631\n",
       "2023-01-30 -0.020078  0.006771 -0.021962 -0.027405\n",
       "2023-01-31  0.009021 -0.004213  0.021013  0.019602\n",
       "\n",
       "[4644 rows x 4 columns]"
      ]
     },
     "execution_count": 39,
     "metadata": {},
     "output_type": "execute_result"
    }
   ],
   "source": [
    "returns.dropna(inplace=True)\n",
    "returns"
   ]
  },
  {
   "cell_type": "code",
   "execution_count": 40,
   "metadata": {},
   "outputs": [
    {
     "data": {
      "text/plain": [
       "<AxesSubplot: xlabel='Date'>"
      ]
     },
     "execution_count": 40,
     "metadata": {},
     "output_type": "execute_result"
    },
    {
     "data": {
      "image/png": "[encoded data removed]",
      "text/plain": [
       "<Figure size 1500x500 with 1 Axes>"
      ]
     },
     "metadata": {},
     "output_type": "display_data"
    }
   ],
   "source": [
    "returns.plot(figsize=(15,5))"
   ]
  },
  {
   "cell_type": "markdown",
   "metadata": {},
   "source": [
    "Can I smooth the data using moving averages/window averages?"
   ]
  },
  {
   "cell_type": "code",
   "execution_count": 41,
   "metadata": {},
   "outputs": [
    {
     "data": {
      "text/html": [
       "<div>\n",
       "<style scoped>\n",
       "    .dataframe tbody tr th:only-of-type {\n",
       "        vertical-align: middle;\n",
       "    }\n",
       "\n",
       "    .dataframe tbody tr th {\n",
       "        vertical-align: top;\n",
       "    }\n",
       "\n",
       "    .dataframe thead th {\n",
       "        text-align: right;\n",
       "    }\n",
       "</style>\n",
       "<table border=\"1\" class=\"dataframe\">\n",
       "  <thead>\n",
       "    <tr style=\"text-align: right;\">\n",
       "      <th></th>\n",
       "      <th>AAPL</th>\n",
       "      <th>IBM</th>\n",
       "      <th>MSFT</th>\n",
       "      <th>GOOG</th>\n",
       "    </tr>\n",
       "    <tr>\n",
       "      <th>Date</th>\n",
       "      <th></th>\n",
       "      <th></th>\n",
       "      <th></th>\n",
       "      <th></th>\n",
       "    </tr>\n",
       "  </thead>\n",
       "  <tbody>\n",
       "    <tr>\n",
       "      <th>2004-08-20</th>\n",
       "      <td>NaN</td>\n",
       "      <td>NaN</td>\n",
       "      <td>NaN</td>\n",
       "      <td>NaN</td>\n",
       "    </tr>\n",
       "    <tr>\n",
       "      <th>2004-08-23</th>\n",
       "      <td>NaN</td>\n",
       "      <td>NaN</td>\n",
       "      <td>NaN</td>\n",
       "      <td>NaN</td>\n",
       "    </tr>\n",
       "    <tr>\n",
       "      <th>2004-08-24</th>\n",
       "      <td>NaN</td>\n",
       "      <td>NaN</td>\n",
       "      <td>NaN</td>\n",
       "      <td>NaN</td>\n",
       "    </tr>\n",
       "    <tr>\n",
       "      <th>2004-08-25</th>\n",
       "      <td>NaN</td>\n",
       "      <td>NaN</td>\n",
       "      <td>NaN</td>\n",
       "      <td>NaN</td>\n",
       "    </tr>\n",
       "    <tr>\n",
       "      <th>2004-08-26</th>\n",
       "      <td>NaN</td>\n",
       "      <td>NaN</td>\n",
       "      <td>NaN</td>\n",
       "      <td>NaN</td>\n",
       "    </tr>\n",
       "    <tr>\n",
       "      <th>...</th>\n",
       "      <td>...</td>\n",
       "      <td>...</td>\n",
       "      <td>...</td>\n",
       "      <td>...</td>\n",
       "    </tr>\n",
       "    <tr>\n",
       "      <th>2023-01-25</th>\n",
       "      <td>0.008506</td>\n",
       "      <td>-0.000313</td>\n",
       "      <td>0.000494</td>\n",
       "      <td>0.005274</td>\n",
       "    </tr>\n",
       "    <tr>\n",
       "      <th>2023-01-26</th>\n",
       "      <td>0.008806</td>\n",
       "      <td>-0.003796</td>\n",
       "      <td>0.005458</td>\n",
       "      <td>0.007685</td>\n",
       "    </tr>\n",
       "    <tr>\n",
       "      <th>2023-01-27</th>\n",
       "      <td>0.010425</td>\n",
       "      <td>-0.003129</td>\n",
       "      <td>0.007477</td>\n",
       "      <td>0.010185</td>\n",
       "    </tr>\n",
       "    <tr>\n",
       "      <th>2023-01-30</th>\n",
       "      <td>0.006633</td>\n",
       "      <td>-0.003902</td>\n",
       "      <td>0.005227</td>\n",
       "      <td>0.007290</td>\n",
       "    </tr>\n",
       "    <tr>\n",
       "      <th>2023-01-31</th>\n",
       "      <td>0.006962</td>\n",
       "      <td>-0.004113</td>\n",
       "      <td>0.005979</td>\n",
       "      <td>0.008112</td>\n",
       "    </tr>\n",
       "  </tbody>\n",
       "</table>\n",
       "<p>4644 rows × 4 columns</p>\n",
       "</div>"
      ],
      "text/plain": [
       "                AAPL       IBM      MSFT      GOOG\n",
       "Date                                              \n",
       "2004-08-20       NaN       NaN       NaN       NaN\n",
       "2004-08-23       NaN       NaN       NaN       NaN\n",
       "2004-08-24       NaN       NaN       NaN       NaN\n",
       "2004-08-25       NaN       NaN       NaN       NaN\n",
       "2004-08-26       NaN       NaN       NaN       NaN\n",
       "...              ...       ...       ...       ...\n",
       "2023-01-25  0.008506 -0.000313  0.000494  0.005274\n",
       "2023-01-26  0.008806 -0.003796  0.005458  0.007685\n",
       "2023-01-27  0.010425 -0.003129  0.007477  0.010185\n",
       "2023-01-30  0.006633 -0.003902  0.005227  0.007290\n",
       "2023-01-31  0.006962 -0.004113  0.005979  0.008112\n",
       "\n",
       "[4644 rows x 4 columns]"
      ]
     },
     "execution_count": 41,
     "metadata": {},
     "output_type": "execute_result"
    }
   ],
   "source": [
    "returns_smooth=returns.rolling(15).mean()\n",
    "returns_smooth\n",
    "#returns_smooth.head(16)"
   ]
  },
  {
   "cell_type": "markdown",
   "metadata": {},
   "source": [
    "In this case\n",
    "- It makes sense to drop the NA rows..."
   ]
  },
  {
   "cell_type": "code",
   "execution_count": 42,
   "metadata": {},
   "outputs": [
    {
     "data": {
      "text/html": [
       "<div>\n",
       "<style scoped>\n",
       "    .dataframe tbody tr th:only-of-type {\n",
       "        vertical-align: middle;\n",
       "    }\n",
       "\n",
       "    .dataframe tbody tr th {\n",
       "        vertical-align: top;\n",
       "    }\n",
       "\n",
       "    .dataframe thead th {\n",
       "        text-align: right;\n",
       "    }\n",
       "</style>\n",
       "<table border=\"1\" class=\"dataframe\">\n",
       "  <thead>\n",
       "    <tr style=\"text-align: right;\">\n",
       "      <th></th>\n",
       "      <th>AAPL</th>\n",
       "      <th>IBM</th>\n",
       "      <th>MSFT</th>\n",
       "      <th>GOOG</th>\n",
       "    </tr>\n",
       "    <tr>\n",
       "      <th>Date</th>\n",
       "      <th></th>\n",
       "      <th></th>\n",
       "      <th></th>\n",
       "      <th></th>\n",
       "    </tr>\n",
       "  </thead>\n",
       "  <tbody>\n",
       "    <tr>\n",
       "      <th>2004-09-10</th>\n",
       "      <td>0.010591</td>\n",
       "      <td>0.001467</td>\n",
       "      <td>0.001126</td>\n",
       "      <td>0.003639</td>\n",
       "    </tr>\n",
       "    <tr>\n",
       "      <th>2004-09-13</th>\n",
       "      <td>0.009876</td>\n",
       "      <td>0.000977</td>\n",
       "      <td>0.000347</td>\n",
       "      <td>-0.000283</td>\n",
       "    </tr>\n",
       "    <tr>\n",
       "      <th>2004-09-14</th>\n",
       "      <td>0.009082</td>\n",
       "      <td>0.001623</td>\n",
       "      <td>0.000517</td>\n",
       "      <td>0.001520</td>\n",
       "    </tr>\n",
       "    <tr>\n",
       "      <th>2004-09-15</th>\n",
       "      <td>0.006671</td>\n",
       "      <td>0.001307</td>\n",
       "      <td>-0.000090</td>\n",
       "      <td>0.004586</td>\n",
       "    </tr>\n",
       "    <tr>\n",
       "      <th>2004-09-16</th>\n",
       "      <td>0.006554</td>\n",
       "      <td>0.000831</td>\n",
       "      <td>-0.000677</td>\n",
       "      <td>0.005040</td>\n",
       "    </tr>\n",
       "    <tr>\n",
       "      <th>...</th>\n",
       "      <td>...</td>\n",
       "      <td>...</td>\n",
       "      <td>...</td>\n",
       "      <td>...</td>\n",
       "    </tr>\n",
       "    <tr>\n",
       "      <th>2023-01-25</th>\n",
       "      <td>0.008506</td>\n",
       "      <td>-0.000313</td>\n",
       "      <td>0.000494</td>\n",
       "      <td>0.005274</td>\n",
       "    </tr>\n",
       "    <tr>\n",
       "      <th>2023-01-26</th>\n",
       "      <td>0.008806</td>\n",
       "      <td>-0.003796</td>\n",
       "      <td>0.005458</td>\n",
       "      <td>0.007685</td>\n",
       "    </tr>\n",
       "    <tr>\n",
       "      <th>2023-01-27</th>\n",
       "      <td>0.010425</td>\n",
       "      <td>-0.003129</td>\n",
       "      <td>0.007477</td>\n",
       "      <td>0.010185</td>\n",
       "    </tr>\n",
       "    <tr>\n",
       "      <th>2023-01-30</th>\n",
       "      <td>0.006633</td>\n",
       "      <td>-0.003902</td>\n",
       "      <td>0.005227</td>\n",
       "      <td>0.007290</td>\n",
       "    </tr>\n",
       "    <tr>\n",
       "      <th>2023-01-31</th>\n",
       "      <td>0.006962</td>\n",
       "      <td>-0.004113</td>\n",
       "      <td>0.005979</td>\n",
       "      <td>0.008112</td>\n",
       "    </tr>\n",
       "  </tbody>\n",
       "</table>\n",
       "<p>4630 rows × 4 columns</p>\n",
       "</div>"
      ],
      "text/plain": [
       "                AAPL       IBM      MSFT      GOOG\n",
       "Date                                              \n",
       "2004-09-10  0.010591  0.001467  0.001126  0.003639\n",
       "2004-09-13  0.009876  0.000977  0.000347 -0.000283\n",
       "2004-09-14  0.009082  0.001623  0.000517  0.001520\n",
       "2004-09-15  0.006671  0.001307 -0.000090  0.004586\n",
       "2004-09-16  0.006554  0.000831 -0.000677  0.005040\n",
       "...              ...       ...       ...       ...\n",
       "2023-01-25  0.008506 -0.000313  0.000494  0.005274\n",
       "2023-01-26  0.008806 -0.003796  0.005458  0.007685\n",
       "2023-01-27  0.010425 -0.003129  0.007477  0.010185\n",
       "2023-01-30  0.006633 -0.003902  0.005227  0.007290\n",
       "2023-01-31  0.006962 -0.004113  0.005979  0.008112\n",
       "\n",
       "[4630 rows x 4 columns]"
      ]
     },
     "execution_count": 42,
     "metadata": {},
     "output_type": "execute_result"
    }
   ],
   "source": [
    "returns_smooth.dropna(inplace=True)\n",
    "returns_smooth"
   ]
  },
  {
   "cell_type": "code",
   "execution_count": 43,
   "metadata": {},
   "outputs": [
    {
     "data": {
      "text/plain": [
       "<AxesSubplot: xlabel='Date'>"
      ]
     },
     "execution_count": 43,
     "metadata": {},
     "output_type": "execute_result"
    },
    {
     "data": {
      "image/png": "[encoded data removed]",
      "text/plain": [
       "<Figure size 1500x500 with 1 Axes>"
      ]
     },
     "metadata": {},
     "output_type": "display_data"
    }
   ],
   "source": [
    "returns_smooth.plot(figsize=(15,5))"
   ]
  },
  {
   "cell_type": "markdown",
   "metadata": {},
   "source": [
    "DataFrames offer two methods for computing \n",
    "* the __correlation__ among the elements in the DataFrame (`corr`)\n",
    "* the __covariance__ matrix of the DataFrame (`cov`)"
   ]
  },
  {
   "cell_type": "code",
   "execution_count": null,
   "metadata": {},
   "outputs": [],
   "source": [
    "returns"
   ]
  },
  {
   "cell_type": "code",
   "execution_count": null,
   "metadata": {
    "collapsed": false,
    "editable": true,
    "jupyter": {
     "outputs_hidden": false
    }
   },
   "outputs": [],
   "source": [
    "returns.corr()"
   ]
  },
  {
   "cell_type": "code",
   "execution_count": null,
   "metadata": {},
   "outputs": [],
   "source": [
    "returns.corr().style.background_gradient(cmap='Reds')"
   ]
  },
  {
   "cell_type": "code",
   "execution_count": null,
   "metadata": {},
   "outputs": [],
   "source": [
    "returns.cov()"
   ]
  },
  {
   "cell_type": "code",
   "execution_count": null,
   "metadata": {},
   "outputs": [],
   "source": [
    "returns.cov().style.background_gradient(cmap='Reds')"
   ]
  },
  {
   "cell_type": "markdown",
   "metadata": {},
   "source": [
    "# More on plotting: More complex application to Italian COVID data\n",
    "Pandas offers a number of plotting methods for DataFrame objects"
   ]
  },
  {
   "cell_type": "code",
   "execution_count": null,
   "metadata": {},
   "outputs": [],
   "source": [
    "#%pip install matplotlib\n",
    "\n",
    "#import sys\n",
    "#!\"{sys.executable}\" -m pip install matplotlib"
   ]
  },
  {
   "cell_type": "markdown",
   "metadata": {},
   "source": [
    "The Italian Civil Protection Department publishes everyday [data on the status of the COVID-19 epidemy in Italy](https://github.com/pcm-dpc/COVID-19)\n",
    "\n",
    "The repository contains trend data of the COVID'19 pandemic in Italy\n",
    "- ‘dati-andamento-nazionale’ (national-level), \n",
    "- ‘dati-regioni’ (regional-level),\n",
    "- ‘dati-province’ (province-level) "
   ]
  },
  {
   "cell_type": "code",
   "execution_count": null,
   "metadata": {},
   "outputs": [],
   "source": [
    "import numpy as np\n",
    "import pandas as pd \n",
    "import matplotlib.pyplot as plt\n",
    "#import warnings\n",
    "#warnings.filterwarnings(\"ignore\")"
   ]
  },
  {
   "cell_type": "markdown",
   "metadata": {},
   "source": [
    "## Line Plots\n",
    "Series and DataFrame each have a plot method for making many different types of plots\n",
    "* By default, they make line plots "
   ]
  },
  {
   "cell_type": "markdown",
   "metadata": {},
   "source": [
    "Let's load again the national-level COVID'19 data\n",
    "- We set the date (`data`) as the index column\n",
    "- We tell pandas to interpret such column as a datetime type"
   ]
  },
  {
   "cell_type": "code",
   "execution_count": null,
   "metadata": {},
   "outputs": [],
   "source": [
    "# load data relating to the national trend of SARS-CoV-2 spread on Pandas DataFrame\n",
    "url_dpc_nazionale = 'https://raw.githubusercontent.com/pcm-dpc/COVID-19/master/dati-andamento-nazionale/dpc-covid19-ita-andamento-nazionale.csv'\n",
    "covid_italy = pd.read_csv(url_dpc_nazionale, index_col='data')\n",
    "covid_italy.tail()"
   ]
  },
  {
   "cell_type": "markdown",
   "metadata": {},
   "source": [
    "Pandas considers the date as a string\n",
    "- Let's tell to pands that it is a date\n",
    "- This will allow us to reason in terms of time"
   ]
  },
  {
   "cell_type": "code",
   "execution_count": null,
   "metadata": {},
   "outputs": [],
   "source": [
    "covid_italy.info()"
   ]
  },
  {
   "cell_type": "code",
   "execution_count": null,
   "metadata": {},
   "outputs": [],
   "source": [
    "print(covid_italy.index)\n",
    "covid_italy.index = pd.to_datetime(covid_italy.index) # converts 'data' column from object to datatime type\n",
    "#covid_italy.tail()\n",
    "print()\n",
    "print(covid_italy.index)"
   ]
  },
  {
   "cell_type": "markdown",
   "metadata": {},
   "source": [
    "Let us focucs only on\n",
    "- currently infected (`totale_positivi`)\n",
    "- overall recovered (`dimessi_guariti`)\n",
    "- overall deceased (`deceduti`)"
   ]
  },
  {
   "cell_type": "code",
   "execution_count": null,
   "metadata": {},
   "outputs": [],
   "source": [
    "covid_italy_filter = covid_italy[['totale_positivi','dimessi_guariti','deceduti' ]]\n",
    "covid_italy_filter"
   ]
  },
  {
   "cell_type": "markdown",
   "metadata": {},
   "source": [
    "During the peek in Spring 2020, the Italian government made a number of urgent decrees (links in Italian)\n",
    "- Decree \"Zone Rosse\"\n",
    "  - Some areas were classified as _red zones_, i.e. put in lockdown\n",
    "- Decree [\"Io resto a casa\"](https://www.agenziacoesione.gov.it/news_istituzionali/emergenza-epidemiologica-covid-19-fine-al-25-marzo-stop-alle-attivita-commerciali-al-dettaglio-in-tutta-italia-dpcm-11-marzo-2020/)\n",
    "  - Only the _necessary_ industrial and commercial production activities were left open nation-wide\n",
    "  - Not movements outside the city of residence\n",
    "- Decree [\"Chiudi Italia\"](http://www.governo.it/it/articolo/coronavirus-firmato-il-dpcm-22-marzo-2020/14363)\n",
    "  - Hard lockdown nation-wide\n",
    "- Decree [\"Fase 2\"](http://www.salute.gov.it/portale/news/p3_2_1_1_1.jsp?lingua=italiano&menu=notizie&p=dalministero&id=4763)\n",
    "  - Partial re-opening\n",
    "  \n",
    "Let us look at **how were the numbers at that time**"
   ]
  },
  {
   "cell_type": "code",
   "execution_count": null,
   "metadata": {},
   "outputs": [],
   "source": [
    "from datetime import datetime\n",
    "\n",
    "# We now create the plot\n",
    "covid_italy_filter.plot(figsize=(20, 7), linewidth=3, alpha=0.8, title=\"Italian National trend of COVID19\") \n",
    "\n",
    "# and add annotations\n",
    "annotations = {datetime(2020, 3, 1) :'Decreto \"Zone rosse\"',\n",
    "               datetime(2020, 3, 9) :'Decreto \"Io resto a casa\"',\n",
    "               datetime(2020, 3, 22):'Decreto \"Chiudi Italia\"',\n",
    "               datetime(2020, 5, 4) :'Decreto \"Fase 2\"'}\n",
    " \n",
    "for d,a in annotations.items():\n",
    "    plt.annotate(a,(d, 0), rotation=90, horizontalalignment='right')\n",
    "    plt.axvline(d, color='k', linestyle='--')   \n",
    "    \n",
    "plt.show()"
   ]
  },
  {
   "cell_type": "markdown",
   "metadata": {},
   "source": [
    "We have too many data points \n",
    "- making it difficult to focus on the 4 dates of interest\n",
    "\n",
    "Let's hide some\n",
    "- using `iloc` to consider the first 100 rows\n",
    "- using `loc` to consider the rows with date before June\n",
    "- using `drop` to drop the rows from June onward\n",
    "\n",
    "But first, let's create a function to add annotations to the _current_ plot"
   ]
  },
  {
   "cell_type": "code",
   "execution_count": null,
   "metadata": {},
   "outputs": [],
   "source": [
    "def add_annotations():\n",
    "    # and add annotations\n",
    "    annotations = {datetime(2020, 3, 1) :'Decreto \"Zone rosse\"',\n",
    "                   datetime(2020, 3, 9) :'Decreto \"Io resto a casa\"',\n",
    "                   datetime(2020, 3, 22):'Decreto \"Chiudi Italia\"',\n",
    "                   datetime(2020, 5, 4) :'Decreto \"Fase 2\"'}\n",
    " \n",
    "    for d,a in annotations.items():\n",
    "        plt.annotate(a,(d, 0), rotation=90, horizontalalignment='right')\n",
    "        plt.axvline(d, color='k', linestyle='--')   "
   ]
  },
  {
   "cell_type": "code",
   "execution_count": null,
   "metadata": {},
   "outputs": [],
   "source": [
    "#Symbol \\ allows to split a line in two\n",
    "covid_italy_filter.iloc[:100].plot(figsize=(20, 7), linewidth=3, alpha=0.8, \\\n",
    "                                   title=\"Italian National trend of COVID19\") \n",
    "add_annotations() \n",
    "plt.show()"
   ]
  },
  {
   "cell_type": "code",
   "execution_count": null,
   "metadata": {},
   "outputs": [],
   "source": [
    "covid_italy_filter.loc[covid_italy_filter.index<= datetime(2020, 6, 1)].plot(figsize=(20, 7), \\\n",
    "    linewidth=3, alpha=0.8, title=\"Italian National trend of COVID19\") \n",
    "add_annotations()     \n",
    "plt.show()"
   ]
  },
  {
   "cell_type": "code",
   "execution_count": null,
   "metadata": {},
   "outputs": [],
   "source": [
    "covid_italy_filter.drop(covid_italy_filter[covid_italy_filter.index > datetime(2020, 6, 1)].index).plot(figsize=(20, 7), linewidth=3, alpha=0.8, title=\"Italian National trend of COVID19\") \n",
    "add_annotations()     \n",
    "plt.show()"
   ]
  },
  {
   "cell_type": "markdown",
   "metadata": {},
   "source": [
    "What about recent months?"
   ]
  },
  {
   "cell_type": "code",
   "execution_count": null,
   "metadata": {},
   "outputs": [],
   "source": [
    "covid_italy_filter.loc[covid_italy_filter.index>= datetime(2021, 10, 1)].plot(figsize=(20, 7), \\\n",
    "                                                        linewidth=3, alpha=0.8, title=\"Since end of 2021\") \n",
    "\n"
   ]
  },
  {
   "cell_type": "markdown",
   "metadata": {},
   "source": [
    "## Bar Plots\n",
    "Making bar plots instead of line plots is as simple as passing \n",
    "* `kind='bar'` (for vertical bars) or \n",
    "* `kind='barh'` (for horizontal bars)."
   ]
  },
  {
   "cell_type": "code",
   "execution_count": null,
   "metadata": {},
   "outputs": [],
   "source": [
    "# load data relating to the regional trend of SARS-CoV-2 spread\n",
    "url_dpc_regioni = 'https://raw.githubusercontent.com/pcm-dpc/COVID-19/master/dati-regioni/dpc-covid19-ita-regioni.csv'\n",
    "covid_regions = pd.read_csv(url_dpc_regioni)\n",
    "covid_regions.index = pd.to_datetime(covid_regions.data)\n",
    "covid_regions = covid_regions.rename(columns={'denominazione_regione': 'regione'})\n",
    "\n",
    "# get last day data\n",
    "cov_regions_last_day = covid_regions[covid_regions.data ==  covid_regions.data.iloc[-1]] # get last day data\n",
    "cov_regions_last_day.index = cov_regions_last_day.regione # set Region as index\n",
    "\n",
    "#drop some unnecessary columns\n",
    "cov_regions_last_day = cov_regions_last_day.drop(['lat','long','codice_regione',\"stato\",\"regione\",\"note\"], axis = 1)\n",
    "\n",
    "#Let's get the data of interest (Deceduti vs Positivi) and plot them\n",
    "title = f\" Deceduti vs Positivi updated at {covid_regions.index[-1].strftime('%D')}\"\n",
    "#Here we are using 'bar!'\n",
    "cov_regions_last_day[['totale_ospedalizzati','isolamento_domiciliare','totale_positivi','deceduti']].plot(kind='bar', figsize =(20,7),grid=True,title=title)\n",
    "\n",
    "#plt.show()"
   ]
  },
  {
   "cell_type": "code",
   "execution_count": null,
   "metadata": {},
   "outputs": [],
   "source": [
    "cov_regions_last_day[['totale_ospedalizzati','isolamento_domiciliare','totale_positivi','deceduti']]"
   ]
  },
  {
   "cell_type": "markdown",
   "metadata": {},
   "source": [
    "### Stacked bar plots\n",
    "Stacked bar plots are created from a DataFrame by passing `stacked=True`, \n",
    "- resulting in the value in each row being stacked together\n",
    "\n",
    "Let's compare 'terapia_intensiva' and 'totale_ospedalizzati' on latest day"
   ]
  },
  {
   "cell_type": "code",
   "execution_count": null,
   "metadata": {},
   "outputs": [],
   "source": [
    "title = f\"Positivi updated at {covid_regions.index[-1].strftime('%D')}\"\n",
    "cov_regions_last_day[['terapia_intensiva','totale_ospedalizzati']].plot(kind='bar', stacked=True, figsize =(20,7),grid=True,title=title)\n",
    "plt.show()"
   ]
  },
  {
   "cell_type": "markdown",
   "metadata": {},
   "source": [
    "## Scatter Matrix \n",
    "In exploratory data analysis it is helpful to look at how pairs of variables relate to each other\n",
    "* we are interested in _plots relating pairs of variables_\n",
    "* this is known as a _pairs plot_ or _scatter plot matrix_. \n",
    "\n",
    "Making such a plot from scratch requires a bit of work. \n",
    "* Luckily pandas has a `scatter_matrix` function for creating one from a DataFrame. \n",
    "* It also supports placing histograms or density plots of each variable along the diagonal."
   ]
  },
  {
   "cell_type": "code",
   "execution_count": null,
   "metadata": {},
   "outputs": [],
   "source": [
    "covid_italy = pd.read_csv(url_dpc_nazionale, index_col='data')\n",
    "covid_italy.index = pd.to_datetime(covid_italy.index) # converts 'data' column from object to datatime type\n",
    "covid_italy.tail()"
   ]
  },
  {
   "cell_type": "code",
   "execution_count": null,
   "metadata": {},
   "outputs": [],
   "source": [
    "#drop unnecessary columns\n",
    "covid_italy.drop(columns=[\"note_test\",\"note_casi\"], inplace=True)"
   ]
  },
  {
   "cell_type": "code",
   "execution_count": null,
   "metadata": {},
   "outputs": [],
   "source": [
    "covid_italy['totale_casi']"
   ]
  },
  {
   "cell_type": "code",
   "execution_count": null,
   "metadata": {},
   "outputs": [],
   "source": [
    "covid_italy['terapia_intensiva']"
   ]
  },
  {
   "cell_type": "code",
   "execution_count": null,
   "metadata": {},
   "outputs": [],
   "source": [
    "pd.plotting.scatter_matrix(covid_italy,figsize =(20,25),  color='k', alpha=0.3)\n",
    "plt.show()"
   ]
  },
  {
   "cell_type": "markdown",
   "metadata": {},
   "source": [
    "Too much data here!\n",
    "- let's remove some more mostly empty rows"
   ]
  },
  {
   "cell_type": "code",
   "execution_count": null,
   "metadata": {},
   "outputs": [],
   "source": [
    "covid_italy[[\"totale_positivi_test_molecolare\",\"totale_positivi_test_antigenico_rapido\",\\\n",
    "             \"tamponi_test_molecolare\",\"tamponi_test_antigenico_rapido\"]]"
   ]
  },
  {
   "cell_type": "code",
   "execution_count": null,
   "metadata": {},
   "outputs": [],
   "source": [
    "covid_italy.drop(columns=[\"totale_positivi_test_molecolare\",\"totale_positivi_test_antigenico_rapido\",\"tamponi_test_molecolare\",\"tamponi_test_antigenico_rapido\"], inplace=True)\n",
    "pd.plotting.scatter_matrix(covid_italy,figsize =(20,25),  color='k', alpha=0.3)\n",
    "plt.show()"
   ]
  },
  {
   "cell_type": "code",
   "execution_count": null,
   "metadata": {},
   "outputs": [],
   "source": []
  }
 ],
 "metadata": {
  "kernelspec": {
   "display_name": "env_pdai_2023",
   "language": "python",
   "name": "env_pdai_2023"
  },
  "language_info": {
   "codemirror_mode": {
    "name": "ipython",
    "version": 3
   },
   "file_extension": ".py",
   "mimetype": "text/x-python",
   "name": "python",
   "nbconvert_exporter": "python",
   "pygments_lexer": "ipython3",
   "version": "3.9.10"
  },
  "toc-autonumbering": true,
  "toc-showcode": false,
  "toc-showmarkdowntxt": false
 },
 "nbformat": 4,
 "nbformat_minor": 4
}
